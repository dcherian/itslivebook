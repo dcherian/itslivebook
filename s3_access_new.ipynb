{
 "cells": [
  {
   "cell_type": "markdown",
   "metadata": {},
   "source": [
    "# Accessing ITS_LIVE data hosted by AWS\n",
    "- this is a notebook from Scott H"
   ]
  },
  {
   "cell_type": "markdown",
   "metadata": {},
   "source": [
    "## Which AWS data center hosts the data?\n",
    "\n",
    "**AWS us-east-1**\n",
    "\n",
    "check this at: "
   ]
  },
  {
   "cell_type": "code",
   "execution_count": null,
   "metadata": {},
   "outputs": [],
   "source": [
    "!nslookup https://its-live-data.s3.amazonaws.com"
   ]
  },
  {
   "cell_type": "markdown",
   "metadata": {},
   "source": [
    "## Checking if data available over certain regions"
   ]
  },
  {
   "cell_type": "code",
   "execution_count": null,
   "metadata": {},
   "outputs": [],
   "source": [
    "import geopandas as gpd"
   ]
  },
  {
   "cell_type": "code",
   "execution_count": null,
   "metadata": {},
   "outputs": [],
   "source": [
    "gf_all = gpd.read_file('https://its-live-data.s3.amazonaws.com/datacubes/catalog_v02.json')\n"
   ]
  },
  {
   "cell_type": "code",
   "execution_count": null,
   "metadata": {},
   "outputs": [],
   "source": [
    "gf_all.head(4)"
   ]
  },
  {
   "cell_type": "code",
   "execution_count": null,
   "metadata": {},
   "outputs": [],
   "source": [
    "type(gf_all)"
   ]
  },
  {
   "cell_type": "code",
   "execution_count": null,
   "metadata": {},
   "outputs": [],
   "source": [
    "gf_all.explore()"
   ]
  },
  {
   "cell_type": "code",
   "execution_count": null,
   "metadata": {},
   "outputs": [],
   "source": [
    "\n",
    "\n",
    "# geopandas crop to himat\n",
    "xmin = 70\n",
    "xmax = 110\n",
    "ymin = 25\n",
    "ymax = 50\n",
    "gf = gf_all.cx[xmin:xmax, ymin:ymax]\n",
    "len(gf)"
   ]
  },
  {
   "cell_type": "code",
   "execution_count": null,
   "metadata": {},
   "outputs": [],
   "source": [
    "gf.explore()"
   ]
  },
  {
   "cell_type": "code",
   "execution_count": null,
   "metadata": {},
   "outputs": [],
   "source": [
    "url = gf.iloc[0].zarr_url\n",
    "url"
   ]
  },
  {
   "cell_type": "code",
   "execution_count": null,
   "metadata": {},
   "outputs": [],
   "source": [
    "s3obj = url.replace('.s3.amazonaws.com', '').replace('http://', 's3://')\n",
    "s3obj"
   ]
  },
  {
   "cell_type": "markdown",
   "metadata": {},
   "source": [
    "## Do all of these s3 zarr objects exist? How much space do they take up? "
   ]
  },
  {
   "cell_type": "markdown",
   "metadata": {},
   "source": [
    "**having trouble downloading aws cli** sent email to help desk about getting permissions"
   ]
  },
  {
   "cell_type": "code",
   "execution_count": null,
   "metadata": {},
   "outputs": [],
   "source": [
    "!aws --no-sign-request s3 ls {s3obj}/"
   ]
  },
  {
   "cell_type": "code",
   "execution_count": null,
   "metadata": {},
   "outputs": [],
   "source": [
    "import s3fs\n",
    "fs  = s3fs.S3FileSystem(anon=True)"
   ]
  },
  {
   "cell_type": "code",
   "execution_count": null,
   "metadata": {},
   "outputs": [],
   "source": [
    "#make the s3 url a col in the gdf\n",
    "gf['zarr_s3'] = gf.zarr_url.str.replace('.s3.amazonaws.com','').str.replace('http://','s3://')\n"
   ]
  },
  {
   "cell_type": "code",
   "execution_count": null,
   "metadata": {},
   "outputs": [],
   "source": [
    "#also save the index as a column (tile id)\n",
    "gf['tile_id'] = gf.index"
   ]
  },
  {
   "cell_type": "code",
   "execution_count": null,
   "metadata": {},
   "outputs": [],
   "source": [
    "gf.iloc[0]"
   ]
  },
  {
   "cell_type": "code",
   "execution_count": null,
   "metadata": {},
   "outputs": [],
   "source": [
    "# 'datacube_exist' is a col in gf\n",
    "# unique() returns unique values of series object\n",
    "gf.datacube_exist.unique()"
   ]
  },
  {
   "cell_type": "code",
   "execution_count": null,
   "metadata": {},
   "outputs": [],
   "source": []
  },
  {
   "cell_type": "markdown",
   "metadata": {},
   "source": [
    "`lexists` is a method to check whetehr a given path exists or not. supply: `os.path.lexists(path)` that you can apply to the fs object (type = s3fs.core.S3FileSystem)"
   ]
  },
  {
   "cell_type": "code",
   "execution_count": null,
   "metadata": {},
   "outputs": [],
   "source": [
    "\n",
    "gf['path_exists'] = gf.zarr_s3.apply(lambda x: fs.lexists(x))"
   ]
  },
  {
   "cell_type": "code",
   "execution_count": null,
   "metadata": {},
   "outputs": [],
   "source": [
    "gf.path_exists.unique()\n"
   ]
  },
  {
   "cell_type": "markdown",
   "metadata": {},
   "source": [
    "Use `groupby` to check which of the supplied zarr urls for hma exist:"
   ]
  },
  {
   "cell_type": "code",
   "execution_count": null,
   "metadata": {},
   "outputs": [],
   "source": [
    "gf.groupby('path_exists')['zarr_url'].count()"
   ]
  },
  {
   "cell_type": "markdown",
   "metadata": {},
   "source": [
    "### Which s3 paths don't exist?"
   ]
  },
  {
   "cell_type": "code",
   "execution_count": null,
   "metadata": {},
   "outputs": [],
   "source": [
    "gf.head(2)\n"
   ]
  },
  {
   "cell_type": "code",
   "execution_count": null,
   "metadata": {},
   "outputs": [],
   "source": [
    "gf['path_exists'] = gf.path_exists.astype(str)\n",
    "gf.explore(column = 'path_exists',\n",
    "                    cmap = 'Set1',\n",
    "                    #tiles = 'https://glaceirflow.nyc3.digitaloceanspaces.com/webmaps/vel_map/{z}/{x}/{y}.png',\n",
    "                    tiles = 'OpenStreetMap',\n",
    "                    attr = 'ITS_LIVE Velocity Mosaic')"
   ]
  },
  {
   "cell_type": "code",
   "execution_count": null,
   "metadata": {},
   "outputs": [],
   "source": [
    "import xarray as xr"
   ]
  },
  {
   "cell_type": "code",
   "execution_count": null,
   "metadata": {},
   "outputs": [],
   "source": [
    "#Select Zarr s3 url by index\n",
    "# 225 (75.61, 35.96)\n",
    "# 226 (75.53, 36.17)\n",
    "\n",
    "TILEID = 226\n",
    "LON, LAT = (75.53, 36.17)\n",
    "\n",
    "s3obj = gf.loc[TILEID].zarr_s3\n",
    "s3obj"
   ]
  },
  {
   "cell_type": "code",
   "execution_count": null,
   "metadata": {},
   "outputs": [],
   "source": [
    "%%time\n",
    "\n",
    "ds = xr.open_dataset(s3obj, \n",
    "                    storage_options = {'anon':True},\n",
    "                    chunks = 'auto',\n",
    "                    engine = 'zarr')"
   ]
  },
  {
   "cell_type": "code",
   "execution_count": null,
   "metadata": {},
   "outputs": [],
   "source": [
    "ds.vx"
   ]
  },
  {
   "cell_type": "code",
   "execution_count": null,
   "metadata": {},
   "outputs": [],
   "source": [
    "ds.vx.encoding"
   ]
  },
  {
   "cell_type": "code",
   "execution_count": null,
   "metadata": {},
   "outputs": [],
   "source": [
    "import hvplot.xarray"
   ]
  },
  {
   "cell_type": "code",
   "execution_count": null,
   "metadata": {},
   "outputs": [],
   "source": [
    "import pyproj\n",
    "UTM = pyproj.CRS.from_epsg(ds.attrs['projection'])\n",
    "LONLAT = pyproj.CRS.from_epsg(4326)\n",
    "proj = pyproj.Transformer.from_crs(LONLAT, UTM, always_xy=True)\n",
    "\n",
    "utmX,utmY = proj.transform(LON, LAT)\n"
   ]
  },
  {
   "cell_type": "code",
   "execution_count": null,
   "metadata": {},
   "outputs": [],
   "source": [
    "%%time \n",
    "\n",
    "# Timeseries plots should be fast, but where to select? lots of nans...\n",
    "\n",
    "ds.v.sel(x=utmX, y=utmY, method='nearest').hvplot.scatter()"
   ]
  },
  {
   "cell_type": "code",
   "execution_count": null,
   "metadata": {},
   "outputs": [],
   "source": []
  }
 ],
 "metadata": {
  "kernelspec": {
   "display_name": "mynewbook",
   "language": "python",
   "name": "mynewbook"
  },
  "language_info": {
   "codemirror_mode": {
    "name": "ipython",
    "version": 3
   },
   "file_extension": ".py",
   "mimetype": "text/x-python",
   "name": "python",
   "nbconvert_exporter": "python",
   "pygments_lexer": "ipython3",
   "version": "3.10.4"
  },
  "orig_nbformat": 4
 },
 "nbformat": 4,
 "nbformat_minor": 2
}
