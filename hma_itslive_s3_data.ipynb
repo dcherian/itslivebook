{
 "cells": [
  {
   "cell_type": "markdown",
   "metadata": {},
   "source": [
    "# Accessing ITS_LIVE data via S3 bucket\n",
    "- looks like some (at least 1?) HMA granule is working now\n",
    "- let's try to explore the different 32645 granules, see what is available and what their spatial coverage/relationship is"
   ]
  },
  {
   "cell_type": "code",
   "execution_count": 1,
   "metadata": {},
   "outputs": [],
   "source": [
    "import geopandas as gpd\n",
    "import os\n",
    "import numpy as np\n",
    "import xarray as xr\n",
    "import rioxarray as rxr\n",
    "import matplotlib.pyplot as plt\n",
    "from geocube.api.core import make_geocube\n",
    "from shapely.geometry import Polygon\n",
    "import cartopy.crs as ccrs\n",
    "\n"
   ]
  },
  {
   "cell_type": "markdown",
   "metadata": {},
   "source": [
    "## Function that we'll use later to see spatial extent of different zarr objects"
   ]
  },
  {
   "cell_type": "code",
   "execution_count": 2,
   "metadata": {},
   "outputs": [],
   "source": [
    "def get_bbox(input_xr):\n",
    "\n",
    "    xmin = input_xr.coords['x'].data.min()\n",
    "    xmax = input_xr.coords['x'].data.max()\n",
    "\n",
    "    ymin = input_xr.coords['y'].data.min()\n",
    "    ymax = input_xr.coords['y'].data.max()\n",
    "\n",
    "    pts_ls = [(xmin, ymin), (xmax, ymin),(xmax, ymax), (xmin, ymax), (xmin, ymin)]\n",
    "\n",
    "    crs = {'init':f'epsg:{input_xr.mapping.spatial_epsg}'}\n",
    "    polygon_geom = Polygon(pts_ls)\n",
    "    polygon = gpd.GeoDataFrame(index=[0], crs=crs, geometry=[polygon_geom])  \n",
    "\n",
    "    fig, ax = plt.subplots()\n",
    "    ax = plt.axes(projection=ccrs.UTM(zone = 45, southern_hemisphere=False))\n",
    "    input_xr.v.plot(ax=ax)\n",
    "    polygon.plot(ax=ax, facecolor='none', edgecolor='red') \n",
    "\n",
    "\n",
    "    #class cartopy.crs.UTM(zone, southern_hemisphere=False, globe=None)\n",
    "\n",
    "    return polygon    \n",
    "\n"
   ]
  },
  {
   "cell_type": "markdown",
   "metadata": {},
   "source": [
    "First zarr url (getting these from the itslive s3 data cube catalog)"
   ]
  },
  {
   "cell_type": "code",
   "execution_count": 3,
   "metadata": {},
   "outputs": [
    {
     "name": "stderr",
     "output_type": "stream",
     "text": [
      "/var/folders/y9/k06gyzdx25z64l_tdt_q2xv9s680sz/T/ipykernel_17703/2145342222.py:3: RuntimeWarning: Failed to open Zarr store with consolidated metadata, falling back to try reading non-consolidated metadata. This is typically much slower for opening a dataset. To silence this warning, consider:\n",
      "1. Consolidating metadata in this existing store with zarr.consolidate_metadata().\n",
      "2. Explicitly setting consolidated=False, to avoid trying to read consolidate metadata, or\n",
      "3. Explicitly setting consolidated=True, to raise an error in this case instead of falling back to try reading non-consolidated metadata.\n",
      "  ds_32645_x350000_y3050000 = xr.open_dataset(zarr_32645_x350000_y3050000, engine = 'zarr',\n"
     ]
    },
    {
     "ename": "GroupNotFoundError",
     "evalue": "group not found at path ''",
     "output_type": "error",
     "traceback": [
      "\u001b[0;31m---------------------------------------------------------------------------\u001b[0m",
      "\u001b[0;31mNoSuchKey\u001b[0m                                 Traceback (most recent call last)",
      "File \u001b[0;32m~/miniconda3/envs/mynewbook/lib/python3.10/site-packages/s3fs/core.py:110\u001b[0m, in \u001b[0;36m_error_wrapper\u001b[0;34m(func, args, kwargs, retries)\u001b[0m\n\u001b[1;32m    <a href='file:///Users/emarshall/miniconda3/envs/mynewbook/lib/python3.10/site-packages/s3fs/core.py?line=108'>109</a>\u001b[0m \u001b[39mtry\u001b[39;00m:\n\u001b[0;32m--> <a href='file:///Users/emarshall/miniconda3/envs/mynewbook/lib/python3.10/site-packages/s3fs/core.py?line=109'>110</a>\u001b[0m     \u001b[39mreturn\u001b[39;00m \u001b[39mawait\u001b[39;00m func(\u001b[39m*\u001b[39margs, \u001b[39m*\u001b[39m\u001b[39m*\u001b[39mkwargs)\n\u001b[1;32m    <a href='file:///Users/emarshall/miniconda3/envs/mynewbook/lib/python3.10/site-packages/s3fs/core.py?line=110'>111</a>\u001b[0m \u001b[39mexcept\u001b[39;00m S3_RETRYABLE_ERRORS \u001b[39mas\u001b[39;00m e:\n",
      "File \u001b[0;32m~/miniconda3/envs/mynewbook/lib/python3.10/site-packages/aiobotocore/client.py:265\u001b[0m, in \u001b[0;36mAioBaseClient._make_api_call\u001b[0;34m(self, operation_name, api_params)\u001b[0m\n\u001b[1;32m    <a href='file:///Users/emarshall/miniconda3/envs/mynewbook/lib/python3.10/site-packages/aiobotocore/client.py?line=263'>264</a>\u001b[0m     error_class \u001b[39m=\u001b[39m \u001b[39mself\u001b[39m\u001b[39m.\u001b[39mexceptions\u001b[39m.\u001b[39mfrom_code(error_code)\n\u001b[0;32m--> <a href='file:///Users/emarshall/miniconda3/envs/mynewbook/lib/python3.10/site-packages/aiobotocore/client.py?line=264'>265</a>\u001b[0m     \u001b[39mraise\u001b[39;00m error_class(parsed_response, operation_name)\n\u001b[1;32m    <a href='file:///Users/emarshall/miniconda3/envs/mynewbook/lib/python3.10/site-packages/aiobotocore/client.py?line=265'>266</a>\u001b[0m \u001b[39melse\u001b[39;00m:\n",
      "\u001b[0;31mNoSuchKey\u001b[0m: An error occurred (NoSuchKey) when calling the GetObject operation: The specified key does not exist.",
      "\nThe above exception was the direct cause of the following exception:\n",
      "\u001b[0;31mFileNotFoundError\u001b[0m                         Traceback (most recent call last)",
      "File \u001b[0;32m~/miniconda3/envs/mynewbook/lib/python3.10/site-packages/fsspec/mapping.py:137\u001b[0m, in \u001b[0;36mFSMap.__getitem__\u001b[0;34m(self, key, default)\u001b[0m\n\u001b[1;32m    <a href='file:///Users/emarshall/miniconda3/envs/mynewbook/lib/python3.10/site-packages/fsspec/mapping.py?line=135'>136</a>\u001b[0m \u001b[39mtry\u001b[39;00m:\n\u001b[0;32m--> <a href='file:///Users/emarshall/miniconda3/envs/mynewbook/lib/python3.10/site-packages/fsspec/mapping.py?line=136'>137</a>\u001b[0m     result \u001b[39m=\u001b[39m \u001b[39mself\u001b[39;49m\u001b[39m.\u001b[39;49mfs\u001b[39m.\u001b[39;49mcat(k)\n\u001b[1;32m    <a href='file:///Users/emarshall/miniconda3/envs/mynewbook/lib/python3.10/site-packages/fsspec/mapping.py?line=137'>138</a>\u001b[0m \u001b[39mexcept\u001b[39;00m \u001b[39mself\u001b[39m\u001b[39m.\u001b[39mmissing_exceptions:\n",
      "File \u001b[0;32m~/miniconda3/envs/mynewbook/lib/python3.10/site-packages/fsspec/asyn.py:86\u001b[0m, in \u001b[0;36msync_wrapper.<locals>.wrapper\u001b[0;34m(*args, **kwargs)\u001b[0m\n\u001b[1;32m     <a href='file:///Users/emarshall/miniconda3/envs/mynewbook/lib/python3.10/site-packages/fsspec/asyn.py?line=84'>85</a>\u001b[0m \u001b[39mself\u001b[39m \u001b[39m=\u001b[39m obj \u001b[39mor\u001b[39;00m args[\u001b[39m0\u001b[39m]\n\u001b[0;32m---> <a href='file:///Users/emarshall/miniconda3/envs/mynewbook/lib/python3.10/site-packages/fsspec/asyn.py?line=85'>86</a>\u001b[0m \u001b[39mreturn\u001b[39;00m sync(\u001b[39mself\u001b[39;49m\u001b[39m.\u001b[39;49mloop, func, \u001b[39m*\u001b[39;49margs, \u001b[39m*\u001b[39;49m\u001b[39m*\u001b[39;49mkwargs)\n",
      "File \u001b[0;32m~/miniconda3/envs/mynewbook/lib/python3.10/site-packages/fsspec/asyn.py:66\u001b[0m, in \u001b[0;36msync\u001b[0;34m(loop, func, timeout, *args, **kwargs)\u001b[0m\n\u001b[1;32m     <a href='file:///Users/emarshall/miniconda3/envs/mynewbook/lib/python3.10/site-packages/fsspec/asyn.py?line=64'>65</a>\u001b[0m \u001b[39melif\u001b[39;00m \u001b[39misinstance\u001b[39m(return_result, \u001b[39mBaseException\u001b[39;00m):\n\u001b[0;32m---> <a href='file:///Users/emarshall/miniconda3/envs/mynewbook/lib/python3.10/site-packages/fsspec/asyn.py?line=65'>66</a>\u001b[0m     \u001b[39mraise\u001b[39;00m return_result\n\u001b[1;32m     <a href='file:///Users/emarshall/miniconda3/envs/mynewbook/lib/python3.10/site-packages/fsspec/asyn.py?line=66'>67</a>\u001b[0m \u001b[39melse\u001b[39;00m:\n",
      "File \u001b[0;32m~/miniconda3/envs/mynewbook/lib/python3.10/site-packages/fsspec/asyn.py:26\u001b[0m, in \u001b[0;36m_runner\u001b[0;34m(event, coro, result, timeout)\u001b[0m\n\u001b[1;32m     <a href='file:///Users/emarshall/miniconda3/envs/mynewbook/lib/python3.10/site-packages/fsspec/asyn.py?line=24'>25</a>\u001b[0m \u001b[39mtry\u001b[39;00m:\n\u001b[0;32m---> <a href='file:///Users/emarshall/miniconda3/envs/mynewbook/lib/python3.10/site-packages/fsspec/asyn.py?line=25'>26</a>\u001b[0m     result[\u001b[39m0\u001b[39m] \u001b[39m=\u001b[39m \u001b[39mawait\u001b[39;00m coro\n\u001b[1;32m     <a href='file:///Users/emarshall/miniconda3/envs/mynewbook/lib/python3.10/site-packages/fsspec/asyn.py?line=26'>27</a>\u001b[0m \u001b[39mexcept\u001b[39;00m \u001b[39mException\u001b[39;00m \u001b[39mas\u001b[39;00m ex:\n",
      "File \u001b[0;32m~/miniconda3/envs/mynewbook/lib/python3.10/site-packages/fsspec/asyn.py:398\u001b[0m, in \u001b[0;36mAsyncFileSystem._cat\u001b[0;34m(self, path, recursive, on_error, batch_size, **kwargs)\u001b[0m\n\u001b[1;32m    <a href='file:///Users/emarshall/miniconda3/envs/mynewbook/lib/python3.10/site-packages/fsspec/asyn.py?line=396'>397</a>\u001b[0m     \u001b[39mif\u001b[39;00m ex:\n\u001b[0;32m--> <a href='file:///Users/emarshall/miniconda3/envs/mynewbook/lib/python3.10/site-packages/fsspec/asyn.py?line=397'>398</a>\u001b[0m         \u001b[39mraise\u001b[39;00m ex\n\u001b[1;32m    <a href='file:///Users/emarshall/miniconda3/envs/mynewbook/lib/python3.10/site-packages/fsspec/asyn.py?line=398'>399</a>\u001b[0m \u001b[39mif\u001b[39;00m (\n\u001b[1;32m    <a href='file:///Users/emarshall/miniconda3/envs/mynewbook/lib/python3.10/site-packages/fsspec/asyn.py?line=399'>400</a>\u001b[0m     \u001b[39mlen\u001b[39m(paths) \u001b[39m>\u001b[39m \u001b[39m1\u001b[39m\n\u001b[1;32m    <a href='file:///Users/emarshall/miniconda3/envs/mynewbook/lib/python3.10/site-packages/fsspec/asyn.py?line=400'>401</a>\u001b[0m     \u001b[39mor\u001b[39;00m \u001b[39misinstance\u001b[39m(path, \u001b[39mlist\u001b[39m)\n\u001b[1;32m    <a href='file:///Users/emarshall/miniconda3/envs/mynewbook/lib/python3.10/site-packages/fsspec/asyn.py?line=401'>402</a>\u001b[0m     \u001b[39mor\u001b[39;00m paths[\u001b[39m0\u001b[39m] \u001b[39m!=\u001b[39m \u001b[39mself\u001b[39m\u001b[39m.\u001b[39m_strip_protocol(path)\n\u001b[1;32m    <a href='file:///Users/emarshall/miniconda3/envs/mynewbook/lib/python3.10/site-packages/fsspec/asyn.py?line=402'>403</a>\u001b[0m ):\n",
      "File \u001b[0;32m~/miniconda3/envs/mynewbook/lib/python3.10/asyncio/tasks.py:408\u001b[0m, in \u001b[0;36mwait_for\u001b[0;34m(fut, timeout)\u001b[0m\n\u001b[1;32m    <a href='file:///Users/emarshall/miniconda3/envs/mynewbook/lib/python3.10/asyncio/tasks.py?line=406'>407</a>\u001b[0m \u001b[39mif\u001b[39;00m timeout \u001b[39mis\u001b[39;00m \u001b[39mNone\u001b[39;00m:\n\u001b[0;32m--> <a href='file:///Users/emarshall/miniconda3/envs/mynewbook/lib/python3.10/asyncio/tasks.py?line=407'>408</a>\u001b[0m     \u001b[39mreturn\u001b[39;00m \u001b[39mawait\u001b[39;00m fut\n\u001b[1;32m    <a href='file:///Users/emarshall/miniconda3/envs/mynewbook/lib/python3.10/asyncio/tasks.py?line=409'>410</a>\u001b[0m \u001b[39mif\u001b[39;00m timeout \u001b[39m<\u001b[39m\u001b[39m=\u001b[39m \u001b[39m0\u001b[39m:\n",
      "File \u001b[0;32m~/miniconda3/envs/mynewbook/lib/python3.10/site-packages/s3fs/core.py:955\u001b[0m, in \u001b[0;36mS3FileSystem._cat_file\u001b[0;34m(self, path, version_id, start, end)\u001b[0m\n\u001b[1;32m    <a href='file:///Users/emarshall/miniconda3/envs/mynewbook/lib/python3.10/site-packages/s3fs/core.py?line=952'>953</a>\u001b[0m         resp[\u001b[39m\"\u001b[39m\u001b[39mBody\u001b[39m\u001b[39m\"\u001b[39m]\u001b[39m.\u001b[39mclose()\n\u001b[0;32m--> <a href='file:///Users/emarshall/miniconda3/envs/mynewbook/lib/python3.10/site-packages/s3fs/core.py?line=954'>955</a>\u001b[0m \u001b[39mreturn\u001b[39;00m \u001b[39mawait\u001b[39;00m _error_wrapper(_call_and_read, retries\u001b[39m=\u001b[39m\u001b[39mself\u001b[39m\u001b[39m.\u001b[39mretries)\n",
      "File \u001b[0;32m~/miniconda3/envs/mynewbook/lib/python3.10/site-packages/s3fs/core.py:137\u001b[0m, in \u001b[0;36m_error_wrapper\u001b[0;34m(func, args, kwargs, retries)\u001b[0m\n\u001b[1;32m    <a href='file:///Users/emarshall/miniconda3/envs/mynewbook/lib/python3.10/site-packages/s3fs/core.py?line=135'>136</a>\u001b[0m err \u001b[39m=\u001b[39m translate_boto_error(err)\n\u001b[0;32m--> <a href='file:///Users/emarshall/miniconda3/envs/mynewbook/lib/python3.10/site-packages/s3fs/core.py?line=136'>137</a>\u001b[0m \u001b[39mraise\u001b[39;00m err\n",
      "File \u001b[0;32m~/miniconda3/envs/mynewbook/lib/python3.10/site-packages/s3fs/core.py:110\u001b[0m, in \u001b[0;36m_error_wrapper\u001b[0;34m(func, args, kwargs, retries)\u001b[0m\n\u001b[1;32m    <a href='file:///Users/emarshall/miniconda3/envs/mynewbook/lib/python3.10/site-packages/s3fs/core.py?line=108'>109</a>\u001b[0m \u001b[39mtry\u001b[39;00m:\n\u001b[0;32m--> <a href='file:///Users/emarshall/miniconda3/envs/mynewbook/lib/python3.10/site-packages/s3fs/core.py?line=109'>110</a>\u001b[0m     \u001b[39mreturn\u001b[39;00m \u001b[39mawait\u001b[39;00m func(\u001b[39m*\u001b[39margs, \u001b[39m*\u001b[39m\u001b[39m*\u001b[39mkwargs)\n\u001b[1;32m    <a href='file:///Users/emarshall/miniconda3/envs/mynewbook/lib/python3.10/site-packages/s3fs/core.py?line=110'>111</a>\u001b[0m \u001b[39mexcept\u001b[39;00m S3_RETRYABLE_ERRORS \u001b[39mas\u001b[39;00m e:\n",
      "File \u001b[0;32m~/miniconda3/envs/mynewbook/lib/python3.10/site-packages/s3fs/core.py:942\u001b[0m, in \u001b[0;36mS3FileSystem._cat_file.<locals>._call_and_read\u001b[0;34m()\u001b[0m\n\u001b[1;32m    <a href='file:///Users/emarshall/miniconda3/envs/mynewbook/lib/python3.10/site-packages/s3fs/core.py?line=940'>941</a>\u001b[0m \u001b[39masync\u001b[39;00m \u001b[39mdef\u001b[39;00m \u001b[39m_call_and_read\u001b[39m():\n\u001b[0;32m--> <a href='file:///Users/emarshall/miniconda3/envs/mynewbook/lib/python3.10/site-packages/s3fs/core.py?line=941'>942</a>\u001b[0m     resp \u001b[39m=\u001b[39m \u001b[39mawait\u001b[39;00m \u001b[39mself\u001b[39m\u001b[39m.\u001b[39m_call_s3(\n\u001b[1;32m    <a href='file:///Users/emarshall/miniconda3/envs/mynewbook/lib/python3.10/site-packages/s3fs/core.py?line=942'>943</a>\u001b[0m         \u001b[39m\"\u001b[39m\u001b[39mget_object\u001b[39m\u001b[39m\"\u001b[39m,\n\u001b[1;32m    <a href='file:///Users/emarshall/miniconda3/envs/mynewbook/lib/python3.10/site-packages/s3fs/core.py?line=943'>944</a>\u001b[0m         Bucket\u001b[39m=\u001b[39mbucket,\n\u001b[1;32m    <a href='file:///Users/emarshall/miniconda3/envs/mynewbook/lib/python3.10/site-packages/s3fs/core.py?line=944'>945</a>\u001b[0m         Key\u001b[39m=\u001b[39mkey,\n\u001b[1;32m    <a href='file:///Users/emarshall/miniconda3/envs/mynewbook/lib/python3.10/site-packages/s3fs/core.py?line=945'>946</a>\u001b[0m         \u001b[39m*\u001b[39m\u001b[39m*\u001b[39mversion_id_kw(version_id \u001b[39mor\u001b[39;00m vers),\n\u001b[1;32m    <a href='file:///Users/emarshall/miniconda3/envs/mynewbook/lib/python3.10/site-packages/s3fs/core.py?line=946'>947</a>\u001b[0m         \u001b[39m*\u001b[39m\u001b[39m*\u001b[39mhead,\n\u001b[1;32m    <a href='file:///Users/emarshall/miniconda3/envs/mynewbook/lib/python3.10/site-packages/s3fs/core.py?line=947'>948</a>\u001b[0m         \u001b[39m*\u001b[39m\u001b[39m*\u001b[39m\u001b[39mself\u001b[39m\u001b[39m.\u001b[39mreq_kw,\n\u001b[1;32m    <a href='file:///Users/emarshall/miniconda3/envs/mynewbook/lib/python3.10/site-packages/s3fs/core.py?line=948'>949</a>\u001b[0m     )\n\u001b[1;32m    <a href='file:///Users/emarshall/miniconda3/envs/mynewbook/lib/python3.10/site-packages/s3fs/core.py?line=949'>950</a>\u001b[0m     \u001b[39mtry\u001b[39;00m:\n",
      "File \u001b[0;32m~/miniconda3/envs/mynewbook/lib/python3.10/site-packages/s3fs/core.py:332\u001b[0m, in \u001b[0;36mS3FileSystem._call_s3\u001b[0;34m(self, method, *akwarglist, **kwargs)\u001b[0m\n\u001b[1;32m    <a href='file:///Users/emarshall/miniconda3/envs/mynewbook/lib/python3.10/site-packages/s3fs/core.py?line=330'>331</a>\u001b[0m additional_kwargs \u001b[39m=\u001b[39m \u001b[39mself\u001b[39m\u001b[39m.\u001b[39m_get_s3_method_kwargs(method, \u001b[39m*\u001b[39makwarglist, \u001b[39m*\u001b[39m\u001b[39m*\u001b[39mkwargs)\n\u001b[0;32m--> <a href='file:///Users/emarshall/miniconda3/envs/mynewbook/lib/python3.10/site-packages/s3fs/core.py?line=331'>332</a>\u001b[0m \u001b[39mreturn\u001b[39;00m \u001b[39mawait\u001b[39;00m _error_wrapper(\n\u001b[1;32m    <a href='file:///Users/emarshall/miniconda3/envs/mynewbook/lib/python3.10/site-packages/s3fs/core.py?line=332'>333</a>\u001b[0m     method, kwargs\u001b[39m=\u001b[39madditional_kwargs, retries\u001b[39m=\u001b[39m\u001b[39mself\u001b[39m\u001b[39m.\u001b[39mretries\n\u001b[1;32m    <a href='file:///Users/emarshall/miniconda3/envs/mynewbook/lib/python3.10/site-packages/s3fs/core.py?line=333'>334</a>\u001b[0m )\n",
      "File \u001b[0;32m~/miniconda3/envs/mynewbook/lib/python3.10/site-packages/s3fs/core.py:137\u001b[0m, in \u001b[0;36m_error_wrapper\u001b[0;34m(func, args, kwargs, retries)\u001b[0m\n\u001b[1;32m    <a href='file:///Users/emarshall/miniconda3/envs/mynewbook/lib/python3.10/site-packages/s3fs/core.py?line=135'>136</a>\u001b[0m err \u001b[39m=\u001b[39m translate_boto_error(err)\n\u001b[0;32m--> <a href='file:///Users/emarshall/miniconda3/envs/mynewbook/lib/python3.10/site-packages/s3fs/core.py?line=136'>137</a>\u001b[0m \u001b[39mraise\u001b[39;00m err\n",
      "\u001b[0;31mFileNotFoundError\u001b[0m: The specified key does not exist.",
      "\nDuring handling of the above exception, another exception occurred:\n",
      "\u001b[0;31mKeyError\u001b[0m                                  Traceback (most recent call last)",
      "File \u001b[0;32m~/miniconda3/envs/mynewbook/lib/python3.10/site-packages/zarr/storage.py:1164\u001b[0m, in \u001b[0;36mFSStore.__getitem__\u001b[0;34m(self, key)\u001b[0m\n\u001b[1;32m   <a href='file:///Users/emarshall/miniconda3/envs/mynewbook/lib/python3.10/site-packages/zarr/storage.py?line=1162'>1163</a>\u001b[0m \u001b[39mtry\u001b[39;00m:\n\u001b[0;32m-> <a href='file:///Users/emarshall/miniconda3/envs/mynewbook/lib/python3.10/site-packages/zarr/storage.py?line=1163'>1164</a>\u001b[0m     \u001b[39mreturn\u001b[39;00m \u001b[39mself\u001b[39;49m\u001b[39m.\u001b[39;49mmap[key]\n\u001b[1;32m   <a href='file:///Users/emarshall/miniconda3/envs/mynewbook/lib/python3.10/site-packages/zarr/storage.py?line=1164'>1165</a>\u001b[0m \u001b[39mexcept\u001b[39;00m \u001b[39mself\u001b[39m\u001b[39m.\u001b[39mexceptions \u001b[39mas\u001b[39;00m e:\n",
      "File \u001b[0;32m~/miniconda3/envs/mynewbook/lib/python3.10/site-packages/fsspec/mapping.py:141\u001b[0m, in \u001b[0;36mFSMap.__getitem__\u001b[0;34m(self, key, default)\u001b[0m\n\u001b[1;32m    <a href='file:///Users/emarshall/miniconda3/envs/mynewbook/lib/python3.10/site-packages/fsspec/mapping.py?line=139'>140</a>\u001b[0m         \u001b[39mreturn\u001b[39;00m default\n\u001b[0;32m--> <a href='file:///Users/emarshall/miniconda3/envs/mynewbook/lib/python3.10/site-packages/fsspec/mapping.py?line=140'>141</a>\u001b[0m     \u001b[39mraise\u001b[39;00m \u001b[39mKeyError\u001b[39;00m(key)\n\u001b[1;32m    <a href='file:///Users/emarshall/miniconda3/envs/mynewbook/lib/python3.10/site-packages/fsspec/mapping.py?line=141'>142</a>\u001b[0m \u001b[39mreturn\u001b[39;00m result\n",
      "\u001b[0;31mKeyError\u001b[0m: '.zmetadata'",
      "\nThe above exception was the direct cause of the following exception:\n",
      "\u001b[0;31mKeyError\u001b[0m                                  Traceback (most recent call last)",
      "File \u001b[0;32m~/miniconda3/envs/mynewbook/lib/python3.10/site-packages/xarray/backends/zarr.py:348\u001b[0m, in \u001b[0;36mZarrStore.open_group\u001b[0;34m(cls, store, mode, synchronizer, group, consolidated, consolidate_on_close, chunk_store, storage_options, append_dim, write_region, safe_chunks, stacklevel)\u001b[0m\n\u001b[1;32m    <a href='file:///Users/emarshall/miniconda3/envs/mynewbook/lib/python3.10/site-packages/xarray/backends/zarr.py?line=346'>347</a>\u001b[0m \u001b[39mtry\u001b[39;00m:\n\u001b[0;32m--> <a href='file:///Users/emarshall/miniconda3/envs/mynewbook/lib/python3.10/site-packages/xarray/backends/zarr.py?line=347'>348</a>\u001b[0m     zarr_group \u001b[39m=\u001b[39m zarr\u001b[39m.\u001b[39;49mopen_consolidated(store, \u001b[39m*\u001b[39;49m\u001b[39m*\u001b[39;49mopen_kwargs)\n\u001b[1;32m    <a href='file:///Users/emarshall/miniconda3/envs/mynewbook/lib/python3.10/site-packages/xarray/backends/zarr.py?line=348'>349</a>\u001b[0m \u001b[39mexcept\u001b[39;00m \u001b[39mKeyError\u001b[39;00m:\n",
      "File \u001b[0;32m~/miniconda3/envs/mynewbook/lib/python3.10/site-packages/zarr/convenience.py:1187\u001b[0m, in \u001b[0;36mopen_consolidated\u001b[0;34m(store, metadata_key, mode, **kwargs)\u001b[0m\n\u001b[1;32m   <a href='file:///Users/emarshall/miniconda3/envs/mynewbook/lib/python3.10/site-packages/zarr/convenience.py?line=1185'>1186</a>\u001b[0m \u001b[39m# setup metadata store\u001b[39;00m\n\u001b[0;32m-> <a href='file:///Users/emarshall/miniconda3/envs/mynewbook/lib/python3.10/site-packages/zarr/convenience.py?line=1186'>1187</a>\u001b[0m meta_store \u001b[39m=\u001b[39m ConsolidatedMetadataStore(store, metadata_key\u001b[39m=\u001b[39;49mmetadata_key)\n\u001b[1;32m   <a href='file:///Users/emarshall/miniconda3/envs/mynewbook/lib/python3.10/site-packages/zarr/convenience.py?line=1188'>1189</a>\u001b[0m \u001b[39m# pass through\u001b[39;00m\n",
      "File \u001b[0;32m~/miniconda3/envs/mynewbook/lib/python3.10/site-packages/zarr/storage.py:2644\u001b[0m, in \u001b[0;36mConsolidatedMetadataStore.__init__\u001b[0;34m(self, store, metadata_key)\u001b[0m\n\u001b[1;32m   <a href='file:///Users/emarshall/miniconda3/envs/mynewbook/lib/python3.10/site-packages/zarr/storage.py?line=2642'>2643</a>\u001b[0m \u001b[39m# retrieve consolidated metadata\u001b[39;00m\n\u001b[0;32m-> <a href='file:///Users/emarshall/miniconda3/envs/mynewbook/lib/python3.10/site-packages/zarr/storage.py?line=2643'>2644</a>\u001b[0m meta \u001b[39m=\u001b[39m json_loads(store[metadata_key])\n\u001b[1;32m   <a href='file:///Users/emarshall/miniconda3/envs/mynewbook/lib/python3.10/site-packages/zarr/storage.py?line=2645'>2646</a>\u001b[0m \u001b[39m# check format of consolidated metadata\u001b[39;00m\n",
      "File \u001b[0;32m~/miniconda3/envs/mynewbook/lib/python3.10/site-packages/zarr/storage.py:1166\u001b[0m, in \u001b[0;36mFSStore.__getitem__\u001b[0;34m(self, key)\u001b[0m\n\u001b[1;32m   <a href='file:///Users/emarshall/miniconda3/envs/mynewbook/lib/python3.10/site-packages/zarr/storage.py?line=1164'>1165</a>\u001b[0m \u001b[39mexcept\u001b[39;00m \u001b[39mself\u001b[39m\u001b[39m.\u001b[39mexceptions \u001b[39mas\u001b[39;00m e:\n\u001b[0;32m-> <a href='file:///Users/emarshall/miniconda3/envs/mynewbook/lib/python3.10/site-packages/zarr/storage.py?line=1165'>1166</a>\u001b[0m     \u001b[39mraise\u001b[39;00m \u001b[39mKeyError\u001b[39;00m(key) \u001b[39mfrom\u001b[39;00m \u001b[39me\u001b[39;00m\n",
      "\u001b[0;31mKeyError\u001b[0m: '.zmetadata'",
      "\nDuring handling of the above exception, another exception occurred:\n",
      "\u001b[0;31mGroupNotFoundError\u001b[0m                        Traceback (most recent call last)",
      "\u001b[1;32m/Users/emarshall/Desktop/siparcs/xr_book1/mynewbook/hma_itslive_s3_data.ipynb Cell 6'\u001b[0m in \u001b[0;36m<cell line: 3>\u001b[0;34m()\u001b[0m\n\u001b[1;32m      <a href='vscode-notebook-cell:/Users/emarshall/Desktop/siparcs/xr_book1/mynewbook/hma_itslive_s3_data.ipynb#ch0000002?line=0'>1</a>\u001b[0m zarr_32645_x350000_y3050000 \u001b[39m=\u001b[39m \u001b[39m'\u001b[39m\u001b[39ms3://its-live-data/datacubes/v02/N20E080/ITS_LIVE_vel_EPSG32645_G0120_X350000_Y3050000.zarr\u001b[39m\u001b[39m'\u001b[39m\n\u001b[0;32m----> <a href='vscode-notebook-cell:/Users/emarshall/Desktop/siparcs/xr_book1/mynewbook/hma_itslive_s3_data.ipynb#ch0000002?line=2'>3</a>\u001b[0m ds_32645_x350000_y3050000 \u001b[39m=\u001b[39m xr\u001b[39m.\u001b[39;49mopen_dataset(zarr_32645_x350000_y3050000, engine \u001b[39m=\u001b[39;49m \u001b[39m'\u001b[39;49m\u001b[39mzarr\u001b[39;49m\u001b[39m'\u001b[39;49m,\n\u001b[1;32m      <a href='vscode-notebook-cell:/Users/emarshall/Desktop/siparcs/xr_book1/mynewbook/hma_itslive_s3_data.ipynb#ch0000002?line=3'>4</a>\u001b[0m                             storage_options\u001b[39m=\u001b[39;49m {\u001b[39m'\u001b[39;49m\u001b[39manon\u001b[39;49m\u001b[39m'\u001b[39;49m:\u001b[39mTrue\u001b[39;49;00m})\n",
      "File \u001b[0;32m~/miniconda3/envs/mynewbook/lib/python3.10/site-packages/xarray/backends/api.py:495\u001b[0m, in \u001b[0;36mopen_dataset\u001b[0;34m(filename_or_obj, engine, chunks, cache, decode_cf, mask_and_scale, decode_times, decode_timedelta, use_cftime, concat_characters, decode_coords, drop_variables, backend_kwargs, *args, **kwargs)\u001b[0m\n\u001b[1;32m    <a href='file:///Users/emarshall/miniconda3/envs/mynewbook/lib/python3.10/site-packages/xarray/backends/api.py?line=482'>483</a>\u001b[0m decoders \u001b[39m=\u001b[39m _resolve_decoders_kwargs(\n\u001b[1;32m    <a href='file:///Users/emarshall/miniconda3/envs/mynewbook/lib/python3.10/site-packages/xarray/backends/api.py?line=483'>484</a>\u001b[0m     decode_cf,\n\u001b[1;32m    <a href='file:///Users/emarshall/miniconda3/envs/mynewbook/lib/python3.10/site-packages/xarray/backends/api.py?line=484'>485</a>\u001b[0m     open_backend_dataset_parameters\u001b[39m=\u001b[39mbackend\u001b[39m.\u001b[39mopen_dataset_parameters,\n\u001b[0;32m   (...)\u001b[0m\n\u001b[1;32m    <a href='file:///Users/emarshall/miniconda3/envs/mynewbook/lib/python3.10/site-packages/xarray/backends/api.py?line=490'>491</a>\u001b[0m     decode_coords\u001b[39m=\u001b[39mdecode_coords,\n\u001b[1;32m    <a href='file:///Users/emarshall/miniconda3/envs/mynewbook/lib/python3.10/site-packages/xarray/backends/api.py?line=491'>492</a>\u001b[0m )\n\u001b[1;32m    <a href='file:///Users/emarshall/miniconda3/envs/mynewbook/lib/python3.10/site-packages/xarray/backends/api.py?line=493'>494</a>\u001b[0m overwrite_encoded_chunks \u001b[39m=\u001b[39m kwargs\u001b[39m.\u001b[39mpop(\u001b[39m\"\u001b[39m\u001b[39moverwrite_encoded_chunks\u001b[39m\u001b[39m\"\u001b[39m, \u001b[39mNone\u001b[39;00m)\n\u001b[0;32m--> <a href='file:///Users/emarshall/miniconda3/envs/mynewbook/lib/python3.10/site-packages/xarray/backends/api.py?line=494'>495</a>\u001b[0m backend_ds \u001b[39m=\u001b[39m backend\u001b[39m.\u001b[39;49mopen_dataset(\n\u001b[1;32m    <a href='file:///Users/emarshall/miniconda3/envs/mynewbook/lib/python3.10/site-packages/xarray/backends/api.py?line=495'>496</a>\u001b[0m     filename_or_obj,\n\u001b[1;32m    <a href='file:///Users/emarshall/miniconda3/envs/mynewbook/lib/python3.10/site-packages/xarray/backends/api.py?line=496'>497</a>\u001b[0m     drop_variables\u001b[39m=\u001b[39;49mdrop_variables,\n\u001b[1;32m    <a href='file:///Users/emarshall/miniconda3/envs/mynewbook/lib/python3.10/site-packages/xarray/backends/api.py?line=497'>498</a>\u001b[0m     \u001b[39m*\u001b[39;49m\u001b[39m*\u001b[39;49mdecoders,\n\u001b[1;32m    <a href='file:///Users/emarshall/miniconda3/envs/mynewbook/lib/python3.10/site-packages/xarray/backends/api.py?line=498'>499</a>\u001b[0m     \u001b[39m*\u001b[39;49m\u001b[39m*\u001b[39;49mkwargs,\n\u001b[1;32m    <a href='file:///Users/emarshall/miniconda3/envs/mynewbook/lib/python3.10/site-packages/xarray/backends/api.py?line=499'>500</a>\u001b[0m )\n\u001b[1;32m    <a href='file:///Users/emarshall/miniconda3/envs/mynewbook/lib/python3.10/site-packages/xarray/backends/api.py?line=500'>501</a>\u001b[0m ds \u001b[39m=\u001b[39m _dataset_from_backend_dataset(\n\u001b[1;32m    <a href='file:///Users/emarshall/miniconda3/envs/mynewbook/lib/python3.10/site-packages/xarray/backends/api.py?line=501'>502</a>\u001b[0m     backend_ds,\n\u001b[1;32m    <a href='file:///Users/emarshall/miniconda3/envs/mynewbook/lib/python3.10/site-packages/xarray/backends/api.py?line=502'>503</a>\u001b[0m     filename_or_obj,\n\u001b[0;32m   (...)\u001b[0m\n\u001b[1;32m    <a href='file:///Users/emarshall/miniconda3/envs/mynewbook/lib/python3.10/site-packages/xarray/backends/api.py?line=509'>510</a>\u001b[0m     \u001b[39m*\u001b[39m\u001b[39m*\u001b[39mkwargs,\n\u001b[1;32m    <a href='file:///Users/emarshall/miniconda3/envs/mynewbook/lib/python3.10/site-packages/xarray/backends/api.py?line=510'>511</a>\u001b[0m )\n\u001b[1;32m    <a href='file:///Users/emarshall/miniconda3/envs/mynewbook/lib/python3.10/site-packages/xarray/backends/api.py?line=511'>512</a>\u001b[0m \u001b[39mreturn\u001b[39;00m ds\n",
      "File \u001b[0;32m~/miniconda3/envs/mynewbook/lib/python3.10/site-packages/xarray/backends/zarr.py:800\u001b[0m, in \u001b[0;36mZarrBackendEntrypoint.open_dataset\u001b[0;34m(self, filename_or_obj, mask_and_scale, decode_times, concat_characters, decode_coords, drop_variables, use_cftime, decode_timedelta, group, mode, synchronizer, consolidated, chunk_store, storage_options, stacklevel)\u001b[0m\n\u001b[1;32m    <a href='file:///Users/emarshall/miniconda3/envs/mynewbook/lib/python3.10/site-packages/xarray/backends/zarr.py?line=779'>780</a>\u001b[0m \u001b[39mdef\u001b[39;00m \u001b[39mopen_dataset\u001b[39m(\n\u001b[1;32m    <a href='file:///Users/emarshall/miniconda3/envs/mynewbook/lib/python3.10/site-packages/xarray/backends/zarr.py?line=780'>781</a>\u001b[0m     \u001b[39mself\u001b[39m,\n\u001b[1;32m    <a href='file:///Users/emarshall/miniconda3/envs/mynewbook/lib/python3.10/site-packages/xarray/backends/zarr.py?line=781'>782</a>\u001b[0m     filename_or_obj,\n\u001b[0;32m   (...)\u001b[0m\n\u001b[1;32m    <a href='file:///Users/emarshall/miniconda3/envs/mynewbook/lib/python3.10/site-packages/xarray/backends/zarr.py?line=795'>796</a>\u001b[0m     stacklevel\u001b[39m=\u001b[39m\u001b[39m3\u001b[39m,\n\u001b[1;32m    <a href='file:///Users/emarshall/miniconda3/envs/mynewbook/lib/python3.10/site-packages/xarray/backends/zarr.py?line=796'>797</a>\u001b[0m ):\n\u001b[1;32m    <a href='file:///Users/emarshall/miniconda3/envs/mynewbook/lib/python3.10/site-packages/xarray/backends/zarr.py?line=798'>799</a>\u001b[0m     filename_or_obj \u001b[39m=\u001b[39m _normalize_path(filename_or_obj)\n\u001b[0;32m--> <a href='file:///Users/emarshall/miniconda3/envs/mynewbook/lib/python3.10/site-packages/xarray/backends/zarr.py?line=799'>800</a>\u001b[0m     store \u001b[39m=\u001b[39m ZarrStore\u001b[39m.\u001b[39;49mopen_group(\n\u001b[1;32m    <a href='file:///Users/emarshall/miniconda3/envs/mynewbook/lib/python3.10/site-packages/xarray/backends/zarr.py?line=800'>801</a>\u001b[0m         filename_or_obj,\n\u001b[1;32m    <a href='file:///Users/emarshall/miniconda3/envs/mynewbook/lib/python3.10/site-packages/xarray/backends/zarr.py?line=801'>802</a>\u001b[0m         group\u001b[39m=\u001b[39;49mgroup,\n\u001b[1;32m    <a href='file:///Users/emarshall/miniconda3/envs/mynewbook/lib/python3.10/site-packages/xarray/backends/zarr.py?line=802'>803</a>\u001b[0m         mode\u001b[39m=\u001b[39;49mmode,\n\u001b[1;32m    <a href='file:///Users/emarshall/miniconda3/envs/mynewbook/lib/python3.10/site-packages/xarray/backends/zarr.py?line=803'>804</a>\u001b[0m         synchronizer\u001b[39m=\u001b[39;49msynchronizer,\n\u001b[1;32m    <a href='file:///Users/emarshall/miniconda3/envs/mynewbook/lib/python3.10/site-packages/xarray/backends/zarr.py?line=804'>805</a>\u001b[0m         consolidated\u001b[39m=\u001b[39;49mconsolidated,\n\u001b[1;32m    <a href='file:///Users/emarshall/miniconda3/envs/mynewbook/lib/python3.10/site-packages/xarray/backends/zarr.py?line=805'>806</a>\u001b[0m         consolidate_on_close\u001b[39m=\u001b[39;49m\u001b[39mFalse\u001b[39;49;00m,\n\u001b[1;32m    <a href='file:///Users/emarshall/miniconda3/envs/mynewbook/lib/python3.10/site-packages/xarray/backends/zarr.py?line=806'>807</a>\u001b[0m         chunk_store\u001b[39m=\u001b[39;49mchunk_store,\n\u001b[1;32m    <a href='file:///Users/emarshall/miniconda3/envs/mynewbook/lib/python3.10/site-packages/xarray/backends/zarr.py?line=807'>808</a>\u001b[0m         storage_options\u001b[39m=\u001b[39;49mstorage_options,\n\u001b[1;32m    <a href='file:///Users/emarshall/miniconda3/envs/mynewbook/lib/python3.10/site-packages/xarray/backends/zarr.py?line=808'>809</a>\u001b[0m         stacklevel\u001b[39m=\u001b[39;49mstacklevel \u001b[39m+\u001b[39;49m \u001b[39m1\u001b[39;49m,\n\u001b[1;32m    <a href='file:///Users/emarshall/miniconda3/envs/mynewbook/lib/python3.10/site-packages/xarray/backends/zarr.py?line=809'>810</a>\u001b[0m     )\n\u001b[1;32m    <a href='file:///Users/emarshall/miniconda3/envs/mynewbook/lib/python3.10/site-packages/xarray/backends/zarr.py?line=811'>812</a>\u001b[0m     store_entrypoint \u001b[39m=\u001b[39m StoreBackendEntrypoint()\n\u001b[1;32m    <a href='file:///Users/emarshall/miniconda3/envs/mynewbook/lib/python3.10/site-packages/xarray/backends/zarr.py?line=812'>813</a>\u001b[0m     \u001b[39mwith\u001b[39;00m close_on_error(store):\n",
      "File \u001b[0;32m~/miniconda3/envs/mynewbook/lib/python3.10/site-packages/xarray/backends/zarr.py:365\u001b[0m, in \u001b[0;36mZarrStore.open_group\u001b[0;34m(cls, store, mode, synchronizer, group, consolidated, consolidate_on_close, chunk_store, storage_options, append_dim, write_region, safe_chunks, stacklevel)\u001b[0m\n\u001b[1;32m    <a href='file:///Users/emarshall/miniconda3/envs/mynewbook/lib/python3.10/site-packages/xarray/backends/zarr.py?line=348'>349</a>\u001b[0m     \u001b[39mexcept\u001b[39;00m \u001b[39mKeyError\u001b[39;00m:\n\u001b[1;32m    <a href='file:///Users/emarshall/miniconda3/envs/mynewbook/lib/python3.10/site-packages/xarray/backends/zarr.py?line=349'>350</a>\u001b[0m         warnings\u001b[39m.\u001b[39mwarn(\n\u001b[1;32m    <a href='file:///Users/emarshall/miniconda3/envs/mynewbook/lib/python3.10/site-packages/xarray/backends/zarr.py?line=350'>351</a>\u001b[0m             \u001b[39m\"\u001b[39m\u001b[39mFailed to open Zarr store with consolidated metadata, \u001b[39m\u001b[39m\"\u001b[39m\n\u001b[1;32m    <a href='file:///Users/emarshall/miniconda3/envs/mynewbook/lib/python3.10/site-packages/xarray/backends/zarr.py?line=351'>352</a>\u001b[0m             \u001b[39m\"\u001b[39m\u001b[39mfalling back to try reading non-consolidated metadata. \u001b[39m\u001b[39m\"\u001b[39m\n\u001b[0;32m   (...)\u001b[0m\n\u001b[1;32m    <a href='file:///Users/emarshall/miniconda3/envs/mynewbook/lib/python3.10/site-packages/xarray/backends/zarr.py?line=362'>363</a>\u001b[0m             stacklevel\u001b[39m=\u001b[39mstacklevel,\n\u001b[1;32m    <a href='file:///Users/emarshall/miniconda3/envs/mynewbook/lib/python3.10/site-packages/xarray/backends/zarr.py?line=363'>364</a>\u001b[0m         )\n\u001b[0;32m--> <a href='file:///Users/emarshall/miniconda3/envs/mynewbook/lib/python3.10/site-packages/xarray/backends/zarr.py?line=364'>365</a>\u001b[0m         zarr_group \u001b[39m=\u001b[39m zarr\u001b[39m.\u001b[39;49mopen_group(store, \u001b[39m*\u001b[39;49m\u001b[39m*\u001b[39;49mopen_kwargs)\n\u001b[1;32m    <a href='file:///Users/emarshall/miniconda3/envs/mynewbook/lib/python3.10/site-packages/xarray/backends/zarr.py?line=365'>366</a>\u001b[0m \u001b[39melif\u001b[39;00m consolidated:\n\u001b[1;32m    <a href='file:///Users/emarshall/miniconda3/envs/mynewbook/lib/python3.10/site-packages/xarray/backends/zarr.py?line=366'>367</a>\u001b[0m     \u001b[39m# TODO: an option to pass the metadata_key keyword\u001b[39;00m\n\u001b[1;32m    <a href='file:///Users/emarshall/miniconda3/envs/mynewbook/lib/python3.10/site-packages/xarray/backends/zarr.py?line=367'>368</a>\u001b[0m     zarr_group \u001b[39m=\u001b[39m zarr\u001b[39m.\u001b[39mopen_consolidated(store, \u001b[39m*\u001b[39m\u001b[39m*\u001b[39mopen_kwargs)\n",
      "File \u001b[0;32m~/miniconda3/envs/mynewbook/lib/python3.10/site-packages/zarr/hierarchy.py:1182\u001b[0m, in \u001b[0;36mopen_group\u001b[0;34m(store, mode, cache_attrs, synchronizer, path, chunk_store, storage_options)\u001b[0m\n\u001b[1;32m   <a href='file:///Users/emarshall/miniconda3/envs/mynewbook/lib/python3.10/site-packages/zarr/hierarchy.py?line=1179'>1180</a>\u001b[0m         \u001b[39mif\u001b[39;00m contains_array(store, path\u001b[39m=\u001b[39mpath):\n\u001b[1;32m   <a href='file:///Users/emarshall/miniconda3/envs/mynewbook/lib/python3.10/site-packages/zarr/hierarchy.py?line=1180'>1181</a>\u001b[0m             \u001b[39mraise\u001b[39;00m ContainsArrayError(path)\n\u001b[0;32m-> <a href='file:///Users/emarshall/miniconda3/envs/mynewbook/lib/python3.10/site-packages/zarr/hierarchy.py?line=1181'>1182</a>\u001b[0m         \u001b[39mraise\u001b[39;00m GroupNotFoundError(path)\n\u001b[1;32m   <a href='file:///Users/emarshall/miniconda3/envs/mynewbook/lib/python3.10/site-packages/zarr/hierarchy.py?line=1183'>1184</a>\u001b[0m \u001b[39melif\u001b[39;00m mode \u001b[39m==\u001b[39m \u001b[39m'\u001b[39m\u001b[39mw\u001b[39m\u001b[39m'\u001b[39m:\n\u001b[1;32m   <a href='file:///Users/emarshall/miniconda3/envs/mynewbook/lib/python3.10/site-packages/zarr/hierarchy.py?line=1184'>1185</a>\u001b[0m     init_group(store, overwrite\u001b[39m=\u001b[39m\u001b[39mTrue\u001b[39;00m, path\u001b[39m=\u001b[39mpath, chunk_store\u001b[39m=\u001b[39mchunk_store)\n",
      "\u001b[0;31mGroupNotFoundError\u001b[0m: group not found at path ''"
     ]
    }
   ],
   "source": [
    "zarr_32645_x350000_y3050000 = 's3://its-live-data/datacubes/v02/N20E080/ITS_LIVE_vel_EPSG32645_G0120_X350000_Y3050000.zarr'\n",
    "\n",
    "ds_32645_x350000_y3050000 = xr.open_dataset(zarr_32645_x350000_y3050000, engine = 'zarr',\n",
    "                            storage_options= {'anon':True})"
   ]
  },
  {
   "cell_type": "markdown",
   "metadata": {},
   "source": [
    "Dang, doesn't look like it's there\n",
    "\n",
    "Trying with another url for the same region:"
   ]
  },
  {
   "cell_type": "code",
   "execution_count": 4,
   "metadata": {},
   "outputs": [],
   "source": [
    "zarr_32645_x350000_y4650000 = \"s3://its-live-data/datacubes/v02/N40E080/ITS_LIVE_vel_EPSG32645_G0120_X350000_Y4650000.zarr\"\n",
    "\n",
    "ds_32645_x350000_y4650000 = xr.open_dataset(zarr_32645_x350000_y4650000, engine = 'zarr',\n",
    "                            storage_options={'anon':True})"
   ]
  },
  {
   "cell_type": "markdown",
   "metadata": {},
   "source": [
    "Cool! This one worked, let's see the bounding box"
   ]
  },
  {
   "cell_type": "code",
   "execution_count": 14,
   "metadata": {},
   "outputs": [
    {
     "name": "stderr",
     "output_type": "stream",
     "text": [
      "/Users/emarshall/miniconda3/envs/mynewbook/lib/python3.10/site-packages/pyproj/crs/crs.py:130: FutureWarning: '+init=<authority>:<code>' syntax is deprecated. '<authority>:<code>' is the preferred initialization method. When making the change, be mindful of axis order changes: https://pyproj4.github.io/pyproj/stable/gotchas.html#axis-order-changes-in-proj-6\n",
      "  in_crs_string = _prepare_from_proj_string(in_crs_string)\n"
     ]
    },
    {
     "ename": "",
     "evalue": "",
     "output_type": "error",
     "traceback": [
      "\u001b[1;31mCanceled future for execute_request message before replies were done"
     ]
    },
    {
     "ename": "",
     "evalue": "",
     "output_type": "error",
     "traceback": [
      "\u001b[1;31mThe Kernel crashed while executing code in the the current cell or a previous cell. Please review the code in the cell(s) to identify a possible cause of the failure. Click <a href='https://aka.ms/vscodeJupyterKernelCrash'>here</a> for more info. View Jupyter <a href='command:jupyter.viewOutput'>log</a> for further details."
     ]
    }
   ],
   "source": [
    "bbox_x350000_y4650000 = get_bbox(ds_32645_x350000_y4650000)"
   ]
  },
  {
   "cell_type": "markdown",
   "metadata": {},
   "source": []
  }
 ],
 "metadata": {
  "kernelspec": {
   "display_name": "conda-env-mynewbook-py",
   "language": "python",
   "name": "conda-env-mynewbook-py"
  },
  "language_info": {
   "codemirror_mode": {
    "name": "ipython",
    "version": 3
   },
   "file_extension": ".py",
   "mimetype": "text/x-python",
   "name": "python",
   "nbconvert_exporter": "python",
   "pygments_lexer": "ipython3",
   "version": "3.10.4"
  },
  "orig_nbformat": 4
 },
 "nbformat": 4,
 "nbformat_minor": 2
}
