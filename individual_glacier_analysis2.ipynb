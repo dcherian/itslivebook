{
 "cells": [
  {
   "cell_type": "markdown",
   "metadata": {},
   "source": [
    "# Individual glacier analysis 2\n",
    "\n",
    "This notebook will demonstrate the workflow for reading in glacier outlines (vector data) and glacier velocity (raster data) for a large region, extracting the data to examine an individual glacier and performing some preliminary analysis of glacier surface velocities at the scale of an individual glacier"
   ]
  },
  {
   "cell_type": "markdown",
   "metadata": {},
   "source": [
    "We start by installing the necessary software:"
   ]
  },
  {
   "cell_type": "code",
   "execution_count": null,
   "metadata": {},
   "outputs": [],
   "source": [
    "import xarray as xr\n",
    "from skimage.morphology import skeletonize\n",
    "from shapely.geometry import MultiPolygon\n",
    "import geopandas as gpd\n",
    "import rioxarray as rxr\n",
    "import numpy as np\n",
    "from matplotlib import pyplot as plt"
   ]
  },
  {
   "cell_type": "markdown",
   "metadata": {},
   "source": [
    "Set paths (hopefully move away from this once accessing data from cloud)"
   ]
  },
  {
   "cell_type": "code",
   "execution_count": null,
   "metadata": {},
   "outputs": [],
   "source": [
    "gen_path = '/Users/emarshall/Desktop/siparcs/data/'\n",
    "rgi_path = '/Users/emarshall/Desktop/siparcs/data/nsidc0770_15.rgi60.SouthAsiaEast/15_rgi60_SouthAsiaEast.shp'"
   ]
  },
  {
   "cell_type": "code",
   "execution_count": null,
   "metadata": {},
   "outputs": [],
   "source": [
    "gen_path_home = '/Users/emmamarshall/Desktop/phd_research/siparcs/'\n",
    "rgi_path_home = '/Users/emmamarshall/Downloads/15rgi60SouthAsiaEast'"
   ]
  },
  {
   "cell_type": "markdown",
   "metadata": {},
   "source": [
    "## Read in raster data\n",
    "\n",
    "In this example, we'll again by using ITS_LIVE ice velocity data downloaded from the NSIDC DAAC access point (for now)"
   ]
  },
  {
   "cell_type": "code",
   "execution_count": null,
   "metadata": {},
   "outputs": [],
   "source": [
    "itslive = rxr.open_rasterio(gen_path + 'HMA_G0120_0000.nc').squeeze()"
   ]
  },
  {
   "cell_type": "markdown",
   "metadata": {},
   "source": [
    "What CRS is this dataset in?"
   ]
  },
  {
   "cell_type": "code",
   "execution_count": null,
   "metadata": {},
   "outputs": [],
   "source": [
    "itslive.rio.crs"
   ]
  },
  {
   "cell_type": "code",
   "execution_count": null,
   "metadata": {},
   "outputs": [],
   "source": [
    "itslive.v.plot()"
   ]
  },
  {
   "cell_type": "code",
   "execution_count": null,
   "metadata": {},
   "outputs": [],
   "source": [
    "itslive.v.UTM_Projection.GeoTransform"
   ]
  },
  {
   "cell_type": "markdown",
   "metadata": {},
   "source": [
    "It looks like the ITS_LIVE data is in the Asia North Lambert Conformal Conic coordinate reference system. When we read in the vector data and begin to work with it we will need to project it to match this."
   ]
  },
  {
   "cell_type": "markdown",
   "metadata": {},
   "source": [
    "## Read in vector data\n",
    "\n",
    "The glacier outline and attribute data we will be using is from the Randolph Glacier Inventory (RGI). The RGI contains data for glaciers worldwide and is divided into 19 primary regions. We will read in one region (South Asia East) here. "
   ]
  },
  {
   "cell_type": "code",
   "execution_count": null,
   "metadata": {},
   "outputs": [],
   "source": [
    "#se_asia = gpd.read_file(gen_path_home[:-9] + 'data/nsidc0770_15.rgi60.SouthAsiaEast/15_rgi60_SouthAsiaEast.shp')\n",
    "se_asia = gpd.read_file(rgi_path)\n"
   ]
  },
  {
   "cell_type": "markdown",
   "metadata": {},
   "source": [
    "And let's explore this data a bit by looking at:\n",
    "- the number of glaciers within the dataset\n",
    "- the spatial extent of the dataset\n",
    "- the coordinate reference system of the dataset\n"
   ]
  },
  {
   "cell_type": "code",
   "execution_count": null,
   "metadata": {},
   "outputs": [],
   "source": [
    "print('Number of glaciers in dataset: ', len(se_asia['RGIId']))"
   ]
  },
  {
   "cell_type": "code",
   "execution_count": null,
   "metadata": {},
   "outputs": [],
   "source": [
    "se_asia.plot()"
   ]
  },
  {
   "cell_type": "code",
   "execution_count": null,
   "metadata": {},
   "outputs": [],
   "source": [
    "print('CRS: ', se_asia.crs)"
   ]
  },
  {
   "cell_type": "markdown",
   "metadata": {},
   "source": [
    "The RGI glacier outline dataframe is in lat/lon so let's project it to match the raster data:\n",
    "If you look at the geoemtry column of the projected dataset you will see that the coordinates are now in meters instead of degrees."
   ]
  },
  {
   "cell_type": "code",
   "execution_count": null,
   "metadata": {},
   "outputs": [],
   "source": [
    "se_asia_prj = se_asia.to_crs('+proj=lcc +lat_1=15 +lat_2=65 +lat_0=30 +lon_0=95 +x_0=0 +y_0=0 +ellps=WGS84 +datum=WGS84 +units=m no_defs')\n",
    "se_asia_prj"
   ]
  },
  {
   "cell_type": "markdown",
   "metadata": {},
   "source": [
    "## Clipping raster data by a vector\n",
    "\n",
    "Now, let's focus on just a single glacier. To start with, let's look at the five largest (in area) glaciers in the dataset and choose one of those."
   ]
  },
  {
   "cell_type": "code",
   "execution_count": null,
   "metadata": {},
   "outputs": [],
   "source": [
    "se_asia.sort_values(by = 'Area', ascending=False).head()"
   ]
  },
  {
   "cell_type": "markdown",
   "metadata": {},
   "source": [
    "To start with, let's look at the glacier with the RGIId RGI60-15.11926 and an area of 96.283 km2. "
   ]
  },
  {
   "cell_type": "code",
   "execution_count": null,
   "metadata": {},
   "outputs": [],
   "source": [
    "rgi11926 = se_asia_prj.loc[se_asia_prj['RGIId'] == 'RGI60-15.11926']\n",
    "rgi11926"
   ]
  },
  {
   "cell_type": "code",
   "execution_count": null,
   "metadata": {},
   "outputs": [],
   "source": [
    "raster_11926 = itslive.rio.clip(rgi11926.geometry, rgi11926.crs)"
   ]
  },
  {
   "cell_type": "code",
   "execution_count": null,
   "metadata": {},
   "outputs": [],
   "source": [
    "#turn non-ice pixels to NaN (previously -32767.)\n",
    "clipped_raster11926 = xr.where(raster_11926.ice == 1., raster_11926, np.NaN)"
   ]
  },
  {
   "cell_type": "markdown",
   "metadata": {},
   "source": [
    "## Extract glacier centerline\n",
    "\n",
    "- using scikit-image skeletonize()\n",
    "- probably not the best/ideal way to do this, for now wanted to have an example but maybe not worth including here? "
   ]
  },
  {
   "cell_type": "code",
   "execution_count": null,
   "metadata": {},
   "outputs": [],
   "source": [
    "def extract_glacier_centerline(glacier_gpdf, full_scene_raster):\n",
    "    ''' This function should take in a vector outline of a single glacier and a xr object of glacier velocity data (full scene) \n",
    "    and return a dictionary (?) with 2 keys and values corresponding to two xarray objects: one showing the full 2d extent of \n",
    "    raster data clipped to the glacier outline and one with the extracted glacier centerline'''\n",
    "\n",
    "    #clip raster by vector\n",
    "    clipped_raster = full_scene_raster.rio.clip(glacier_gpdf.geometry, glacier_gpdf.crs)\n",
    "\n",
    "    #turn non-ice pixels to NaN (previously -32767.)\n",
    "    clipped_raster = xr.where(clipped_raster.ice == 1., clipped_raster, np.NaN)\n",
    "\n",
    "    #extract centerline - this is a xr DataArray that only has an boolean array representing centerline\n",
    "    centerline_da = clipped_raster.ice.reduce(skeletonize)\n",
    "\n",
    "    #create xarray dataset with centerline extracted for all data vars\n",
    "    centerline_ds = clipped_raster.where(centerline_da != False)\n",
    "\n",
    "    #wrap into dict\n",
    "    glacier_dict = {'clipped_to_ice': clipped_raster,\n",
    "                    'centerline': centerline_ds\n",
    "                    }\n",
    "\n",
    "    return glacier_dict"
   ]
  },
  {
   "cell_type": "code",
   "execution_count": null,
   "metadata": {},
   "outputs": [],
   "source": [
    "g11926_dict = extract_glacier_centerline(rgi11926, itslive)\n",
    "g11926_cl = g11926_dict['centerline']\n",
    "g11926_cl.v.plot()"
   ]
  },
  {
   "cell_type": "code",
   "execution_count": null,
   "metadata": {},
   "outputs": [],
   "source": [
    "fig, axs = plt.subplots(ncols=2, figsize= (14,7))\n",
    "\n",
    "g11926_cl.v.plot(ax=axs[0])\n",
    "g11926_dict['clipped_to_ice'].v.plot(ax=axs[1])"
   ]
  },
  {
   "cell_type": "code",
   "execution_count": null,
   "metadata": {},
   "outputs": [],
   "source": [
    "g06681_dict = extract_glacier_centerline(rgi06681, itslive)"
   ]
  },
  {
   "cell_type": "markdown",
   "metadata": {},
   "source": [
    "### non-function examples below"
   ]
  },
  {
   "cell_type": "code",
   "execution_count": null,
   "metadata": {},
   "outputs": [],
   "source": [
    "centerline_11926_da = clipped_raster11926.ice.reduce(skeletonize)\n",
    "centerline_11926_da.plot()\n",
    "type(centerline_11926_da)"
   ]
  },
  {
   "cell_type": "code",
   "execution_count": null,
   "metadata": {},
   "outputs": [],
   "source": [
    "centerline_11926_ds = clipped_raster11926.where(centerline_11926_da != False)\n",
    "centerline_11926_ds.v.plot()"
   ]
  },
  {
   "cell_type": "code",
   "execution_count": null,
   "metadata": {},
   "outputs": [],
   "source": [
    "g11926_dict = {'full':raster_11926,\n",
    "                'clipped_to_ice': clipped_raster11926,\n",
    "                'centerline': centerline_11926_ds}"
   ]
  },
  {
   "cell_type": "code",
   "execution_count": null,
   "metadata": {},
   "outputs": [],
   "source": [
    "g11926_dict = extract_glacier_centerline(rgi11926, itslive)\n",
    "g11926_cl = g11926_dict['centerline']\n",
    "g11926_cl.v.plot()"
   ]
  },
  {
   "cell_type": "code",
   "execution_count": null,
   "metadata": {},
   "outputs": [],
   "source": [
    "fig, axs = plt.subplots(ncols=2, figsize= (14,7))\n",
    "\n",
    "g11926_cl.v.plot(ax=axs[0])\n",
    "g11926_dict['clipped_to_ice'].v.plot(ax=axs[1])"
   ]
  },
  {
   "cell_type": "code",
   "execution_count": null,
   "metadata": {},
   "outputs": [],
   "source": [
    "g06681_dict = extract_glacier_centerline(rgi06681, itslive)"
   ]
  },
  {
   "cell_type": "code",
   "execution_count": null,
   "metadata": {},
   "outputs": [],
   "source": [
    "g06681_dict.keys()"
   ]
  },
  {
   "cell_type": "code",
   "execution_count": null,
   "metadata": {},
   "outputs": [],
   "source": [
    "g06681_cl = g06681_dict['centerline']\n",
    "g06681_cl.v.plot()"
   ]
  },
  {
   "cell_type": "code",
   "execution_count": null,
   "metadata": {},
   "outputs": [],
   "source": [
    "rgi06681 = se_asia_prj.loc[se_asia_prj['RGIId'] == 'RGI60-15.06681']\n",
    "se_asia_prj.sort_values('Area', ascending=False).head()"
   ]
  },
  {
   "cell_type": "markdown",
   "metadata": {},
   "source": [
    "### A second glacier"
   ]
  },
  {
   "cell_type": "code",
   "execution_count": null,
   "metadata": {},
   "outputs": [],
   "source": [
    "rgi11909 = se_asia_prj.loc[se_asia_prj['RGIId'] == 'RGI60-15.11909']\n",
    "rgi11909"
   ]
  },
  {
   "cell_type": "code",
   "execution_count": null,
   "metadata": {},
   "outputs": [],
   "source": [
    "raster_11909 = itslive.rio.clip(rgi11909.geometry, rgi11909.crs)"
   ]
  },
  {
   "cell_type": "code",
   "execution_count": null,
   "metadata": {},
   "outputs": [],
   "source": [
    "#turn non-ice pixels to NaN ()\n",
    "clipped_raster11909 = xr.where(raster_11909.ice == 1., raster_11909, np.NaN)"
   ]
  },
  {
   "cell_type": "markdown",
   "metadata": {},
   "source": [
    "Compare different skeletonize algorithms:"
   ]
  },
  {
   "cell_type": "code",
   "execution_count": null,
   "metadata": {},
   "outputs": [],
   "source": [
    "fig, axes = plt.subplots(ncols=3, figsize = (14,4), sharex=True, sharey=True)\n",
    "\n",
    "ax = axes.ravel()\n",
    "\n",
    "ax[0].imshow(just_ice.v, cmap=plt.cm.cividis)\n",
    "ax[0].axis('off')\n",
    "ax[0].set_title('Glacier velocity', fontsize=14)\n",
    "ax[0].imshow(skeleton_ice, cmap=plt.cm.Reds, alpha = 0.2)\n",
    "ax[0].imshow(skeleton_ice_lee, cmap=plt.cm.Greens, alpha = 0.2)\n",
    "\n",
    "\n",
    "ax[1].imshow(skeleton_ice, cmap=plt.cm.Reds)\n",
    "ax[1].axis('off')\n",
    "ax[1].set_title('skeleton', fontsize=14)\n",
    "\n",
    "ax[2].imshow(skeleton_ice_lee, cmap=plt.cm.Greens)\n",
    "ax[2].axis('off')\n",
    "ax[2].set_title('skeleton (lee)', fontsize=14)\n",
    "\n",
    "fig.tight_layout()\n",
    "fig.show"
   ]
  },
  {
   "cell_type": "markdown",
   "metadata": {},
   "source": [
    "## Make xarray object out of centerline bool mask\n",
    "- should have the same coords as the velocity xarray object"
   ]
  },
  {
   "cell_type": "code",
   "execution_count": null,
   "metadata": {},
   "outputs": [],
   "source": [
    "centerline_da = xr.DataArray(\n",
    "    skeleton_ice,\n",
    "    dims=(\"y\", \"x\"),\n",
    "    coords={\n",
    "        \"x\": glacier_raster.coords['x'].data,\n",
    "        \"y\": glacier_raster.coords['y'].data}\n",
    ")\n",
    "\n",
    "\n",
    "centerline_da.plot()"
   ]
  },
  {
   "cell_type": "code",
   "execution_count": null,
   "metadata": {},
   "outputs": [],
   "source": [
    "centerline_da"
   ]
  },
  {
   "cell_type": "markdown",
   "metadata": {},
   "source": [
    "### Extract itslive xarray dataset data only at points along centerline\n",
    "- this should return a dataset with the same data vars but only data along centerline"
   ]
  },
  {
   "cell_type": "code",
   "execution_count": null,
   "metadata": {},
   "outputs": [],
   "source": [
    "centerline_ds = glacier_raster.where(da != False)"
   ]
  },
  {
   "cell_type": "code",
   "execution_count": null,
   "metadata": {},
   "outputs": [],
   "source": [
    "centerline_ds"
   ]
  },
  {
   "cell_type": "code",
   "execution_count": null,
   "metadata": {},
   "outputs": [],
   "source": [
    "fig, axs = plt.subplots(ncols = 2, figsize=(20,8))\n",
    "just_ice.ice.plot(ax=axs[0], cmap=plt.cm.cividis)\n",
    "centerline_ds.v.plot(ax=axs[0])\n",
    "\n",
    "just_ice.v.plot(ax=axs[1])"
   ]
  },
  {
   "cell_type": "markdown",
   "metadata": {},
   "source": [
    "### Experimenting with skeletonize v. thin (scikit image)"
   ]
  },
  {
   "cell_type": "code",
   "execution_count": null,
   "metadata": {},
   "outputs": [],
   "source": [
    "just_ice.ice.plot()"
   ]
  },
  {
   "cell_type": "code",
   "execution_count": null,
   "metadata": {},
   "outputs": [],
   "source": [
    "from skimage.morphology import skeletonize, thin\n",
    "\n",
    "thinned = thin(just_ice.ice)\n",
    "#thinned_partial = thin(just_ice.ice.data, max_num_iter = 50)\n",
    "\n",
    "plt.imshow(thinned)"
   ]
  },
  {
   "cell_type": "code",
   "execution_count": null,
   "metadata": {},
   "outputs": [],
   "source": [
    "fig, axs = plt.subplots(ncols=2)\n",
    "\n",
    "axs[0].imshow(thinned, cmap=plt.cm.gray)\n",
    "axs[0].set_title('thinned')\n",
    "axs[0].axis('off')\n",
    "\n",
    "axs[1].imshow(thinned_partial, cmap=plt.cm.gray)\n",
    "axs[1].set_title('thinned partial')\n",
    "axs[1].axis('off')\n",
    "\n"
   ]
  },
  {
   "cell_type": "code",
   "execution_count": null,
   "metadata": {},
   "outputs": [],
   "source": []
  }
 ],
 "metadata": {
  "kernelspec": {
   "display_name": "conda-env-mynewbook-py",
   "language": "python",
   "name": "conda-env-mynewbook-py"
  },
  "language_info": {
   "codemirror_mode": {
    "name": "ipython",
    "version": 3
   },
   "file_extension": ".py",
   "mimetype": "text/x-python",
   "name": "python",
   "nbconvert_exporter": "python",
   "pygments_lexer": "ipython3",
   "version": "3.10.4"
  }
 },
 "nbformat": 4,
 "nbformat_minor": 2
}
