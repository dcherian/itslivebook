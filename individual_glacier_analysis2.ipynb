{
 "cells": [
  {
   "cell_type": "markdown",
   "metadata": {},
   "source": [
    "# Individual glacier analysis 2\n",
    "\n",
    "This notebook will demonstrate the workflow for reading in glacier outlines (vector data) and glacier velocity (raster data) for a large region, extracting the data to examine an individual glacier and performing some preliminary analysis of glacier surface velocities at the scale of an individual glacier"
   ]
  },
  {
   "cell_type": "markdown",
   "metadata": {},
   "source": [
    "We start by installing the necessary software:"
   ]
  },
  {
   "cell_type": "code",
   "execution_count": 1,
   "metadata": {},
   "outputs": [],
   "source": [
    "import xarray as xr\n",
    "from skimage.morphology import skeletonize\n",
    "from shapely.geometry import MultiPolygon\n",
    "import geopandas as gpd\n",
    "import rioxarray as rxr\n",
    "import numpy as np\n",
    "from matplotlib import pyplot as plt"
   ]
  },
  {
   "cell_type": "markdown",
   "metadata": {},
   "source": [
    "Set paths (hopefully move away from this once accessing data from cloud)"
   ]
  },
  {
   "cell_type": "code",
   "execution_count": 37,
   "metadata": {},
   "outputs": [],
   "source": [
    "gen_path = '/Users/emarshall/Desktop/siparcs/data/'\n",
    "rgi_path = '/Users/emarshall/Desktop/siparcs/data/nsidc0770_15.rgi60.SouthAsiaEast/15_rgi60_SouthAsiaEast.shp'"
   ]
  },
  {
   "cell_type": "code",
   "execution_count": 38,
   "metadata": {},
   "outputs": [],
   "source": [
    "gen_path_home = '/Users/emmamarshall/Desktop/phd_research/siparcs/'\n",
    "rgi_path_home = '/Users/emmamarshall/Downloads/15rgi60SouthAsiaEast'"
   ]
  },
  {
   "cell_type": "markdown",
   "metadata": {},
   "source": [
    "## Read in raster data\n",
    "\n",
    "In this example, we'll again by using ITS_LIVE ice velocity data downloaded from the NSIDC DAAC access point (for now)"
   ]
  },
  {
   "cell_type": "code",
   "execution_count": 39,
   "metadata": {},
   "outputs": [],
   "source": [
    "itslive = rxr.open_rasterio(gen_path + 'HMA_G0120_0000.nc').squeeze()"
   ]
  },
  {
   "cell_type": "markdown",
   "metadata": {},
   "source": [
    "What CRS is this dataset in?"
   ]
  },
  {
   "cell_type": "code",
   "execution_count": 40,
   "metadata": {},
   "outputs": [
    {
     "data": {
      "text/plain": [
       "CRS.from_wkt('PROJCS[\"Asia_North_Lambert_Conformal_Conic\",GEOGCS[\"WGS 84\",DATUM[\"WGS_1984\",SPHEROID[\"WGS 84\",6378137,298.257223563,AUTHORITY[\"EPSG\",\"7030\"]]],PRIMEM[\"Greenwich\",0],UNIT[\"Degree\",0.0174532925199433]],PROJECTION[\"Lambert_Conformal_Conic_2SP\"],PARAMETER[\"false_easting\",0],PARAMETER[\"false_northing\",0],PARAMETER[\"central_meridian\",95],PARAMETER[\"standard_parallel_1\",15],PARAMETER[\"standard_parallel_2\",65],PARAMETER[\"latitude_of_origin\",30],UNIT[\"metre\",1,AUTHORITY[\"EPSG\",\"9001\"]],AXIS[\"Easting\",EAST],AXIS[\"Northing\",NORTH],AUTHORITY[\"EPSG\",\"102027\"]]')"
      ]
     },
     "execution_count": 40,
     "metadata": {},
     "output_type": "execute_result"
    }
   ],
   "source": [
    "itslive.rio.crs"
   ]
  },
  {
   "cell_type": "markdown",
   "metadata": {},
   "source": [
    "It looks like the ITS_LIVE data is in the Asia North Lambert Conformal Conic coordinate reference system. When we read in the vector data and begin to work with it we will need to project it to match this."
   ]
  },
  {
   "cell_type": "markdown",
   "metadata": {},
   "source": [
    "## Read in vector data\n",
    "\n",
    "The glacier outline and attribute data we will be using is from the Randolph Glacier Inventory (RGI). The RGI contains data for glaciers worldwide and is divided into 19 primary regions. We will read in one region (South Asia East) here. "
   ]
  },
  {
   "cell_type": "code",
   "execution_count": 14,
   "metadata": {},
   "outputs": [],
   "source": [
    "#se_asia = gpd.read_file(gen_path_home[:-9] + 'data/nsidc0770_15.rgi60.SouthAsiaEast/15_rgi60_SouthAsiaEast.shp')\n",
    "se_asia = gpd.read_file(rgi_path)\n"
   ]
  },
  {
   "cell_type": "markdown",
   "metadata": {},
   "source": [
    "And let's explore this data a bit by looking at:\n",
    "- the number of glaciers within the dataset\n",
    "- the spatial extent of the dataset\n",
    "- the coordinate reference system of the dataset\n"
   ]
  },
  {
   "cell_type": "code",
   "execution_count": 42,
   "metadata": {},
   "outputs": [
    {
     "name": "stdout",
     "output_type": "stream",
     "text": [
      "Number of glaciers in dataset:  13119\n"
     ]
    }
   ],
   "source": [
    "print('Number of glaciers in dataset: ', len(se_asia['RGIId']))"
   ]
  },
  {
   "cell_type": "code",
   "execution_count": 43,
   "metadata": {},
   "outputs": [
    {
     "data": {
      "text/plain": [
       "<AxesSubplot:>"
      ]
     },
     "execution_count": 43,
     "metadata": {},
     "output_type": "execute_result"
    },
    {
     "data": {
      "image/png": "[encoded data removed]",
      "text/plain": [
       "<Figure size 432x288 with 1 Axes>"
      ]
     },
     "metadata": {
      "needs_background": "light"
     },
     "output_type": "display_data"
    }
   ],
   "source": [
    "se_asia.plot()"
   ]
  },
  {
   "cell_type": "code",
   "execution_count": 17,
   "metadata": {},
   "outputs": [
    {
     "name": "stdout",
     "output_type": "stream",
     "text": [
      "CRS:  epsg:4326\n"
     ]
    }
   ],
   "source": [
    "print('CRS: ', se_asia.crs)"
   ]
  },
  {
   "cell_type": "markdown",
   "metadata": {},
   "source": [
    "The RGI glacier outline dataframe is in lat/lon so let's project it to match the raster data:\n",
    "If you look at the geoemtry column of the projected dataset you will see that the coordinates are now in meters instead of degrees."
   ]
  },
  {
   "cell_type": "code",
   "execution_count": 41,
   "metadata": {},
   "outputs": [
    {
     "data": {
      "text/html": [
       "<div>\n",
       "<style scoped>\n",
       "    .dataframe tbody tr th:only-of-type {\n",
       "        vertical-align: middle;\n",
       "    }\n",
       "\n",
       "    .dataframe tbody tr th {\n",
       "        vertical-align: top;\n",
       "    }\n",
       "\n",
       "    .dataframe thead th {\n",
       "        text-align: right;\n",
       "    }\n",
       "</style>\n",
       "<table border=\"1\" class=\"dataframe\">\n",
       "  <thead>\n",
       "    <tr style=\"text-align: right;\">\n",
       "      <th></th>\n",
       "      <th>RGIId</th>\n",
       "      <th>GLIMSId</th>\n",
       "      <th>BgnDate</th>\n",
       "      <th>EndDate</th>\n",
       "      <th>CenLon</th>\n",
       "      <th>CenLat</th>\n",
       "      <th>O1Region</th>\n",
       "      <th>O2Region</th>\n",
       "      <th>Area</th>\n",
       "      <th>Zmin</th>\n",
       "      <th>...</th>\n",
       "      <th>Aspect</th>\n",
       "      <th>Lmax</th>\n",
       "      <th>Status</th>\n",
       "      <th>Connect</th>\n",
       "      <th>Form</th>\n",
       "      <th>TermType</th>\n",
       "      <th>Surging</th>\n",
       "      <th>Linkages</th>\n",
       "      <th>Name</th>\n",
       "      <th>geometry</th>\n",
       "    </tr>\n",
       "  </thead>\n",
       "  <tbody>\n",
       "    <tr>\n",
       "      <th>0</th>\n",
       "      <td>RGI60-15.00001</td>\n",
       "      <td>G102044E29941N</td>\n",
       "      <td>19990920</td>\n",
       "      <td>-9999999</td>\n",
       "      <td>102.044042</td>\n",
       "      <td>29.941000</td>\n",
       "      <td>15</td>\n",
       "      <td>3</td>\n",
       "      <td>0.438</td>\n",
       "      <td>4996</td>\n",
       "      <td>...</td>\n",
       "      <td>251</td>\n",
       "      <td>850</td>\n",
       "      <td>0</td>\n",
       "      <td>0</td>\n",
       "      <td>0</td>\n",
       "      <td>0</td>\n",
       "      <td>9</td>\n",
       "      <td>9</td>\n",
       "      <td>None</td>\n",
       "      <td>POLYGON ((626747.322 19334.286, 626747.214 193...</td>\n",
       "    </tr>\n",
       "    <tr>\n",
       "      <th>1</th>\n",
       "      <td>RGI60-15.00002</td>\n",
       "      <td>G102042E29987N</td>\n",
       "      <td>19990920</td>\n",
       "      <td>-9999999</td>\n",
       "      <td>102.042346</td>\n",
       "      <td>29.987019</td>\n",
       "      <td>15</td>\n",
       "      <td>3</td>\n",
       "      <td>0.644</td>\n",
       "      <td>4947</td>\n",
       "      <td>...</td>\n",
       "      <td>244</td>\n",
       "      <td>1021</td>\n",
       "      <td>0</td>\n",
       "      <td>0</td>\n",
       "      <td>0</td>\n",
       "      <td>0</td>\n",
       "      <td>9</td>\n",
       "      <td>9</td>\n",
       "      <td>None</td>\n",
       "      <td>POLYGON ((626699.144 24673.098, 626701.110 246...</td>\n",
       "    </tr>\n",
       "    <tr>\n",
       "      <th>2</th>\n",
       "      <td>RGI60-15.00003</td>\n",
       "      <td>G102041E29997N</td>\n",
       "      <td>19990920</td>\n",
       "      <td>-9999999</td>\n",
       "      <td>102.041130</td>\n",
       "      <td>29.997311</td>\n",
       "      <td>15</td>\n",
       "      <td>3</td>\n",
       "      <td>0.225</td>\n",
       "      <td>5019</td>\n",
       "      <td>...</td>\n",
       "      <td>274</td>\n",
       "      <td>812</td>\n",
       "      <td>0</td>\n",
       "      <td>0</td>\n",
       "      <td>0</td>\n",
       "      <td>0</td>\n",
       "      <td>9</td>\n",
       "      <td>9</td>\n",
       "      <td>None</td>\n",
       "      <td>POLYGON ((626205.858 25396.784, 626210.489 254...</td>\n",
       "    </tr>\n",
       "    <tr>\n",
       "      <th>3</th>\n",
       "      <td>RGI60-15.00004</td>\n",
       "      <td>G102050E29962N</td>\n",
       "      <td>19990920</td>\n",
       "      <td>-9999999</td>\n",
       "      <td>102.050283</td>\n",
       "      <td>29.962297</td>\n",
       "      <td>15</td>\n",
       "      <td>3</td>\n",
       "      <td>0.985</td>\n",
       "      <td>4622</td>\n",
       "      <td>...</td>\n",
       "      <td>52</td>\n",
       "      <td>2318</td>\n",
       "      <td>0</td>\n",
       "      <td>0</td>\n",
       "      <td>0</td>\n",
       "      <td>0</td>\n",
       "      <td>9</td>\n",
       "      <td>9</td>\n",
       "      <td>None</td>\n",
       "      <td>POLYGON ((627054.150 21582.052, 627057.905 216...</td>\n",
       "    </tr>\n",
       "    <tr>\n",
       "      <th>4</th>\n",
       "      <td>RGI60-15.00005</td>\n",
       "      <td>G102044E30025N</td>\n",
       "      <td>19990920</td>\n",
       "      <td>-9999999</td>\n",
       "      <td>102.043728</td>\n",
       "      <td>30.025101</td>\n",
       "      <td>15</td>\n",
       "      <td>3</td>\n",
       "      <td>0.465</td>\n",
       "      <td>4733</td>\n",
       "      <td>...</td>\n",
       "      <td>20</td>\n",
       "      <td>913</td>\n",
       "      <td>0</td>\n",
       "      <td>0</td>\n",
       "      <td>0</td>\n",
       "      <td>0</td>\n",
       "      <td>9</td>\n",
       "      <td>9</td>\n",
       "      <td>None</td>\n",
       "      <td>POLYGON ((626913.162 28267.766, 626895.820 282...</td>\n",
       "    </tr>\n",
       "    <tr>\n",
       "      <th>...</th>\n",
       "      <td>...</td>\n",
       "      <td>...</td>\n",
       "      <td>...</td>\n",
       "      <td>...</td>\n",
       "      <td>...</td>\n",
       "      <td>...</td>\n",
       "      <td>...</td>\n",
       "      <td>...</td>\n",
       "      <td>...</td>\n",
       "      <td>...</td>\n",
       "      <td>...</td>\n",
       "      <td>...</td>\n",
       "      <td>...</td>\n",
       "      <td>...</td>\n",
       "      <td>...</td>\n",
       "      <td>...</td>\n",
       "      <td>...</td>\n",
       "      <td>...</td>\n",
       "      <td>...</td>\n",
       "      <td>...</td>\n",
       "      <td>...</td>\n",
       "    </tr>\n",
       "    <tr>\n",
       "      <th>13114</th>\n",
       "      <td>RGI60-15.13115</td>\n",
       "      <td>G081977E30337N</td>\n",
       "      <td>20090918</td>\n",
       "      <td>-9999999</td>\n",
       "      <td>81.977000</td>\n",
       "      <td>30.337000</td>\n",
       "      <td>15</td>\n",
       "      <td>1</td>\n",
       "      <td>1.356</td>\n",
       "      <td>5480</td>\n",
       "      <td>...</td>\n",
       "      <td>352</td>\n",
       "      <td>1856</td>\n",
       "      <td>0</td>\n",
       "      <td>0</td>\n",
       "      <td>0</td>\n",
       "      <td>0</td>\n",
       "      <td>9</td>\n",
       "      <td>9</td>\n",
       "      <td>CN5Z342A0003</td>\n",
       "      <td>POLYGON ((-1150121.533 121963.660, -1150118.27...</td>\n",
       "    </tr>\n",
       "    <tr>\n",
       "      <th>13115</th>\n",
       "      <td>RGI60-15.13116</td>\n",
       "      <td>G081991E30339N</td>\n",
       "      <td>20090918</td>\n",
       "      <td>-9999999</td>\n",
       "      <td>81.991000</td>\n",
       "      <td>30.339000</td>\n",
       "      <td>15</td>\n",
       "      <td>1</td>\n",
       "      <td>7.427</td>\n",
       "      <td>5266</td>\n",
       "      <td>...</td>\n",
       "      <td>330</td>\n",
       "      <td>5779</td>\n",
       "      <td>0</td>\n",
       "      <td>0</td>\n",
       "      <td>0</td>\n",
       "      <td>0</td>\n",
       "      <td>9</td>\n",
       "      <td>9</td>\n",
       "      <td>CN5Z342A0003</td>\n",
       "      <td>POLYGON ((-1148353.222 121707.808, -1148328.34...</td>\n",
       "    </tr>\n",
       "    <tr>\n",
       "      <th>13116</th>\n",
       "      <td>RGI60-15.13117</td>\n",
       "      <td>G081355E30440N</td>\n",
       "      <td>20070912</td>\n",
       "      <td>-9999999</td>\n",
       "      <td>81.355000</td>\n",
       "      <td>30.440000</td>\n",
       "      <td>15</td>\n",
       "      <td>1</td>\n",
       "      <td>6.788</td>\n",
       "      <td>5696</td>\n",
       "      <td>...</td>\n",
       "      <td>96</td>\n",
       "      <td>5519</td>\n",
       "      <td>0</td>\n",
       "      <td>0</td>\n",
       "      <td>0</td>\n",
       "      <td>0</td>\n",
       "      <td>9</td>\n",
       "      <td>9</td>\n",
       "      <td>CN5Z342B0006</td>\n",
       "      <td>POLYGON ((-1204224.276 142125.331, -1204220.83...</td>\n",
       "    </tr>\n",
       "    <tr>\n",
       "      <th>13117</th>\n",
       "      <td>RGI60-15.13118</td>\n",
       "      <td>G081361E30451N</td>\n",
       "      <td>20070912</td>\n",
       "      <td>-9999999</td>\n",
       "      <td>81.361000</td>\n",
       "      <td>30.451000</td>\n",
       "      <td>15</td>\n",
       "      <td>1</td>\n",
       "      <td>0.043</td>\n",
       "      <td>5969</td>\n",
       "      <td>...</td>\n",
       "      <td>206</td>\n",
       "      <td>527</td>\n",
       "      <td>0</td>\n",
       "      <td>0</td>\n",
       "      <td>0</td>\n",
       "      <td>0</td>\n",
       "      <td>9</td>\n",
       "      <td>9</td>\n",
       "      <td>None</td>\n",
       "      <td>POLYGON ((-1202593.561 141849.818, -1202579.07...</td>\n",
       "    </tr>\n",
       "    <tr>\n",
       "      <th>13118</th>\n",
       "      <td>RGI60-15.13119</td>\n",
       "      <td>G081443E30418N</td>\n",
       "      <td>20070912</td>\n",
       "      <td>-9999999</td>\n",
       "      <td>81.443000</td>\n",
       "      <td>30.418000</td>\n",
       "      <td>15</td>\n",
       "      <td>1</td>\n",
       "      <td>0.094</td>\n",
       "      <td>5680</td>\n",
       "      <td>...</td>\n",
       "      <td>360</td>\n",
       "      <td>325</td>\n",
       "      <td>0</td>\n",
       "      <td>0</td>\n",
       "      <td>0</td>\n",
       "      <td>0</td>\n",
       "      <td>9</td>\n",
       "      <td>9</td>\n",
       "      <td>CN5Z342B0005</td>\n",
       "      <td>POLYGON ((-1195868.335 137065.519, -1195874.56...</td>\n",
       "    </tr>\n",
       "  </tbody>\n",
       "</table>\n",
       "<p>13119 rows × 23 columns</p>\n",
       "</div>"
      ],
      "text/plain": [
       "                RGIId         GLIMSId   BgnDate   EndDate      CenLon  \\\n",
       "0      RGI60-15.00001  G102044E29941N  19990920  -9999999  102.044042   \n",
       "1      RGI60-15.00002  G102042E29987N  19990920  -9999999  102.042346   \n",
       "2      RGI60-15.00003  G102041E29997N  19990920  -9999999  102.041130   \n",
       "3      RGI60-15.00004  G102050E29962N  19990920  -9999999  102.050283   \n",
       "4      RGI60-15.00005  G102044E30025N  19990920  -9999999  102.043728   \n",
       "...               ...             ...       ...       ...         ...   \n",
       "13114  RGI60-15.13115  G081977E30337N  20090918  -9999999   81.977000   \n",
       "13115  RGI60-15.13116  G081991E30339N  20090918  -9999999   81.991000   \n",
       "13116  RGI60-15.13117  G081355E30440N  20070912  -9999999   81.355000   \n",
       "13117  RGI60-15.13118  G081361E30451N  20070912  -9999999   81.361000   \n",
       "13118  RGI60-15.13119  G081443E30418N  20070912  -9999999   81.443000   \n",
       "\n",
       "          CenLat O1Region O2Region   Area  Zmin  ...  Aspect  Lmax  Status  \\\n",
       "0      29.941000       15        3  0.438  4996  ...     251   850       0   \n",
       "1      29.987019       15        3  0.644  4947  ...     244  1021       0   \n",
       "2      29.997311       15        3  0.225  5019  ...     274   812       0   \n",
       "3      29.962297       15        3  0.985  4622  ...      52  2318       0   \n",
       "4      30.025101       15        3  0.465  4733  ...      20   913       0   \n",
       "...          ...      ...      ...    ...   ...  ...     ...   ...     ...   \n",
       "13114  30.337000       15        1  1.356  5480  ...     352  1856       0   \n",
       "13115  30.339000       15        1  7.427  5266  ...     330  5779       0   \n",
       "13116  30.440000       15        1  6.788  5696  ...      96  5519       0   \n",
       "13117  30.451000       15        1  0.043  5969  ...     206   527       0   \n",
       "13118  30.418000       15        1  0.094  5680  ...     360   325       0   \n",
       "\n",
       "       Connect  Form  TermType  Surging  Linkages          Name  \\\n",
       "0            0     0         0        9         9          None   \n",
       "1            0     0         0        9         9          None   \n",
       "2            0     0         0        9         9          None   \n",
       "3            0     0         0        9         9          None   \n",
       "4            0     0         0        9         9          None   \n",
       "...        ...   ...       ...      ...       ...           ...   \n",
       "13114        0     0         0        9         9  CN5Z342A0003   \n",
       "13115        0     0         0        9         9  CN5Z342A0003   \n",
       "13116        0     0         0        9         9  CN5Z342B0006   \n",
       "13117        0     0         0        9         9          None   \n",
       "13118        0     0         0        9         9  CN5Z342B0005   \n",
       "\n",
       "                                                geometry  \n",
       "0      POLYGON ((626747.322 19334.286, 626747.214 193...  \n",
       "1      POLYGON ((626699.144 24673.098, 626701.110 246...  \n",
       "2      POLYGON ((626205.858 25396.784, 626210.489 254...  \n",
       "3      POLYGON ((627054.150 21582.052, 627057.905 216...  \n",
       "4      POLYGON ((626913.162 28267.766, 626895.820 282...  \n",
       "...                                                  ...  \n",
       "13114  POLYGON ((-1150121.533 121963.660, -1150118.27...  \n",
       "13115  POLYGON ((-1148353.222 121707.808, -1148328.34...  \n",
       "13116  POLYGON ((-1204224.276 142125.331, -1204220.83...  \n",
       "13117  POLYGON ((-1202593.561 141849.818, -1202579.07...  \n",
       "13118  POLYGON ((-1195868.335 137065.519, -1195874.56...  \n",
       "\n",
       "[13119 rows x 23 columns]"
      ]
     },
     "execution_count": 41,
     "metadata": {},
     "output_type": "execute_result"
    }
   ],
   "source": [
    "se_asia_prj = se_asia.to_crs('+proj=lcc +lat_1=15 +lat_2=65 +lat_0=30 +lon_0=95 +x_0=0 +y_0=0 +ellps=WGS84 +datum=WGS84 +units=m no_defs')\n",
    "se_asia_prj"
   ]
  },
  {
   "cell_type": "markdown",
   "metadata": {},
   "source": [
    "## Clipping raster data by a vector\n",
    "\n",
    "Now, let's focus on just a single glacier. To start with, let's look at the five largest (in area) glaciers in the dataset and choose one of those."
   ]
  },
  {
   "cell_type": "code",
   "execution_count": 21,
   "metadata": {},
   "outputs": [
    {
     "data": {
      "text/html": [
       "<div>\n",
       "<style scoped>\n",
       "    .dataframe tbody tr th:only-of-type {\n",
       "        vertical-align: middle;\n",
       "    }\n",
       "\n",
       "    .dataframe tbody tr th {\n",
       "        vertical-align: top;\n",
       "    }\n",
       "\n",
       "    .dataframe thead th {\n",
       "        text-align: right;\n",
       "    }\n",
       "</style>\n",
       "<table border=\"1\" class=\"dataframe\">\n",
       "  <thead>\n",
       "    <tr style=\"text-align: right;\">\n",
       "      <th></th>\n",
       "      <th>RGIId</th>\n",
       "      <th>GLIMSId</th>\n",
       "      <th>BgnDate</th>\n",
       "      <th>EndDate</th>\n",
       "      <th>CenLon</th>\n",
       "      <th>CenLat</th>\n",
       "      <th>O1Region</th>\n",
       "      <th>O2Region</th>\n",
       "      <th>Area</th>\n",
       "      <th>Zmin</th>\n",
       "      <th>...</th>\n",
       "      <th>Aspect</th>\n",
       "      <th>Lmax</th>\n",
       "      <th>Status</th>\n",
       "      <th>Connect</th>\n",
       "      <th>Form</th>\n",
       "      <th>TermType</th>\n",
       "      <th>Surging</th>\n",
       "      <th>Linkages</th>\n",
       "      <th>Name</th>\n",
       "      <th>geometry</th>\n",
       "    </tr>\n",
       "  </thead>\n",
       "  <tbody>\n",
       "    <tr>\n",
       "      <th>11908</th>\n",
       "      <td>RGI60-15.11909</td>\n",
       "      <td>G096657E29334N</td>\n",
       "      <td>20050908</td>\n",
       "      <td>-9999999</td>\n",
       "      <td>96.657000</td>\n",
       "      <td>29.334000</td>\n",
       "      <td>15</td>\n",
       "      <td>3</td>\n",
       "      <td>179.589</td>\n",
       "      <td>3980</td>\n",
       "      <td>...</td>\n",
       "      <td>78</td>\n",
       "      <td>32403</td>\n",
       "      <td>0</td>\n",
       "      <td>0</td>\n",
       "      <td>1</td>\n",
       "      <td>0</td>\n",
       "      <td>1</td>\n",
       "      <td>9</td>\n",
       "      <td>Yagnung</td>\n",
       "      <td>POLYGON ((96.57583 29.39731, 96.57590 29.39730...</td>\n",
       "    </tr>\n",
       "    <tr>\n",
       "      <th>6880</th>\n",
       "      <td>RGI60-15.06881</td>\n",
       "      <td>G079147E30802N</td>\n",
       "      <td>20010801</td>\n",
       "      <td>-9999999</td>\n",
       "      <td>79.147205</td>\n",
       "      <td>30.801627</td>\n",
       "      <td>15</td>\n",
       "      <td>1</td>\n",
       "      <td>121.890</td>\n",
       "      <td>3999</td>\n",
       "      <td>...</td>\n",
       "      <td>353</td>\n",
       "      <td>32048</td>\n",
       "      <td>0</td>\n",
       "      <td>0</td>\n",
       "      <td>0</td>\n",
       "      <td>0</td>\n",
       "      <td>9</td>\n",
       "      <td>0</td>\n",
       "      <td>Gangotri Glacier</td>\n",
       "      <td>POLYGON ((79.17425 30.82318, 79.17372 30.82337...</td>\n",
       "    </tr>\n",
       "    <tr>\n",
       "      <th>11925</th>\n",
       "      <td>RGI60-15.11926</td>\n",
       "      <td>G096745E29216N</td>\n",
       "      <td>20050908</td>\n",
       "      <td>-9999999</td>\n",
       "      <td>96.745000</td>\n",
       "      <td>29.216000</td>\n",
       "      <td>15</td>\n",
       "      <td>3</td>\n",
       "      <td>96.283</td>\n",
       "      <td>4285</td>\n",
       "      <td>...</td>\n",
       "      <td>101</td>\n",
       "      <td>15157</td>\n",
       "      <td>0</td>\n",
       "      <td>0</td>\n",
       "      <td>1</td>\n",
       "      <td>0</td>\n",
       "      <td>9</td>\n",
       "      <td>9</td>\n",
       "      <td>CN5O282B0028 Xirinongpu Glacier</td>\n",
       "      <td>POLYGON ((96.73404 29.26991, 96.73484 29.26927...</td>\n",
       "    </tr>\n",
       "    <tr>\n",
       "      <th>9990</th>\n",
       "      <td>RGI60-15.09991</td>\n",
       "      <td>G086830E28048N</td>\n",
       "      <td>20100409</td>\n",
       "      <td>-9999999</td>\n",
       "      <td>86.830000</td>\n",
       "      <td>28.048000</td>\n",
       "      <td>15</td>\n",
       "      <td>2</td>\n",
       "      <td>73.215</td>\n",
       "      <td>5155</td>\n",
       "      <td>...</td>\n",
       "      <td>13</td>\n",
       "      <td>20118</td>\n",
       "      <td>0</td>\n",
       "      <td>0</td>\n",
       "      <td>0</td>\n",
       "      <td>0</td>\n",
       "      <td>9</td>\n",
       "      <td>9</td>\n",
       "      <td>CN5O193B0142 Rongbuk Glacier</td>\n",
       "      <td>POLYGON ((86.87850 28.06345, 86.87983 28.06234...</td>\n",
       "    </tr>\n",
       "    <tr>\n",
       "      <th>2702</th>\n",
       "      <td>RGI60-15.02703</td>\n",
       "      <td>G088202E27766N</td>\n",
       "      <td>20001108</td>\n",
       "      <td>-9999999</td>\n",
       "      <td>88.201782</td>\n",
       "      <td>27.765869</td>\n",
       "      <td>15</td>\n",
       "      <td>2</td>\n",
       "      <td>68.664</td>\n",
       "      <td>4187</td>\n",
       "      <td>...</td>\n",
       "      <td>69</td>\n",
       "      <td>26217</td>\n",
       "      <td>0</td>\n",
       "      <td>0</td>\n",
       "      <td>0</td>\n",
       "      <td>0</td>\n",
       "      <td>9</td>\n",
       "      <td>9</td>\n",
       "      <td>None</td>\n",
       "      <td>POLYGON ((88.25193 27.80569, 88.25205 27.80544...</td>\n",
       "    </tr>\n",
       "  </tbody>\n",
       "</table>\n",
       "<p>5 rows × 23 columns</p>\n",
       "</div>"
      ],
      "text/plain": [
       "                RGIId         GLIMSId   BgnDate   EndDate     CenLon  \\\n",
       "11908  RGI60-15.11909  G096657E29334N  20050908  -9999999  96.657000   \n",
       "6880   RGI60-15.06881  G079147E30802N  20010801  -9999999  79.147205   \n",
       "11925  RGI60-15.11926  G096745E29216N  20050908  -9999999  96.745000   \n",
       "9990   RGI60-15.09991  G086830E28048N  20100409  -9999999  86.830000   \n",
       "2702   RGI60-15.02703  G088202E27766N  20001108  -9999999  88.201782   \n",
       "\n",
       "          CenLat O1Region O2Region     Area  Zmin  ...  Aspect   Lmax  Status  \\\n",
       "11908  29.334000       15        3  179.589  3980  ...      78  32403       0   \n",
       "6880   30.801627       15        1  121.890  3999  ...     353  32048       0   \n",
       "11925  29.216000       15        3   96.283  4285  ...     101  15157       0   \n",
       "9990   28.048000       15        2   73.215  5155  ...      13  20118       0   \n",
       "2702   27.765869       15        2   68.664  4187  ...      69  26217       0   \n",
       "\n",
       "       Connect  Form  TermType  Surging  Linkages  \\\n",
       "11908        0     1         0        1         9   \n",
       "6880         0     0         0        9         0   \n",
       "11925        0     1         0        9         9   \n",
       "9990         0     0         0        9         9   \n",
       "2702         0     0         0        9         9   \n",
       "\n",
       "                                  Name  \\\n",
       "11908                          Yagnung   \n",
       "6880                  Gangotri Glacier   \n",
       "11925  CN5O282B0028 Xirinongpu Glacier   \n",
       "9990      CN5O193B0142 Rongbuk Glacier   \n",
       "2702                              None   \n",
       "\n",
       "                                                geometry  \n",
       "11908  POLYGON ((96.57583 29.39731, 96.57590 29.39730...  \n",
       "6880   POLYGON ((79.17425 30.82318, 79.17372 30.82337...  \n",
       "11925  POLYGON ((96.73404 29.26991, 96.73484 29.26927...  \n",
       "9990   POLYGON ((86.87850 28.06345, 86.87983 28.06234...  \n",
       "2702   POLYGON ((88.25193 27.80569, 88.25205 27.80544...  \n",
       "\n",
       "[5 rows x 23 columns]"
      ]
     },
     "execution_count": 21,
     "metadata": {},
     "output_type": "execute_result"
    }
   ],
   "source": [
    "se_asia.sort_values(by = 'Area', ascending=False).head()"
   ]
  },
  {
   "cell_type": "markdown",
   "metadata": {},
   "source": [
    "To start with, let's look at the glacier with the RGIId RGI60-15.11926 and an area of 96.283 km2. "
   ]
  },
  {
   "cell_type": "code",
   "execution_count": 22,
   "metadata": {},
   "outputs": [
    {
     "data": {
      "text/html": [
       "<div>\n",
       "<style scoped>\n",
       "    .dataframe tbody tr th:only-of-type {\n",
       "        vertical-align: middle;\n",
       "    }\n",
       "\n",
       "    .dataframe tbody tr th {\n",
       "        vertical-align: top;\n",
       "    }\n",
       "\n",
       "    .dataframe thead th {\n",
       "        text-align: right;\n",
       "    }\n",
       "</style>\n",
       "<table border=\"1\" class=\"dataframe\">\n",
       "  <thead>\n",
       "    <tr style=\"text-align: right;\">\n",
       "      <th></th>\n",
       "      <th>RGIId</th>\n",
       "      <th>GLIMSId</th>\n",
       "      <th>BgnDate</th>\n",
       "      <th>EndDate</th>\n",
       "      <th>CenLon</th>\n",
       "      <th>CenLat</th>\n",
       "      <th>O1Region</th>\n",
       "      <th>O2Region</th>\n",
       "      <th>Area</th>\n",
       "      <th>Zmin</th>\n",
       "      <th>...</th>\n",
       "      <th>Aspect</th>\n",
       "      <th>Lmax</th>\n",
       "      <th>Status</th>\n",
       "      <th>Connect</th>\n",
       "      <th>Form</th>\n",
       "      <th>TermType</th>\n",
       "      <th>Surging</th>\n",
       "      <th>Linkages</th>\n",
       "      <th>Name</th>\n",
       "      <th>geometry</th>\n",
       "    </tr>\n",
       "  </thead>\n",
       "  <tbody>\n",
       "    <tr>\n",
       "      <th>11925</th>\n",
       "      <td>RGI60-15.11926</td>\n",
       "      <td>G096745E29216N</td>\n",
       "      <td>20050908</td>\n",
       "      <td>-9999999</td>\n",
       "      <td>96.745</td>\n",
       "      <td>29.216</td>\n",
       "      <td>15</td>\n",
       "      <td>3</td>\n",
       "      <td>96.283</td>\n",
       "      <td>4285</td>\n",
       "      <td>...</td>\n",
       "      <td>101</td>\n",
       "      <td>15157</td>\n",
       "      <td>0</td>\n",
       "      <td>0</td>\n",
       "      <td>1</td>\n",
       "      <td>0</td>\n",
       "      <td>9</td>\n",
       "      <td>9</td>\n",
       "      <td>CN5O282B0028 Xirinongpu Glacier</td>\n",
       "      <td>POLYGON ((155971.052 -73238.820, 156044.377 -7...</td>\n",
       "    </tr>\n",
       "  </tbody>\n",
       "</table>\n",
       "<p>1 rows × 23 columns</p>\n",
       "</div>"
      ],
      "text/plain": [
       "                RGIId         GLIMSId   BgnDate   EndDate  CenLon  CenLat  \\\n",
       "11925  RGI60-15.11926  G096745E29216N  20050908  -9999999  96.745  29.216   \n",
       "\n",
       "      O1Region O2Region    Area  Zmin  ...  Aspect   Lmax  Status  Connect  \\\n",
       "11925       15        3  96.283  4285  ...     101  15157       0        0   \n",
       "\n",
       "       Form  TermType  Surging  Linkages                             Name  \\\n",
       "11925     1         0        9         9  CN5O282B0028 Xirinongpu Glacier   \n",
       "\n",
       "                                                geometry  \n",
       "11925  POLYGON ((155971.052 -73238.820, 156044.377 -7...  \n",
       "\n",
       "[1 rows x 23 columns]"
      ]
     },
     "execution_count": 22,
     "metadata": {},
     "output_type": "execute_result"
    }
   ],
   "source": [
    "rgi11926 = se_asia_prj.loc[se_asia_prj['RGIId'] == 'RGI60-15.11926']\n",
    "rgi11926"
   ]
  },
  {
   "cell_type": "code",
   "execution_count": 45,
   "metadata": {},
   "outputs": [],
   "source": [
    "raster_11926 = itslive.rio.clip(rgi11926.geometry, rgi11926.crs)"
   ]
  },
  {
   "cell_type": "code",
   "execution_count": 47,
   "metadata": {},
   "outputs": [],
   "source": [
    "#turn non-ice pixels to NaN (previously -32767.)\n",
    "clipped_raster11926 = xr.where(raster_11926.ice == 1., raster_11926, np.NaN)"
   ]
  },
  {
   "cell_type": "markdown",
   "metadata": {},
   "source": [
    "## Extract glacier centerline\n",
    "\n",
    "- using scikit-image skeletonize()"
   ]
  },
  {
   "cell_type": "code",
   "execution_count": 54,
   "metadata": {},
   "outputs": [
    {
     "data": {
      "text/plain": [
       "xarray.core.dataarray.DataArray"
      ]
     },
     "execution_count": 54,
     "metadata": {},
     "output_type": "execute_result"
    },
    {
     "data": {
      "image/png": "[encoded data removed]",
      "text/plain": [
       "<Figure size 432x288 with 2 Axes>"
      ]
     },
     "metadata": {
      "needs_background": "light"
     },
     "output_type": "display_data"
    }
   ],
   "source": [
    "centerline_11926_da = clipped_raster11926.ice.reduce(skeletonize)\n",
    "centerline_11926_da.plot()\n",
    "type(centerline_11926_da)"
   ]
  },
  {
   "cell_type": "code",
   "execution_count": 55,
   "metadata": {},
   "outputs": [
    {
     "data": {
      "text/plain": [
       "<matplotlib.collections.QuadMesh at 0x1932a43d0>"
      ]
     },
     "execution_count": 55,
     "metadata": {},
     "output_type": "execute_result"
    },
    {
     "data": {
      "image/png": "[encoded data removed]",
      "text/plain": [
       "<Figure size 432x288 with 2 Axes>"
      ]
     },
     "metadata": {
      "needs_background": "light"
     },
     "output_type": "display_data"
    }
   ],
   "source": [
    "centerline_11926_ds = clipped_raster11926.where(centerline_11926_da != False)\n",
    "centerline_11926_ds.v.plot()"
   ]
  },
  {
   "cell_type": "code",
   "execution_count": 56,
   "metadata": {},
   "outputs": [],
   "source": [
    "g11926_dict = {'full':raster_11926,\n",
    "                'clipped_to_ice': clipped_raster11926,\n",
    "                'centerline': centerline_11926_ds}"
   ]
  },
  {
   "cell_type": "code",
   "execution_count": 58,
   "metadata": {},
   "outputs": [
    {
     "data": {
      "text/plain": [
       "<Derived Projected CRS: +proj=lcc +lat_1=15 +lat_2=65 +lat_0=30 +lon_0=95  ...>\n",
       "Name: unknown\n",
       "Axis Info [cartesian]:\n",
       "- E[east]: Easting (metre)\n",
       "- N[north]: Northing (metre)\n",
       "Area of Use:\n",
       "- undefined\n",
       "Coordinate Operation:\n",
       "- name: unknown\n",
       "- method: Lambert Conic Conformal (2SP)\n",
       "Datum: World Geodetic System 1984\n",
       "- Ellipsoid: WGS 84\n",
       "- Prime Meridian: Greenwich"
      ]
     },
     "execution_count": 58,
     "metadata": {},
     "output_type": "execute_result"
    }
   ],
   "source": [
    "rgi11926.crs"
   ]
  },
  {
   "cell_type": "code",
   "execution_count": 64,
   "metadata": {},
   "outputs": [
    {
     "data": {
      "text/plain": [
       "CRS.from_wkt('PROJCS[\"Asia_North_Lambert_Conformal_Conic\",GEOGCS[\"WGS 84\",DATUM[\"WGS_1984\",SPHEROID[\"WGS 84\",6378137,298.257223563,AUTHORITY[\"EPSG\",\"7030\"]]],PRIMEM[\"Greenwich\",0],UNIT[\"Degree\",0.0174532925199433]],PROJECTION[\"Lambert_Conformal_Conic_2SP\"],PARAMETER[\"false_easting\",0],PARAMETER[\"false_northing\",0],PARAMETER[\"central_meridian\",95],PARAMETER[\"standard_parallel_1\",15],PARAMETER[\"standard_parallel_2\",65],PARAMETER[\"latitude_of_origin\",30],UNIT[\"metre\",1,AUTHORITY[\"EPSG\",\"9001\"]],AXIS[\"Easting\",EAST],AXIS[\"Northing\",NORTH],AUTHORITY[\"EPSG\",\"102027\"]]')"
      ]
     },
     "execution_count": 64,
     "metadata": {},
     "output_type": "execute_result"
    }
   ],
   "source": [
    "itslive.rio.crs"
   ]
  },
  {
   "cell_type": "markdown",
   "metadata": {},
   "source": [
    "#### Let's wrap this into a function\n"
   ]
  },
  {
   "cell_type": "code",
   "execution_count": 65,
   "metadata": {},
   "outputs": [],
   "source": [
    "def extract_glacier_centerline(glacier_gpdf, full_scene_raster):\n",
    "    ''' This function should take in a vector outline of a single glacier and a xr object of glacier velocity data (full scene) \n",
    "    and return a dictionary (?) with 2 keys and values corresponding to two xarray objects: one showing the full 2d extent of \n",
    "    raster data clipped to the glacier outline and one with the extracted glacier centerline'''\n",
    "\n",
    "    #clip raster by vector\n",
    "    clipped_raster = full_scene_raster.rio.clip(glacier_gpdf.geometry, glacier_gpdf.crs)\n",
    "\n",
    "    #turn non-ice pixels to NaN (previously -32767.)\n",
    "    clipped_raster = xr.where(clipped_raster.ice == 1., clipped_raster, np.NaN)\n",
    "\n",
    "    #extract centerline - this is a xr DataArray that only has an boolean array representing centerline\n",
    "    centerline_da = clipped_raster.ice.reduce(skeletonize)\n",
    "\n",
    "    #create xarray dataset with centerline extracted for all data vars\n",
    "    centerline_ds = clipped_raster.where(centerline_da != False)\n",
    "\n",
    "    #wrap into dict\n",
    "    glacier_dict = {'clipped_to_ice': clipped_raster,\n",
    "                    'centerline': centerline_ds\n",
    "                    }\n",
    "\n",
    "    return glacier_dict\n",
    "\n",
    "    \n",
    "\n",
    "\n",
    "    "
   ]
  },
  {
   "cell_type": "code",
   "execution_count": 76,
   "metadata": {},
   "outputs": [
    {
     "data": {
      "text/plain": [
       "<matplotlib.collections.QuadMesh at 0x193f74580>"
      ]
     },
     "execution_count": 76,
     "metadata": {},
     "output_type": "execute_result"
    },
    {
     "data": {
      "image/png": "[encoded data removed]",
      "text/plain": [
       "<Figure size 432x288 with 2 Axes>"
      ]
     },
     "metadata": {
      "needs_background": "light"
     },
     "output_type": "display_data"
    }
   ],
   "source": [
    "g11926_dict = extract_glacier_centerline(rgi11926, itslive)\n",
    "g11926_cl = g11926_dict['centerline']\n",
    "g11926_cl.v.plot()"
   ]
  },
  {
   "cell_type": "code",
   "execution_count": 78,
   "metadata": {},
   "outputs": [
    {
     "data": {
      "text/plain": [
       "<matplotlib.collections.QuadMesh at 0x19388bca0>"
      ]
     },
     "execution_count": 78,
     "metadata": {},
     "output_type": "execute_result"
    },
    {
     "data": {
      "image/png": "[encoded data removed]",
      "text/plain": [
       "<Figure size 1008x504 with 4 Axes>"
      ]
     },
     "metadata": {
      "needs_background": "light"
     },
     "output_type": "display_data"
    }
   ],
   "source": [
    "fig, axs = plt.subplots(ncols=2, figsize= (14,7))\n",
    "\n",
    "g11926_cl.v.plot(ax=axs[0])\n",
    "g11926_dict['clipped_to_ice'].v.plot(ax=axs[1])"
   ]
  },
  {
   "cell_type": "code",
   "execution_count": 71,
   "metadata": {},
   "outputs": [],
   "source": [
    "g06681_dict = extract_glacier_centerline(rgi06681, itslive)"
   ]
  },
  {
   "cell_type": "code",
   "execution_count": 72,
   "metadata": {},
   "outputs": [
    {
     "data": {
      "text/plain": [
       "dict_keys(['clipped_to_ice', 'centerline'])"
      ]
     },
     "execution_count": 72,
     "metadata": {},
     "output_type": "execute_result"
    }
   ],
   "source": [
    "g06681_dict.keys()"
   ]
  },
  {
   "cell_type": "code",
   "execution_count": 75,
   "metadata": {},
   "outputs": [
    {
     "data": {
      "text/plain": [
       "<matplotlib.collections.QuadMesh at 0x19407f7f0>"
      ]
     },
     "execution_count": 75,
     "metadata": {},
     "output_type": "execute_result"
    },
    {
     "data": {
      "image/png": "[encoded data removed]",
      "text/plain": [
       "<Figure size 432x288 with 2 Axes>"
      ]
     },
     "metadata": {
      "needs_background": "light"
     },
     "output_type": "display_data"
    }
   ],
   "source": [
    "g06681_cl = g06681_dict['centerline']\n",
    "g06681_cl.v.plot()"
   ]
  },
  {
   "cell_type": "code",
   "execution_count": 70,
   "metadata": {},
   "outputs": [
    {
     "data": {
      "text/html": [
       "<div>\n",
       "<style scoped>\n",
       "    .dataframe tbody tr th:only-of-type {\n",
       "        vertical-align: middle;\n",
       "    }\n",
       "\n",
       "    .dataframe tbody tr th {\n",
       "        vertical-align: top;\n",
       "    }\n",
       "\n",
       "    .dataframe thead th {\n",
       "        text-align: right;\n",
       "    }\n",
       "</style>\n",
       "<table border=\"1\" class=\"dataframe\">\n",
       "  <thead>\n",
       "    <tr style=\"text-align: right;\">\n",
       "      <th></th>\n",
       "      <th>RGIId</th>\n",
       "      <th>GLIMSId</th>\n",
       "      <th>BgnDate</th>\n",
       "      <th>EndDate</th>\n",
       "      <th>CenLon</th>\n",
       "      <th>CenLat</th>\n",
       "      <th>O1Region</th>\n",
       "      <th>O2Region</th>\n",
       "      <th>Area</th>\n",
       "      <th>Zmin</th>\n",
       "      <th>...</th>\n",
       "      <th>Aspect</th>\n",
       "      <th>Lmax</th>\n",
       "      <th>Status</th>\n",
       "      <th>Connect</th>\n",
       "      <th>Form</th>\n",
       "      <th>TermType</th>\n",
       "      <th>Surging</th>\n",
       "      <th>Linkages</th>\n",
       "      <th>Name</th>\n",
       "      <th>geometry</th>\n",
       "    </tr>\n",
       "  </thead>\n",
       "  <tbody>\n",
       "    <tr>\n",
       "      <th>11908</th>\n",
       "      <td>RGI60-15.11909</td>\n",
       "      <td>G096657E29334N</td>\n",
       "      <td>20050908</td>\n",
       "      <td>-9999999</td>\n",
       "      <td>96.657000</td>\n",
       "      <td>29.334000</td>\n",
       "      <td>15</td>\n",
       "      <td>3</td>\n",
       "      <td>179.589</td>\n",
       "      <td>3980</td>\n",
       "      <td>...</td>\n",
       "      <td>78</td>\n",
       "      <td>32403</td>\n",
       "      <td>0</td>\n",
       "      <td>0</td>\n",
       "      <td>1</td>\n",
       "      <td>0</td>\n",
       "      <td>1</td>\n",
       "      <td>9</td>\n",
       "      <td>Yagnung</td>\n",
       "      <td>POLYGON ((141503.075 -60447.089, 141509.140 -6...</td>\n",
       "    </tr>\n",
       "    <tr>\n",
       "      <th>6880</th>\n",
       "      <td>RGI60-15.06881</td>\n",
       "      <td>G079147E30802N</td>\n",
       "      <td>20010801</td>\n",
       "      <td>-9999999</td>\n",
       "      <td>79.147205</td>\n",
       "      <td>30.801627</td>\n",
       "      <td>15</td>\n",
       "      <td>1</td>\n",
       "      <td>121.890</td>\n",
       "      <td>3999</td>\n",
       "      <td>...</td>\n",
       "      <td>353</td>\n",
       "      <td>32048</td>\n",
       "      <td>0</td>\n",
       "      <td>0</td>\n",
       "      <td>0</td>\n",
       "      <td>0</td>\n",
       "      <td>9</td>\n",
       "      <td>0</td>\n",
       "      <td>Gangotri Glacier</td>\n",
       "      <td>POLYGON ((-1386474.219 212038.791, -1386516.66...</td>\n",
       "    </tr>\n",
       "    <tr>\n",
       "      <th>11925</th>\n",
       "      <td>RGI60-15.11926</td>\n",
       "      <td>G096745E29216N</td>\n",
       "      <td>20050908</td>\n",
       "      <td>-9999999</td>\n",
       "      <td>96.745000</td>\n",
       "      <td>29.216000</td>\n",
       "      <td>15</td>\n",
       "      <td>3</td>\n",
       "      <td>96.283</td>\n",
       "      <td>4285</td>\n",
       "      <td>...</td>\n",
       "      <td>101</td>\n",
       "      <td>15157</td>\n",
       "      <td>0</td>\n",
       "      <td>0</td>\n",
       "      <td>1</td>\n",
       "      <td>0</td>\n",
       "      <td>9</td>\n",
       "      <td>9</td>\n",
       "      <td>CN5O282B0028 Xirinongpu Glacier</td>\n",
       "      <td>POLYGON ((155971.052 -73238.820, 156044.377 -7...</td>\n",
       "    </tr>\n",
       "    <tr>\n",
       "      <th>9990</th>\n",
       "      <td>RGI60-15.09991</td>\n",
       "      <td>G086830E28048N</td>\n",
       "      <td>20100409</td>\n",
       "      <td>-9999999</td>\n",
       "      <td>86.830000</td>\n",
       "      <td>28.048000</td>\n",
       "      <td>15</td>\n",
       "      <td>2</td>\n",
       "      <td>73.215</td>\n",
       "      <td>5155</td>\n",
       "      <td>...</td>\n",
       "      <td>13</td>\n",
       "      <td>20118</td>\n",
       "      <td>0</td>\n",
       "      <td>0</td>\n",
       "      <td>0</td>\n",
       "      <td>0</td>\n",
       "      <td>9</td>\n",
       "      <td>9</td>\n",
       "      <td>CN5O193B0142 Rongbuk Glacier</td>\n",
       "      <td>POLYGON ((-741158.521 -163831.817, -741048.107...</td>\n",
       "    </tr>\n",
       "    <tr>\n",
       "      <th>2702</th>\n",
       "      <td>RGI60-15.02703</td>\n",
       "      <td>G088202E27766N</td>\n",
       "      <td>20001108</td>\n",
       "      <td>-9999999</td>\n",
       "      <td>88.201782</td>\n",
       "      <td>27.765869</td>\n",
       "      <td>15</td>\n",
       "      <td>2</td>\n",
       "      <td>68.664</td>\n",
       "      <td>4187</td>\n",
       "      <td>...</td>\n",
       "      <td>69</td>\n",
       "      <td>26217</td>\n",
       "      <td>0</td>\n",
       "      <td>0</td>\n",
       "      <td>0</td>\n",
       "      <td>0</td>\n",
       "      <td>9</td>\n",
       "      <td>9</td>\n",
       "      <td>None</td>\n",
       "      <td>POLYGON ((-618186.577 -201155.275, -618177.384...</td>\n",
       "    </tr>\n",
       "  </tbody>\n",
       "</table>\n",
       "<p>5 rows × 23 columns</p>\n",
       "</div>"
      ],
      "text/plain": [
       "                RGIId         GLIMSId   BgnDate   EndDate     CenLon  \\\n",
       "11908  RGI60-15.11909  G096657E29334N  20050908  -9999999  96.657000   \n",
       "6880   RGI60-15.06881  G079147E30802N  20010801  -9999999  79.147205   \n",
       "11925  RGI60-15.11926  G096745E29216N  20050908  -9999999  96.745000   \n",
       "9990   RGI60-15.09991  G086830E28048N  20100409  -9999999  86.830000   \n",
       "2702   RGI60-15.02703  G088202E27766N  20001108  -9999999  88.201782   \n",
       "\n",
       "          CenLat O1Region O2Region     Area  Zmin  ...  Aspect   Lmax  Status  \\\n",
       "11908  29.334000       15        3  179.589  3980  ...      78  32403       0   \n",
       "6880   30.801627       15        1  121.890  3999  ...     353  32048       0   \n",
       "11925  29.216000       15        3   96.283  4285  ...     101  15157       0   \n",
       "9990   28.048000       15        2   73.215  5155  ...      13  20118       0   \n",
       "2702   27.765869       15        2   68.664  4187  ...      69  26217       0   \n",
       "\n",
       "       Connect  Form  TermType  Surging  Linkages  \\\n",
       "11908        0     1         0        1         9   \n",
       "6880         0     0         0        9         0   \n",
       "11925        0     1         0        9         9   \n",
       "9990         0     0         0        9         9   \n",
       "2702         0     0         0        9         9   \n",
       "\n",
       "                                  Name  \\\n",
       "11908                          Yagnung   \n",
       "6880                  Gangotri Glacier   \n",
       "11925  CN5O282B0028 Xirinongpu Glacier   \n",
       "9990      CN5O193B0142 Rongbuk Glacier   \n",
       "2702                              None   \n",
       "\n",
       "                                                geometry  \n",
       "11908  POLYGON ((141503.075 -60447.089, 141509.140 -6...  \n",
       "6880   POLYGON ((-1386474.219 212038.791, -1386516.66...  \n",
       "11925  POLYGON ((155971.052 -73238.820, 156044.377 -7...  \n",
       "9990   POLYGON ((-741158.521 -163831.817, -741048.107...  \n",
       "2702   POLYGON ((-618186.577 -201155.275, -618177.384...  \n",
       "\n",
       "[5 rows x 23 columns]"
      ]
     },
     "execution_count": 70,
     "metadata": {},
     "output_type": "execute_result"
    }
   ],
   "source": [
    "rgi06681 = se_asia_prj.loc[se_asia_prj['RGIId'] == 'RGI60-15.06681']\n",
    "se_asia_prj.sort_values('Area', ascending=False).head()"
   ]
  },
  {
   "cell_type": "markdown",
   "metadata": {},
   "source": [
    "### A second glacier"
   ]
  },
  {
   "cell_type": "code",
   "execution_count": 48,
   "metadata": {},
   "outputs": [
    {
     "data": {
      "text/html": [
       "<div>\n",
       "<style scoped>\n",
       "    .dataframe tbody tr th:only-of-type {\n",
       "        vertical-align: middle;\n",
       "    }\n",
       "\n",
       "    .dataframe tbody tr th {\n",
       "        vertical-align: top;\n",
       "    }\n",
       "\n",
       "    .dataframe thead th {\n",
       "        text-align: right;\n",
       "    }\n",
       "</style>\n",
       "<table border=\"1\" class=\"dataframe\">\n",
       "  <thead>\n",
       "    <tr style=\"text-align: right;\">\n",
       "      <th></th>\n",
       "      <th>RGIId</th>\n",
       "      <th>GLIMSId</th>\n",
       "      <th>BgnDate</th>\n",
       "      <th>EndDate</th>\n",
       "      <th>CenLon</th>\n",
       "      <th>CenLat</th>\n",
       "      <th>O1Region</th>\n",
       "      <th>O2Region</th>\n",
       "      <th>Area</th>\n",
       "      <th>Zmin</th>\n",
       "      <th>...</th>\n",
       "      <th>Aspect</th>\n",
       "      <th>Lmax</th>\n",
       "      <th>Status</th>\n",
       "      <th>Connect</th>\n",
       "      <th>Form</th>\n",
       "      <th>TermType</th>\n",
       "      <th>Surging</th>\n",
       "      <th>Linkages</th>\n",
       "      <th>Name</th>\n",
       "      <th>geometry</th>\n",
       "    </tr>\n",
       "  </thead>\n",
       "  <tbody>\n",
       "    <tr>\n",
       "      <th>11908</th>\n",
       "      <td>RGI60-15.11909</td>\n",
       "      <td>G096657E29334N</td>\n",
       "      <td>20050908</td>\n",
       "      <td>-9999999</td>\n",
       "      <td>96.657</td>\n",
       "      <td>29.334</td>\n",
       "      <td>15</td>\n",
       "      <td>3</td>\n",
       "      <td>179.589</td>\n",
       "      <td>3980</td>\n",
       "      <td>...</td>\n",
       "      <td>78</td>\n",
       "      <td>32403</td>\n",
       "      <td>0</td>\n",
       "      <td>0</td>\n",
       "      <td>1</td>\n",
       "      <td>0</td>\n",
       "      <td>1</td>\n",
       "      <td>9</td>\n",
       "      <td>Yagnung</td>\n",
       "      <td>POLYGON ((141503.075 -60447.089, 141509.140 -6...</td>\n",
       "    </tr>\n",
       "  </tbody>\n",
       "</table>\n",
       "<p>1 rows × 23 columns</p>\n",
       "</div>"
      ],
      "text/plain": [
       "                RGIId         GLIMSId   BgnDate   EndDate  CenLon  CenLat  \\\n",
       "11908  RGI60-15.11909  G096657E29334N  20050908  -9999999  96.657  29.334   \n",
       "\n",
       "      O1Region O2Region     Area  Zmin  ...  Aspect   Lmax  Status  Connect  \\\n",
       "11908       15        3  179.589  3980  ...      78  32403       0        0   \n",
       "\n",
       "       Form  TermType  Surging  Linkages     Name  \\\n",
       "11908     1         0        1         9  Yagnung   \n",
       "\n",
       "                                                geometry  \n",
       "11908  POLYGON ((141503.075 -60447.089, 141509.140 -6...  \n",
       "\n",
       "[1 rows x 23 columns]"
      ]
     },
     "execution_count": 48,
     "metadata": {},
     "output_type": "execute_result"
    }
   ],
   "source": [
    "rgi11909 = se_asia_prj.loc[se_asia_prj['RGIId'] == 'RGI60-15.11909']\n",
    "rgi11909"
   ]
  },
  {
   "cell_type": "code",
   "execution_count": 49,
   "metadata": {},
   "outputs": [],
   "source": [
    "raster_11909 = itslive.rio.clip(rgi11909.geometry, rgi11909.crs)"
   ]
  },
  {
   "cell_type": "code",
   "execution_count": null,
   "metadata": {},
   "outputs": [],
   "source": [
    "#turn non-ice pixels to NaN ()\n",
    "clipped_raster11909 = xr.where(raster_11909.ice == 1., raster_11909, np.NaN)"
   ]
  },
  {
   "cell_type": "code",
   "execution_count": null,
   "metadata": {},
   "outputs": [],
   "source": [
    "fig, ax = plt.subplots(figsize=(9,9))\n",
    "\n",
    "just_ice.v.plot(ax=ax)"
   ]
  },
  {
   "cell_type": "markdown",
   "metadata": {},
   "source": [
    "## Extract glacier centerline (trying to in a more xarray-like way)"
   ]
  },
  {
   "cell_type": "code",
   "execution_count": null,
   "metadata": {},
   "outputs": [],
   "source": [
    "centerline_test = just_ice.ice.reduce(skeletonize)\n",
    "centerline_test.plot()\n",
    "type(centerline_test)"
   ]
  },
  {
   "cell_type": "code",
   "execution_count": null,
   "metadata": {},
   "outputs": [],
   "source": [
    "centerline_test_ds = glacier_raster.where(centerline_test != False)\n",
    "centerline_test_ds.v.plot()"
   ]
  },
  {
   "cell_type": "code",
   "execution_count": null,
   "metadata": {},
   "outputs": [],
   "source": [
    "glacier_dict = {'full':glacier_raster,\n",
    "                'clipped_to_ice': just_ice,\n",
    "                'centerline': centerline_test_ds}"
   ]
  },
  {
   "cell_type": "code",
   "execution_count": null,
   "metadata": {},
   "outputs": [],
   "source": [
    "glacier_dict['clipped_to_ice']"
   ]
  },
  {
   "cell_type": "markdown",
   "metadata": {},
   "source": [
    "## Extract glacier centerline (original way)"
   ]
  },
  {
   "cell_type": "code",
   "execution_count": null,
   "metadata": {},
   "outputs": [],
   "source": [
    "skeleton_ice = skeletonize(just_ice.ice.data)\n",
    "skeleton_ice_lee = skeletonize(just_ice.ice.data)"
   ]
  },
  {
   "cell_type": "markdown",
   "metadata": {},
   "source": [
    "Compare different skeletonize algorithms:"
   ]
  },
  {
   "cell_type": "code",
   "execution_count": null,
   "metadata": {},
   "outputs": [],
   "source": [
    "fig, axes = plt.subplots(ncols=3, figsize = (14,4), sharex=True, sharey=True)\n",
    "\n",
    "ax = axes.ravel()\n",
    "\n",
    "ax[0].imshow(just_ice.v, cmap=plt.cm.cividis)\n",
    "ax[0].axis('off')\n",
    "ax[0].set_title('Glacier velocity', fontsize=14)\n",
    "ax[0].imshow(skeleton_ice, cmap=plt.cm.Reds, alpha = 0.2)\n",
    "ax[0].imshow(skeleton_ice_lee, cmap=plt.cm.Greens, alpha = 0.2)\n",
    "\n",
    "\n",
    "ax[1].imshow(skeleton_ice, cmap=plt.cm.Reds)\n",
    "ax[1].axis('off')\n",
    "ax[1].set_title('skeleton', fontsize=14)\n",
    "\n",
    "ax[2].imshow(skeleton_ice_lee, cmap=plt.cm.Greens)\n",
    "ax[2].axis('off')\n",
    "ax[2].set_title('skeleton (lee)', fontsize=14)\n",
    "\n",
    "fig.tight_layout()\n",
    "fig.show"
   ]
  },
  {
   "cell_type": "markdown",
   "metadata": {},
   "source": [
    "## Make xarray object out of centerline bool mask\n",
    "- should have the same coords as the velocity xarray object"
   ]
  },
  {
   "cell_type": "code",
   "execution_count": null,
   "metadata": {},
   "outputs": [],
   "source": [
    "centerline_da = xr.DataArray(\n",
    "    skeleton_ice,\n",
    "    dims=(\"y\", \"x\"),\n",
    "    coords={\n",
    "        \"x\": glacier_raster.coords['x'].data,\n",
    "        \"y\": glacier_raster.coords['y'].data}\n",
    ")\n",
    "\n",
    "\n",
    "centerline_da.plot()"
   ]
  },
  {
   "cell_type": "code",
   "execution_count": null,
   "metadata": {},
   "outputs": [],
   "source": [
    "centerline_da"
   ]
  },
  {
   "cell_type": "markdown",
   "metadata": {},
   "source": [
    "### Extract itslive xarray dataset data only at points along centerline\n",
    "- this should return a dataset with the same data vars but only data along centerline"
   ]
  },
  {
   "cell_type": "code",
   "execution_count": null,
   "metadata": {},
   "outputs": [],
   "source": [
    "centerline_ds = glacier_raster.where(da != False)"
   ]
  },
  {
   "cell_type": "code",
   "execution_count": null,
   "metadata": {},
   "outputs": [],
   "source": [
    "centerline_ds"
   ]
  },
  {
   "cell_type": "code",
   "execution_count": null,
   "metadata": {},
   "outputs": [],
   "source": [
    "fig, axs = plt.subplots(ncols = 2, figsize=(20,8))\n",
    "just_ice.ice.plot(ax=axs[0], cmap=plt.cm.cividis)\n",
    "centerline_ds.v.plot(ax=axs[0])\n",
    "\n",
    "just_ice.v.plot(ax=axs[1])"
   ]
  },
  {
   "cell_type": "markdown",
   "metadata": {},
   "source": [
    "### Experimenting with skeletonize v. thin (scikit image)"
   ]
  },
  {
   "cell_type": "code",
   "execution_count": null,
   "metadata": {},
   "outputs": [],
   "source": [
    "just_ice.ice.plot()"
   ]
  },
  {
   "cell_type": "code",
   "execution_count": null,
   "metadata": {},
   "outputs": [],
   "source": [
    "from skimage.morphology import skeletonize, thin\n",
    "\n",
    "thinned = thin(just_ice.ice)\n",
    "#thinned_partial = thin(just_ice.ice.data, max_num_iter = 50)\n",
    "\n",
    "plt.imshow(thinned)"
   ]
  },
  {
   "cell_type": "code",
   "execution_count": null,
   "metadata": {},
   "outputs": [],
   "source": [
    "fig, axs = plt.subplots(ncols=2)\n",
    "\n",
    "axs[0].imshow(thinned, cmap=plt.cm.gray)\n",
    "axs[0].set_title('thinned')\n",
    "axs[0].axis('off')\n",
    "\n",
    "axs[1].imshow(thinned_partial, cmap=plt.cm.gray)\n",
    "axs[1].set_title('thinned partial')\n",
    "axs[1].axis('off')\n",
    "\n"
   ]
  },
  {
   "cell_type": "code",
   "execution_count": null,
   "metadata": {},
   "outputs": [],
   "source": []
  }
 ],
 "metadata": {
  "kernelspec": {
   "display_name": "conda-env-mynewbook-py",
   "language": "python",
   "name": "conda-env-mynewbook-py"
  },
  "language_info": {
   "codemirror_mode": {
    "name": "ipython",
    "version": 3
   },
   "file_extension": ".py",
   "mimetype": "text/x-python",
   "name": "python",
   "nbconvert_exporter": "python",
   "pygments_lexer": "ipython3",
   "version": "3.10.4"
  }
 },
 "nbformat": 4,
 "nbformat_minor": 2
}
