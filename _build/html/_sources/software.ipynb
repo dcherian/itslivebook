{
 "cells": [
  {
   "cell_type": "markdown",
   "id": "71327c0e",
   "metadata": {},
   "source": [
    "# Software and Data\n",
    "\n",
    "On this page you'll find information about the computing environment and datasets that we'll be using in this tutorial.   \n",
    "\n",
    "\n",
    "## Computing environment\n",
    "\n",
    "Below, you'lll see a list of the python libraries we'll be using in this example:"
   ]
  },
  {
   "cell_type": "code",
   "execution_count": 1,
   "id": "446021e3",
   "metadata": {},
   "outputs": [],
   "source": [
    "import geopandas as gpd\n",
    "import os\n",
    "import numpy as np\n",
    "import xarray as xr\n",
    "import rioxarray as rxr\n",
    "import matplotlib.pyplot as plt\n",
    "import matplotlib.ticker as mticker\n",
    "from shapely.geometry import Polygon\n",
    "from shapely.geometry import Point\n",
    "import cartopy.crs as ccrs\n",
    "from cartopy.mpl.gridliner import LONGITUDE_FORMATTER, LATITUDE_FORMATTER\n",
    "import cartopy\n",
    "import cartopy.feature as cfeature\n",
    "import json\n",
    "from geocube.api.core import make_geocube"
   ]
  },
  {
   "cell_type": "markdown",
   "id": "29b773e4",
   "metadata": {},
   "source": [
    "## Data\n",
    "\n",
    "The velocity data that we'll be using is from the  [ITS_LIVE dataset](https://its-live.jpl.nasa.gov/#access). This dataset contains global coverage of land ice velocity data at various temporal freuencies and in various formats. Follow the link to explore the data that's available for a particular region you may be interested in. \n",
    "\n",
    "The ITS_LIVE velocity data is accessed in a raster format and the data covers a large swath of terrain covering land that is glaciated and non-glaciated. We want to select just the pixels that cover glaciated surfaces; to do this, we use glacier outlines from the [Randolph Glacier Inventory](https://www.glims.org/RGI/). \n",
    "\n",
    "Head to the next page to see how we start working with this data \n"
   ]
  },
  {
   "cell_type": "markdown",
   "id": "be322d4f",
   "metadata": {},
   "source": [
    "### Three streams of velocity data\n",
    "\n",
    "This notebook is going to contain an example of something you might run into: the same (or similar) data is hosted from different sources, meaning it is accessed in different ways and may be in slightly different formats. In this case, we have ITS_LIVE velocity data that can be accessed from an S3 bucket as **zarr datacubes** from the NSIDC DAAC as **netcdfs** and from the NSIDC DAAC (??) as **geotiffs**. You'll see that while this is the same underlying dataset, the formatting varies significantly among the three and in this case, the data are in different file types. \n",
    "\n",
    "In [Accessing ITS_LIVE zarr datacubes](accessing_s3_data.ipynb) you will see an example of accessing cloud-hosted zarr datacubes that are stored in s3 bukets hosted by Amazon Web Services. In the [Regional glacier velocity analysis notebook](region_scale_glacier_analysis.ipynb), you will see how to construct xarray objects representing glacier velocity data from **geotiff** files. Finally, in the [individual glacier analysis 1 notebook](individual_glacier_analysis1.ipynb) you will see an example of dowloading and reading ITS_LIVE data in netcdf-format accessed from the NSIDC DAAC. "
   ]
  },
  {
   "cell_type": "code",
   "execution_count": null,
   "id": "7b76a272",
   "metadata": {},
   "outputs": [],
   "source": []
  }
 ],
 "metadata": {
  "kernelspec": {
   "display_name": "mynewbook",
   "language": "python",
   "name": "conda-env-mynewbook-py"
  },
  "language_info": {
   "codemirror_mode": {
    "name": "ipython",
    "version": 3
   },
   "file_extension": ".py",
   "mimetype": "text/x-python",
   "name": "python",
   "nbconvert_exporter": "python",
   "pygments_lexer": "ipython3",
   "version": "3.10.4"
  }
 },
 "nbformat": 4,
 "nbformat_minor": 5
}
