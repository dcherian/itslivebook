{
 "cells": [
  {
   "cell_type": "code",
   "execution_count": null,
   "metadata": {},
   "outputs": [],
   "source": [
    "import xarray as xr\n",
    "from skimage.morphology import skeletonize\n",
    "from shapely.geometry import MultiPolygon\n",
    "import geopandas as gpd\n",
    "import rioxarray as rxr\n",
    "import numpy as np\n",
    "from matplotlib import pyplot as plt"
   ]
  },
  {
   "cell_type": "code",
   "execution_count": null,
   "metadata": {},
   "outputs": [],
   "source": [
    "gen_path = '/Users/emarshall/Desktop/siparcs/xr_book1/'"
   ]
  },
  {
   "cell_type": "code",
   "execution_count": null,
   "metadata": {},
   "outputs": [],
   "source": [
    "gen_path_home = '/Users/emmamarshall/Desktop/phd_research/siparcs/'\n",
    "rgi_path_home = '/Users/emmamarshall/Downloads/15rgi60SouthAsiaEast'"
   ]
  },
  {
   "cell_type": "markdown",
   "metadata": {},
   "source": [
    "## Read in vector data"
   ]
  },
  {
   "cell_type": "code",
   "execution_count": null,
   "metadata": {},
   "outputs": [],
   "source": [
    "#se_asia = gpd.read_file(gen_path_home[:-9] + 'data/nsidc0770_15.rgi60.SouthAsiaEast/15_rgi60_SouthAsiaEast.shp')\n",
    "se_asia = gpd.read_file(rgi_path_home + '/15_rgi60_SouthAsiaEast.shp')\n"
   ]
  },
  {
   "cell_type": "code",
   "execution_count": null,
   "metadata": {},
   "outputs": [],
   "source": [
    "se_asia_prj = se_asia.to_crs('+proj=lcc +lat_1=15 +lat_2=65 +lat_0=30 +lon_0=95 +x_0=0 +y_0=0 +ellps=WGS84 +datum=WGS84 +units=m no_defs')\n",
    "se_asia_prj"
   ]
  },
  {
   "cell_type": "code",
   "execution_count": null,
   "metadata": {},
   "outputs": [],
   "source": [
    "sample_glacier_prj = se_asia_prj.loc[se_asia_prj['RGIId'] == 'RGI60-15.11909']\n",
    "sample_glacier_prj"
   ]
  },
  {
   "cell_type": "code",
   "execution_count": null,
   "metadata": {},
   "outputs": [],
   "source": [
    "sample_glacier_series_prj = se_asia_prj.iloc[11908]"
   ]
  },
  {
   "cell_type": "code",
   "execution_count": null,
   "metadata": {},
   "outputs": [],
   "source": [
    "import shapely\n",
    "shapely.__version__"
   ]
  },
  {
   "cell_type": "code",
   "execution_count": null,
   "metadata": {},
   "outputs": [],
   "source": [
    "attributes = {'id': 11909, 'name':'sample_glacier','valid':True}\n",
    "centerline = Centerline(sample_glacier_series_prj['geometry'], **attributes)"
   ]
  },
  {
   "cell_type": "code",
   "execution_count": null,
   "metadata": {},
   "outputs": [],
   "source": [
    "type(centerline)\n",
    "centerline.name"
   ]
  },
  {
   "cell_type": "markdown",
   "metadata": {},
   "source": [
    "## Read in raster data \n",
    "- for once we've exctracted centerline\n"
   ]
  },
  {
   "cell_type": "code",
   "execution_count": null,
   "metadata": {},
   "outputs": [],
   "source": [
    "itslive = rxr.open_rasterio(gen_path_home + 'HMA_G0120_0000.nc').squeeze()"
   ]
  },
  {
   "cell_type": "code",
   "execution_count": null,
   "metadata": {},
   "outputs": [],
   "source": [
    "glacier_raster = itslive.rio.clip(sample_glacier_prj.geometry, sample_glacier_prj.crs)"
   ]
  },
  {
   "cell_type": "code",
   "execution_count": null,
   "metadata": {},
   "outputs": [],
   "source": [
    "#get rid of non ice pixels (turn to nan)\n",
    "just_ice = xr.where(glacier_raster.ice == 1., glacier_raster, np.NaN)"
   ]
  },
  {
   "cell_type": "code",
   "execution_count": null,
   "metadata": {},
   "outputs": [],
   "source": [
    "fig, ax = plt.subplots(figsize=(9,9))\n",
    "\n",
    "just_ice.v.plot(ax=ax)"
   ]
  },
  {
   "cell_type": "markdown",
   "metadata": {},
   "source": [
    "## Extract glacier centerline (trying to in a more xarray-like way)"
   ]
  },
  {
   "cell_type": "code",
   "execution_count": null,
   "metadata": {},
   "outputs": [],
   "source": [
    "from skimage.morphology import skeletonize "
   ]
  },
  {
   "cell_type": "code",
   "execution_count": null,
   "metadata": {},
   "outputs": [],
   "source": [
    "centerline_test = just_ice.ice.reduce(skeletonize)\n",
    "centerline_test.plot()\n",
    "type(centerline_test)"
   ]
  },
  {
   "cell_type": "code",
   "execution_count": null,
   "metadata": {},
   "outputs": [],
   "source": [
    "centerline_test_ds = glacier_raster.where(centerline_test != False)\n",
    "centerline_test_ds.v.plot()"
   ]
  },
  {
   "cell_type": "code",
   "execution_count": null,
   "metadata": {},
   "outputs": [],
   "source": [
    "glacier_dict = {'full':glacier_raster,\n",
    "                'clipped_to_ice': just_ice,\n",
    "                'centerline': centerline_test_ds}"
   ]
  },
  {
   "cell_type": "code",
   "execution_count": null,
   "metadata": {},
   "outputs": [],
   "source": [
    "glacier_dict['clipped_to_ice']"
   ]
  },
  {
   "cell_type": "markdown",
   "metadata": {},
   "source": [
    "## Extract glacier centerline (original way)"
   ]
  },
  {
   "cell_type": "code",
   "execution_count": null,
   "metadata": {},
   "outputs": [],
   "source": [
    "skeleton_ice = skeletonize(just_ice.ice.data)\n",
    "skeleton_ice_lee = skeletonize(just_ice.ice.data)"
   ]
  },
  {
   "cell_type": "markdown",
   "metadata": {},
   "source": [
    "Compare different skeletonize algorithms:"
   ]
  },
  {
   "cell_type": "code",
   "execution_count": null,
   "metadata": {},
   "outputs": [],
   "source": [
    "fig, axes = plt.subplots(ncols=3, figsize = (14,4), sharex=True, sharey=True)\n",
    "\n",
    "ax = axes.ravel()\n",
    "\n",
    "ax[0].imshow(just_ice.v, cmap=plt.cm.cividis)\n",
    "ax[0].axis('off')\n",
    "ax[0].set_title('Glacier velocity', fontsize=14)\n",
    "ax[0].imshow(skeleton_ice, cmap=plt.cm.Reds, alpha = 0.2)\n",
    "ax[0].imshow(skeleton_ice_lee, cmap=plt.cm.Greens, alpha = 0.2)\n",
    "\n",
    "\n",
    "ax[1].imshow(skeleton_ice, cmap=plt.cm.Reds)\n",
    "ax[1].axis('off')\n",
    "ax[1].set_title('skeleton', fontsize=14)\n",
    "\n",
    "ax[2].imshow(skeleton_ice_lee, cmap=plt.cm.Greens)\n",
    "ax[2].axis('off')\n",
    "ax[2].set_title('skeleton (lee)', fontsize=14)\n",
    "\n",
    "fig.tight_layout()\n",
    "fig.show"
   ]
  },
  {
   "cell_type": "markdown",
   "metadata": {},
   "source": [
    "## Make xarray object out of centerline bool mask\n",
    "- should have the same coords as the velocity xarray object"
   ]
  },
  {
   "cell_type": "code",
   "execution_count": null,
   "metadata": {},
   "outputs": [],
   "source": [
    "centerline_da = xr.DataArray(\n",
    "    skeleton_ice,\n",
    "    dims=(\"y\", \"x\"),\n",
    "    coords={\n",
    "        \"x\": glacier_raster.coords['x'].data,\n",
    "        \"y\": glacier_raster.coords['y'].data}\n",
    ")\n",
    "\n",
    "\n",
    "centerline_da.plot()"
   ]
  },
  {
   "cell_type": "code",
   "execution_count": null,
   "metadata": {},
   "outputs": [],
   "source": [
    "centerline_da"
   ]
  },
  {
   "cell_type": "markdown",
   "metadata": {},
   "source": [
    "### Extract itslive xarray dataset data only at points along centerline\n",
    "- this should return a dataset with the same data vars but only data along centerline"
   ]
  },
  {
   "cell_type": "code",
   "execution_count": null,
   "metadata": {},
   "outputs": [],
   "source": [
    "centerline_ds = glacier_raster.where(da != False)"
   ]
  },
  {
   "cell_type": "code",
   "execution_count": null,
   "metadata": {},
   "outputs": [],
   "source": [
    "centerline_ds"
   ]
  },
  {
   "cell_type": "code",
   "execution_count": null,
   "metadata": {},
   "outputs": [],
   "source": [
    "fig, axs = plt.subplots(ncols = 2, figsize=(20,8))\n",
    "just_ice.ice.plot(ax=axs[0], cmap=plt.cm.cividis)\n",
    "centerline_ds.v.plot(ax=axs[0])\n",
    "\n",
    "just_ice.v.plot(ax=axs[1])"
   ]
  },
  {
   "cell_type": "markdown",
   "metadata": {},
   "source": [
    "### Experimenting with skeletonize v. thin (scikit image)"
   ]
  },
  {
   "cell_type": "code",
   "execution_count": null,
   "metadata": {},
   "outputs": [],
   "source": [
    "just_ice.ice.plot()"
   ]
  },
  {
   "cell_type": "code",
   "execution_count": null,
   "metadata": {},
   "outputs": [],
   "source": [
    "from skimage.morphology import skeletonize, thin\n",
    "\n",
    "thinned = thin(just_ice.ice)\n",
    "#thinned_partial = thin(just_ice.ice.data, max_num_iter = 50)\n",
    "\n",
    "plt.imshow(thinned)"
   ]
  },
  {
   "cell_type": "code",
   "execution_count": null,
   "metadata": {},
   "outputs": [],
   "source": [
    "fig, axs = plt.subplots(ncols=2)\n",
    "\n",
    "axs[0].imshow(thinned, cmap=plt.cm.gray)\n",
    "axs[0].set_title('thinned')\n",
    "axs[0].axis('off')\n",
    "\n",
    "axs[1].imshow(thinned_partial, cmap=plt.cm.gray)\n",
    "axs[1].set_title('thinned partial')\n",
    "axs[1].axis('off')\n",
    "\n"
   ]
  },
  {
   "cell_type": "code",
   "execution_count": null,
   "metadata": {},
   "outputs": [],
   "source": []
  }
 ],
 "metadata": {
  "kernelspec": {
   "display_name": "conda-env-mynewbook-py",
   "language": "python",
   "name": "conda-env-mynewbook-py"
  },
  "language_info": {
   "codemirror_mode": {
    "name": "ipython",
    "version": 3
   },
   "file_extension": ".py",
   "mimetype": "text/x-python",
   "name": "python",
   "nbconvert_exporter": "python",
   "pygments_lexer": "ipython3",
   "version": "3.10.4"
  }
 },
 "nbformat": 4,
 "nbformat_minor": 2
}
