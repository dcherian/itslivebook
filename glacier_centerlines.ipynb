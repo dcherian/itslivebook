{
 "cells": [
  {
   "cell_type": "code",
   "execution_count": null,
   "metadata": {},
   "outputs": [],
   "source": [
    "import xarray as xr\n",
    "from skimage.morphology import skeletonize\n",
    "from shapely.geometry import MultiPolygon\n",
    "import geopandas as gpd\n",
    "import rioxarray as rxr\n",
    "import numpy as np\n",
    "from matplotlib import pyplot as plt"
   ]
  },
  {
   "cell_type": "code",
   "execution_count": null,
   "metadata": {},
   "outputs": [],
   "source": [
    "gen_path = '/Users/emarshall/Desktop/siparcs/xr_book1/'"
   ]
  },
  {
   "cell_type": "markdown",
   "metadata": {},
   "source": [
    "## Read in vector data"
   ]
  },
  {
   "cell_type": "code",
   "execution_count": null,
   "metadata": {},
   "outputs": [],
   "source": [
    "se_asia = gpd.read_file(gen_path[:-9] + 'data/nsidc0770_15.rgi60.SouthAsiaEast/15_rgi60_SouthAsiaEast.shp')"
   ]
  },
  {
   "cell_type": "code",
   "execution_count": null,
   "metadata": {},
   "outputs": [],
   "source": [
    "se_asia_prj = se_asia.to_crs('+proj=lcc +lat_1=15 +lat_2=65 +lat_0=30 +lon_0=95 +x_0=0 +y_0=0 +ellps=WGS84 +datum=WGS84 +units=m no_defs')\n",
    "se_asia_prj"
   ]
  },
  {
   "cell_type": "code",
   "execution_count": null,
   "metadata": {},
   "outputs": [],
   "source": [
    "sample_glacier_prj = se_asia_prj.loc[se_asia_prj['RGIId'] == 'RGI60-15.11909']\n",
    "sample_glacier_prj"
   ]
  },
  {
   "cell_type": "code",
   "execution_count": null,
   "metadata": {},
   "outputs": [],
   "source": [
    "sample_glacier_series_prj = se_asia_prj.iloc[11908]"
   ]
  },
  {
   "cell_type": "markdown",
   "metadata": {},
   "source": [
    "Need to convert from geopandas polygon to shapely </br>\n",
    "*help from here:* https://stackoverflow.com/questions/66926708/converting-a-geopandas-geometry-into-a-shapleys-polygon"
   ]
  },
  {
   "cell_type": "code",
   "execution_count": null,
   "metadata": {},
   "outputs": [],
   "source": [
    "import shapely\n",
    "shapely.__version__"
   ]
  },
  {
   "cell_type": "code",
   "execution_count": null,
   "metadata": {},
   "outputs": [],
   "source": [
    "attributes = {'id': 11909, 'name':'sample_glacier','valid':True}\n",
    "centerline = Centerline(sample_glacier_series_prj['geometry'], **attributes)"
   ]
  },
  {
   "cell_type": "code",
   "execution_count": null,
   "metadata": {},
   "outputs": [],
   "source": [
    "type(centerline)\n",
    "centerline.name"
   ]
  },
  {
   "cell_type": "markdown",
   "metadata": {},
   "source": [
    "## Read in raster data \n",
    "- for once we've exctracted centerline\n"
   ]
  },
  {
   "cell_type": "code",
   "execution_count": null,
   "metadata": {},
   "outputs": [],
   "source": [
    "itslive = rxr.open_rasterio(gen_path[:-9] + '/data/HMA_G0120_0000.nc').squeeze()"
   ]
  },
  {
   "cell_type": "markdown",
   "metadata": {},
   "source": []
  },
  {
   "cell_type": "code",
   "execution_count": null,
   "metadata": {},
   "outputs": [],
   "source": [
    "glacier_raster = itslive.rio.clip(sample_glacier_prj.geometry, sample_glacier_prj.crs)"
   ]
  },
  {
   "cell_type": "code",
   "execution_count": null,
   "metadata": {},
   "outputs": [],
   "source": [
    "just_ice = xr.where(glacier_raster.ice == 1., glacier_raster, np.NaN)"
   ]
  },
  {
   "cell_type": "code",
   "execution_count": null,
   "metadata": {},
   "outputs": [],
   "source": [
    "fig, ax = plt.subplots(figsize=(9,9))\n",
    "\n",
    "just_ice.v.plot(ax=ax)"
   ]
  },
  {
   "cell_type": "markdown",
   "metadata": {},
   "source": [
    "## Switching away from centerline (abandoning that env) and trying scikit image - skeletonize\n",
    "\n"
   ]
  },
  {
   "cell_type": "code",
   "execution_count": null,
   "metadata": {},
   "outputs": [],
   "source": [
    "from skimage.morphology import skeletonize "
   ]
  },
  {
   "cell_type": "code",
   "execution_count": null,
   "metadata": {},
   "outputs": [],
   "source": [
    "just_ice.ice"
   ]
  },
  {
   "cell_type": "code",
   "execution_count": null,
   "metadata": {},
   "outputs": [],
   "source": [
    "skeleton_ice = skeletonize(just_ice.ice.data)\n",
    "skeleton_ice_lee = skeletonize(just_ice.ice.data)"
   ]
  },
  {
   "cell_type": "code",
   "execution_count": null,
   "metadata": {},
   "outputs": [],
   "source": [
    "fig, axes = plt.subplots(ncols=3, figsize = (14,4), sharex=True, sharey=True)\n",
    "\n",
    "ax = axes.ravel()\n",
    "\n",
    "ax[0].imshow(just_ice.v, cmap=plt.cm.cividis)\n",
    "ax[0].axis('off')\n",
    "ax[0].set_title('Glacier velocity', fontsize=14)\n",
    "ax[0].imshow(skeleton_ice, cmap=plt.cm.Reds, alpha = 0.2)\n",
    "ax[0].imshow(skeleton_ice_lee, cmap=plt.cm.Greens, alpha = 0.2)\n",
    "\n",
    "\n",
    "ax[1].imshow(skeleton_ice, cmap=plt.cm.Reds)\n",
    "ax[1].axis('off')\n",
    "ax[1].set_title('skeleton', fontsize=14)\n",
    "\n",
    "ax[2].imshow(skeleton_ice_lee, cmap=plt.cm.Greens)\n",
    "ax[2].axis('off')\n",
    "ax[2].set_title('skeleton (lee)', fontsize=14)\n",
    "\n",
    "fig.tight_layout()\n",
    "fig.show"
   ]
  },
  {
   "cell_type": "code",
   "execution_count": null,
   "metadata": {},
   "outputs": [],
   "source": [
    "type(skeleton_ice)\n",
    "skeleton_ice.shape\n",
    "\n"
   ]
  },
  {
   "cell_type": "code",
   "execution_count": null,
   "metadata": {},
   "outputs": [],
   "source": [
    "just_ice.ice"
   ]
  },
  {
   "cell_type": "markdown",
   "metadata": {},
   "source": [
    "### end of day 6/8 \n",
    "- still need to figure out s3 urls\n",
    "- would be great to figure out adding the skeletonized object as a variable (maybe?) to the itslive xarray object (maybe better to do w/ vectorized indexing than adding as a var)"
   ]
  },
  {
   "cell_type": "code",
   "execution_count": null,
   "metadata": {},
   "outputs": [],
   "source": [
    "skeleton_da = xr.DataArray(\n",
    "    data = (('y','x'),skeleton_ice),\n",
    "    dims = ['y','x'],\n",
    "    coords = ({'x':[just_ice.x.data], 'y':[just_ice.y.data]}),\n",
    ")\n",
    "\n",
    "skeleton_da = xr.DataArray(\n",
    "    data=skeleton_ice,\n",
    "    dims=[\"y\", \"x\"],\n",
    "    coords=dict(\n",
    "        lon=([\"x\", \"y\"], just_ice.x.data),\n",
    "        lat=([\"x\", \"y\"], just_ice.y.data),\n",
    "        \n",
    "    ),\n",
    "    \n",
    "    )"
   ]
  },
  {
   "cell_type": "code",
   "execution_count": null,
   "metadata": {},
   "outputs": [],
   "source": []
  }
 ],
 "metadata": {
  "kernelspec": {
   "display_name": "conda-env-mynewbook-py",
   "language": "python",
   "name": "conda-env-mynewbook-py"
  },
  "language_info": {
   "codemirror_mode": {
    "name": "ipython",
    "version": 3
   },
   "file_extension": ".py",
   "mimetype": "text/x-python",
   "name": "python",
   "nbconvert_exporter": "python",
   "pygments_lexer": "ipython3",
   "version": "3.10.4"
  },
  "orig_nbformat": 4
 },
 "nbformat": 4,
 "nbformat_minor": 2
}
