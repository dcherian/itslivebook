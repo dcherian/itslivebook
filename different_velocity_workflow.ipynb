{
 "cells": [
  {
   "cell_type": "markdown",
   "id": "e9134a9e",
   "metadata": {},
   "source": [
    "# Tutorial Content\n",
    "\n",
    "\n",
    "This notebook will walk you through steps to read in and organize velocity data in a raster format using xarray and rioxarray tools\n",
    "\n",
    "First, lets install the python libraries that were listed on the [Software](software.ipynb) page:"
   ]
  },
  {
   "cell_type": "code",
   "execution_count": null,
   "id": "f41dc04e",
   "metadata": {},
   "outputs": [],
   "source": [
    "import geopandas as gpd\n",
    "import os\n",
    "import numpy as np\n",
    "import xarray as xr\n",
    "import rioxarray as rxr\n",
    "import matplotlib.pyplot as plt\n",
    "from geocube.api.core import make_geocube"
   ]
  },
  {
   "cell_type": "code",
   "execution_count": null,
   "id": "c9d2819b",
   "metadata": {},
   "outputs": [],
   "source": [
    "!pwd"
   ]
  },
  {
   "cell_type": "code",
   "execution_count": null,
   "id": "f28c15b2",
   "metadata": {},
   "outputs": [],
   "source": [
    "gen_path = '/Users/emarshall/Desktop/siparcs/xr_book1/'"
   ]
  },
  {
   "cell_type": "markdown",
   "id": "c2e67ab3",
   "metadata": {},
   "source": [
    "## ITS_LIVE (netcdf)\n",
    "\n",
    "This section contains a workflow for reading in and organizing ITS_LIVE glacier velocity data that is accessed in netcdf format from the NSIDC DAAC. Whereas before, we needed to build a the magnitude of velocity variable from the velocity component variables (individual geotiff files), the netcdf file contains a variable for magnitude of velocity as well as many other variables representing land cover types, error estimates and metadata"
   ]
  },
  {
   "cell_type": "code",
   "execution_count": null,
   "id": "b6f3da54",
   "metadata": {},
   "outputs": [],
   "source": [
    "itslive = rxr.open_rasterio(gen_path[:-9] + '/data/HMA_G0120_0000.nc').squeeze()"
   ]
  },
  {
   "cell_type": "code",
   "execution_count": null,
   "id": "1f5e89c4",
   "metadata": {},
   "outputs": [],
   "source": [
    "itslive"
   ]
  },
  {
   "cell_type": "markdown",
   "id": "0ecaaa15",
   "metadata": {},
   "source": [
    "What is the CRS of this object?\n",
    "\n",
    "There are two ways we can check that. First, by using the `rio.crs` accessor:"
   ]
  },
  {
   "cell_type": "code",
   "execution_count": null,
   "id": "140f45f4",
   "metadata": {},
   "outputs": [],
   "source": [
    "itslive.rio.crs"
   ]
  },
  {
   "cell_type": "markdown",
   "id": "206dee3b",
   "metadata": {},
   "source": [
    "The netcdf object is in a different CRS than the geotiff object. Because **Asia North Lambert Conformal Conic** covers a larger spatial extent than a single UTM zone (the projection of the geotiff object), we will use that projection.\n",
    "*add link to good explainer page?*"
   ]
  },
  {
   "cell_type": "code",
   "execution_count": null,
   "id": "31bcf976",
   "metadata": {},
   "outputs": [],
   "source": [
    "itslive.dims"
   ]
  },
  {
   "cell_type": "code",
   "execution_count": null,
   "id": "e4f0a355",
   "metadata": {},
   "outputs": [],
   "source": [
    "itslive.coords"
   ]
  },
  {
   "cell_type": "markdown",
   "id": "9100f674",
   "metadata": {},
   "source": [
    "## Vector data "
   ]
  },
  {
   "cell_type": "code",
   "execution_count": null,
   "id": "bb739146",
   "metadata": {},
   "outputs": [],
   "source": [
    "#read in vector data \n",
    "se_asia = gpd.read_file(gen_path[:-9] + 'data/nsidc0770_15.rgi60.SouthAsiaEast/15_rgi60_SouthAsiaEast.shp')"
   ]
  },
  {
   "cell_type": "markdown",
   "id": "d105f141",
   "metadata": {},
   "source": [
    "How many glaciers are in this dataframe?"
   ]
  },
  {
   "cell_type": "code",
   "execution_count": null,
   "id": "7b92444b",
   "metadata": {},
   "outputs": [],
   "source": [
    "len(se_asia['RGIId'])"
   ]
  },
  {
   "cell_type": "markdown",
   "id": "f7aaa855",
   "metadata": {},
   "source": [
    "What coordinate reference system is this dataframe in? "
   ]
  },
  {
   "cell_type": "code",
   "execution_count": null,
   "id": "8f54c1c9",
   "metadata": {},
   "outputs": [],
   "source": [
    "se_asia.crs"
   ]
  },
  {
   "cell_type": "markdown",
   "id": "f616aad9",
   "metadata": {},
   "source": [
    "The vector dataset is in WGS 84, meaning that its coordinates are in degrees latitude and longitude rather than meters N and E. We will project this dataset to match the projection of the netcdf dataset."
   ]
  },
  {
   "cell_type": "markdown",
   "id": "9183f2ce",
   "metadata": {},
   "source": [
    "## Handling projections"
   ]
  },
  {
   "cell_type": "markdown",
   "id": "40d94b63",
   "metadata": {},
   "source": [
    "Let's project this dataframe to match the CRS of the itslive dataset"
   ]
  },
  {
   "cell_type": "code",
   "execution_count": null,
   "id": "fd69a2f9",
   "metadata": {},
   "outputs": [],
   "source": [
    "#not sure why but this didn't work for me specifying epsg code, had to specify full description\n",
    "se_asia_prj = se_asia.to_crs('+proj=lcc +lat_1=15 +lat_2=65 +lat_0=30 +lon_0=95 +x_0=0 +y_0=0 +ellps=WGS84 +datum=WGS84 +units=m no_defs')\n",
    "se_asia_prj"
   ]
  },
  {
   "cell_type": "markdown",
   "id": "2f41cc04",
   "metadata": {},
   "source": [
    "## Let's start this analysis on a single glacier\n",
    "\n",
    "We'll demonstrate analysis on a single glacier before scaling up to multiple glaciers. To start with, let's select the largest glacier in the dataframe."
   ]
  },
  {
   "cell_type": "code",
   "execution_count": null,
   "id": "9f96158a",
   "metadata": {},
   "outputs": [],
   "source": [
    "se_asia_prj['Area'].idxmax()"
   ]
  },
  {
   "cell_type": "code",
   "execution_count": null,
   "id": "a9c06922",
   "metadata": {},
   "outputs": [],
   "source": [
    "se_asia_prj.iloc[11908]"
   ]
  },
  {
   "cell_type": "markdown",
   "id": "432e467e",
   "metadata": {},
   "source": [
    "### So, our sample glacier is:"
   ]
  },
  {
   "cell_type": "code",
   "execution_count": null,
   "id": "7ec50eb6",
   "metadata": {},
   "outputs": [],
   "source": [
    "sample_glacier = se_asia_prj.loc[se_asia_prj['RGIId'] == 'RGI60-15.11909']\n",
    "sample_glacier"
   ]
  },
  {
   "cell_type": "markdown",
   "id": "27a99d4a",
   "metadata": {},
   "source": [
    "#### Clip raster data to vector (sample glacier)\n",
    "\n",
    "We'll be following [this example](https://corteva.github.io/rioxarray/stable/examples/clip_geom.html), go check it out for more info  "
   ]
  },
  {
   "cell_type": "code",
   "execution_count": null,
   "id": "13973f36",
   "metadata": {},
   "outputs": [],
   "source": [
    "itslive"
   ]
  },
  {
   "cell_type": "code",
   "execution_count": null,
   "id": "b127d2d3",
   "metadata": {},
   "outputs": [],
   "source": [
    "glacier_raster = itslive.rio.clip(sample_glacier.geometry, sample_glacier.crs)"
   ]
  },
  {
   "cell_type": "code",
   "execution_count": null,
   "id": "3f5cda91",
   "metadata": {},
   "outputs": [],
   "source": [
    "glacier_raster"
   ]
  },
  {
   "cell_type": "code",
   "execution_count": null,
   "id": "51f6c483",
   "metadata": {},
   "outputs": [],
   "source": [
    "glacier_raster.ice.plot()"
   ]
  },
  {
   "cell_type": "code",
   "execution_count": null,
   "id": "f124e947",
   "metadata": {},
   "outputs": [],
   "source": [
    "fig, ax = plt.subplots()\n",
    "\n",
    "#sample_glacier.plot(ax=ax, facecolor='white', edgecolor='red')\n",
    "glacier_raster.v.plot(ax=ax, cmap=plt.cm.cividis)"
   ]
  },
  {
   "cell_type": "code",
   "execution_count": null,
   "id": "c28e46d9",
   "metadata": {},
   "outputs": [],
   "source": [
    "glacier_raster.v.data.min()"
   ]
  },
  {
   "cell_type": "markdown",
   "id": "b41401a6",
   "metadata": {},
   "source": [
    "### Handling missing data / selecting data (xr.where)\n",
    "The above plot isn't that informative because you can see that the non-glaciated terrain surrounding the glacier is assigned negative values that skew the colorscale. Assigning missing or non-target datapoints a unique and distinctive numeric value can be useful in some cases, but for our purposes we don't want them showing up in our plots right now."
   ]
  },
  {
   "cell_type": "code",
   "execution_count": null,
   "id": "695800a3",
   "metadata": {},
   "outputs": [],
   "source": [
    "glacier_raster.ice.data.shape\n",
    "\n",
    "glacier_raster.v.data[51]"
   ]
  },
  {
   "cell_type": "markdown",
   "id": "849da210",
   "metadata": {},
   "source": [
    "**fix this part**"
   ]
  },
  {
   "cell_type": "code",
   "execution_count": null,
   "id": "453d2829",
   "metadata": {},
   "outputs": [],
   "source": [
    "#anywhere glacier_raster.ice == 0, we want to turn to nan (I think?)\n",
    "glacier_raster_x = xr.where(glacier_raster.v != -32767., glacier_raster, np.nan)"
   ]
  },
  {
   "cell_type": "code",
   "execution_count": null,
   "id": "715d42ca",
   "metadata": {},
   "outputs": [],
   "source": [
    "glacier_raster_x.v.plot()"
   ]
  },
  {
   "cell_type": "code",
   "execution_count": null,
   "id": "5aa5250f",
   "metadata": {},
   "outputs": [],
   "source": []
  }
 ],
 "metadata": {
  "kernelspec": {
   "display_name": "conda-env-mynewbook-py",
   "language": "python",
   "name": "conda-env-mynewbook-py"
  },
  "language_info": {
   "codemirror_mode": {
    "name": "ipython",
    "version": 3
   },
   "file_extension": ".py",
   "mimetype": "text/x-python",
   "name": "python",
   "nbconvert_exporter": "python",
   "pygments_lexer": "ipython3",
   "version": "3.10.4"
  }
 },
 "nbformat": 4,
 "nbformat_minor": 5
}
