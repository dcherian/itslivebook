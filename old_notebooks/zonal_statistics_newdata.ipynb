{
 "cells": [
  {
   "cell_type": "markdown",
   "id": "e9134a9e",
   "metadata": {},
   "source": [
    "# Tutorial Content - alt\n",
    "\n",
    "This notebook uses ITS_LIVE data downloaded from NSIDC access point\n",
    "\n",
    "This notebook will walk you through steps to read in and organize velocity data in a raster format using xarray and rioxarray tools\n",
    "\n",
    "First, lets install the python libraries that were listed on the [Software](software.ipynb) page:"
   ]
  },
  {
   "cell_type": "code",
   "execution_count": null,
   "id": "f41dc04e",
   "metadata": {},
   "outputs": [],
   "source": [
    "import geopandas as gpd\n",
    "import os\n",
    "import numpy as np\n",
    "import xarray as xr\n",
    "import rioxarray as rxr\n",
    "import matplotlib.pyplot as plt\n",
    "from geocube.api.core import make_geocube\n",
    "import xarray as xr\n",
    "import numpy as np\n",
    "import pandas as pd\n",
    "import packaging\n",
    "import pyproj"
   ]
  },
  {
   "cell_type": "code",
   "execution_count": null,
   "id": "f28c15b2",
   "metadata": {},
   "outputs": [],
   "source": [
    "gen_path = '/Users/emmamarshall/Desktop/phd_research/siparcs/'"
   ]
  },
  {
   "cell_type": "code",
   "execution_count": null,
   "id": "36cfbce3",
   "metadata": {},
   "outputs": [],
   "source": [
    "#data\n",
    "itslive = rxr.open_rasterio('/Users/emmamarshall/Desktop/phd_research/siparcs/HMA_G0120_0000.nc').squeeze()\n"
   ]
  },
  {
   "cell_type": "code",
   "execution_count": null,
   "id": "8cf79567",
   "metadata": {},
   "outputs": [],
   "source": [
    "itslive.v\n"
   ]
  },
  {
   "cell_type": "code",
   "execution_count": null,
   "id": "00e87174",
   "metadata": {},
   "outputs": [],
   "source": [
    "itslive.rio.crs.from_wkt"
   ]
  },
  {
   "cell_type": "code",
   "execution_count": null,
   "id": "4a09e26d",
   "metadata": {},
   "outputs": [],
   "source": [
    "type(itslive)\n",
    "itslive.rio.crs"
   ]
  },
  {
   "cell_type": "code",
   "execution_count": null,
   "id": "bb739146",
   "metadata": {},
   "outputs": [],
   "source": [
    "#read in vector data \n",
    "se_asia = gpd.read_file('/Users/emmamarshall/Downloads/15rgi60SouthAsiaEast/15_rgi60_SouthAsiaEast.shp')\n",
    "#sw_asia = gpd.read_file('/Users/emmamarshall/Desktop/phd_research/nisar_prepwork/rgi_1km/sw_asia_1km.shp')\n",
    "#c_asia = gpd.read_file('/Users/emmamarshall/Desktop/phd_research/nisar_prepwork/rgi_1km/central_asia_1km.shp') \n",
    "\n",
    "#se_asia_path = '/Users/emmamarshall/Desktop/phd_research/nisar_prepwork/rgi_1km/se_asia_1km.shp'\n",
    "#sw_asia_path = '/Users/emmamarshall/Desktop/phd_research/nisar_prepwork/rgi_1km/sw_asia_1km.shp'\n",
    "#c_asia_path = '/Users/emmamarshall/Desktop/phd_research/nisar_prepwork/rgi_1km/central_asia_1km.shp'\n",
    "\n",
    "\n"
   ]
  },
  {
   "cell_type": "code",
   "execution_count": null,
   "id": "7b92444b",
   "metadata": {},
   "outputs": [],
   "source": [
    "se_asia_prj = se_asia.to_crs('+proj=lcc +lat_1=15 +lat_2=65 +lat_0=30 +lon_0=95 +x_0=0 +y_0=0 +ellps=WGS84 +datum=WGS84 +units=m no_defs'\n",
    "                             )"
   ]
  },
  {
   "cell_type": "code",
   "execution_count": null,
   "id": "0b35225d",
   "metadata": {},
   "outputs": [],
   "source": [
    "se_asia_prj.plot()"
   ]
  },
  {
   "cell_type": "code",
   "execution_count": null,
   "id": "08ddd1fb",
   "metadata": {},
   "outputs": [],
   "source": [
    "fig, ax = plt.subplots()\n",
    "\n",
    "itslive.v.plot.imshow(ax=ax, alpha = 0.1)\n",
    "se_asia_prj.plot(ax=ax, color='red')\n"
   ]
  },
  {
   "cell_type": "code",
   "execution_count": null,
   "id": "6078d567",
   "metadata": {},
   "outputs": [],
   "source": [
    "se_asia_prj['Unique_ID'] = se_asia_prj.index.astype(int)\n",
    "se_asia_prj"
   ]
  },
  {
   "cell_type": "code",
   "execution_count": null,
   "id": "ed48cad9",
   "metadata": {},
   "outputs": [],
   "source": [
    "def rasterize_vector(gpdf_prj, raster_obj):  #for now, project objects outside of fn\n",
    "    \n",
    "    #use index as a unique key for each glacier\n",
    "    gpdf_prj['Integer_ID'] = gpdf_prj.index.astype(int)\n",
    "    #print(gpdf_utm['Integer_ID'])\n",
    "    \n",
    "    #rasterize glacier vector by unique id \n",
    "\n",
    "    out_grid = make_geocube(\n",
    "            vector_data = gpdf_prj,\n",
    "            measurements = ['Integer_ID'],\n",
    "            like = raster_obj['v'] #need to specify a var here, not sure best way to do that\n",
    "            )\n",
    "    \n",
    "    #now merge the rasterized vector and the original raster togehter into a geocube\n",
    "    out_grid['speed'] = (raster_obj.dims, raster_obj.v.values, raster_obj.attrs, raster_obj.encoding)\n",
    "    \n",
    "    #now, get velocity statistics of each 'region' (integer) using the mask\n",
    "    #grouped_ID = out_grid.drop('spatial_ref').groupby(out_grid.Integer_ID)\n",
    "\n",
    "    #compute zonal stats groupedd by ID\n",
    "    #grid_mean_sp = grouped_ID.mean().rename({'speed': 'speed_mean'})\n",
    "    #grid_min_sp = grouped_ID.min().rename({'speed': 'speed_min'})\n",
    "    #grid_max_sp = grouped_ID.max().rename({'speed': 'speed_max'})\n",
    "    #grid_std_sp = grouped_ID.max().rename({'speed': 'speed_std'})\n",
    "    \n",
    "    #merge each zonal stat xr obj into a single xr obj, convert to pandas df\n",
    "    #zonal_stats = xr.merge([grid_mean_sp, grid_min_sp, grid_max_sp, grid_std_sp]).to_dataframe()\n",
    "    #zonal_stats = zonal_stats.reset_index()\n",
    "    \n",
    "   # return zonal_stats\n",
    "    return out_grid"
   ]
  },
  {
   "cell_type": "code",
   "execution_count": null,
   "id": "e2f03fe3",
   "metadata": {},
   "outputs": [],
   "source": [
    "outgrid_seasia = rasterize_vector(se_asia_prj, itslive)\n"
   ]
  },
  {
   "cell_type": "code",
   "execution_count": null,
   "id": "3e44d25f",
   "metadata": {},
   "outputs": [],
   "source": [
    "outgrid_seasia"
   ]
  },
  {
   "cell_type": "code",
   "execution_count": null,
   "id": "1cbff938",
   "metadata": {},
   "outputs": [],
   "source": [
    "outgrid_seasia.Integer_ID.plot.imshow()"
   ]
  },
  {
   "cell_type": "code",
   "execution_count": null,
   "id": "579faaa5",
   "metadata": {},
   "outputs": [],
   "source": [
    "grouped_ID = outgrid_seasia.drop('spatial_ref').groupby(outgrid_seasia.Integer_ID)"
   ]
  },
  {
   "cell_type": "code",
   "execution_count": null,
   "id": "9f295ff4",
   "metadata": {},
   "outputs": [],
   "source": []
  },
  {
   "cell_type": "code",
   "execution_count": null,
   "id": "28b1b6a3",
   "metadata": {},
   "outputs": [],
   "source": [
    "grid_mean_sp = grouped_ID.mean().rename({'speed': 'speed_mean'})\n",
    "grid_median_sp = grouped_ID.median().rename({'speed': 'speed_median'})\n",
    "grid_min_sp = grouped_ID.min().rename({'speed': 'speed_min'})\n",
    "grid_max_sp = grouped_ID.max().rename({'speed': 'speed_max'})\n",
    "#grid_std_sp = grouped_ID.max().rename({'speed': 'speed_std'})"
   ]
  },
  {
   "cell_type": "code",
   "execution_count": null,
   "id": "63cbca70",
   "metadata": {},
   "outputs": [],
   "source": [
    "zonal_stats = xr.merge([grid_mean_sp, grid_median_sp, grid_min_sp, grid_max_sp, grid_std_sp]).to_dataframe()\n",
    "zonal_stats = zonal_stats.reset_index()\n",
    "zonal_stats"
   ]
  },
  {
   "cell_type": "code",
   "execution_count": null,
   "id": "b06e23d1",
   "metadata": {},
   "outputs": [],
   "source": [
    "#now, trying to merge zonal stats df back with original glacier df on integer_ID col\n",
    "se_asia_glacier_data = se_asia_prj.merge(zonal_stats, on='Integer_ID')\n"
   ]
  },
  {
   "cell_type": "code",
   "execution_count": null,
   "id": "3158e65b",
   "metadata": {},
   "outputs": [],
   "source": [
    "zonal_stats['speed_mean']\n",
    "\n",
    "fig, ax = plt.subplots()\n",
    "se_asia_glacier_data.plot.scatter(x='Integer_ID',y = 'speed_mean', c = 'darkblue', ax=ax)\n"
   ]
  },
  {
   "cell_type": "code",
   "execution_count": null,
   "id": "eabab934",
   "metadata": {},
   "outputs": [],
   "source": [
    "zonal_stats['speed_mean'].min()"
   ]
  },
  {
   "cell_type": "code",
   "execution_count": null,
   "id": "5d3b976a",
   "metadata": {},
   "outputs": [],
   "source": [
    "se_asia_glacier_data.plot(column='speed_mean', legend=True)"
   ]
  },
  {
   "cell_type": "code",
   "execution_count": null,
   "id": "0d0187d9",
   "metadata": {},
   "outputs": [],
   "source": []
  },
  {
   "cell_type": "code",
   "execution_count": null,
   "id": "6a5ad9e3",
   "metadata": {},
   "outputs": [],
   "source": []
  }
 ],
 "metadata": {
  "kernelspec": {
   "display_name": "conda-env-mynewbook-py",
   "language": "python",
   "name": "conda-env-mynewbook-py"
  },
  "language_info": {
   "codemirror_mode": {
    "name": "ipython",
    "version": 3
   },
   "file_extension": ".py",
   "mimetype": "text/x-python",
   "name": "python",
   "nbconvert_exporter": "python",
   "pygments_lexer": "ipython3",
   "version": "3.10.4"
  }
 },
 "nbformat": 4,
 "nbformat_minor": 5
}
