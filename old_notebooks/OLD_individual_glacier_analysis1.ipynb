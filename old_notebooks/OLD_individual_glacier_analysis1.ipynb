{
 "cells": [
  {
   "cell_type": "markdown",
   "id": "e9134a9e",
   "metadata": {},
   "source": [
    "# Individual glacier analysis 1\n",
    "\n",
    "This notebook will walk you through steps to read in and organize velocity data in a raster format using xarray and rioxarray tools\n",
    "\n",
    "First, lets install the python libraries that were listed on the [Software](software.ipynb) page:"
   ]
  },
  {
   "cell_type": "code",
   "execution_count": 1,
   "id": "f41dc04e",
   "metadata": {},
   "outputs": [],
   "source": [
    "import geopandas as gpd\n",
    "import os\n",
    "import numpy as np\n",
    "import xarray as xr\n",
    "import rioxarray as rxr\n",
    "import matplotlib.pyplot as plt\n",
    "from geocube.api.core import make_geocube"
   ]
  },
  {
   "cell_type": "markdown",
   "id": "e1b64188",
   "metadata": {},
   "source": [
    "### ALT cell: (for cloud data access, this is the preferable option but not currently working)\n",
    "- try to open itslive xr object from s3 link. explain how we got the link (API that returns urls (?))\n",
    "- itslive data cube catalong file: https://its-live-data.s3.amazonaws.com/datacubes/catalog_v02.json\n",
    "** prob need to add zarr to env file, or just re-write env file"
   ]
  },
  {
   "cell_type": "markdown",
   "id": "af259b08",
   "metadata": {},
   "source": [
    "#### Two ways to get its_live urls via api: \n",
    "\n",
    "https://nsidc.org/apps/itslive-search/docs#/default/urls_velocities_urls__get\n",
    "\n",
    "and via python api access below: "
   ]
  },
  {
   "cell_type": "code",
   "execution_count": null,
   "id": "ca5b2b49",
   "metadata": {},
   "outputs": [],
   "source": [
    "#getting itslive urls from api in python: \n",
    "\n",
    "import requests\n",
    "\n",
    "base_api = 'https://nsidc.org/apps/itslive-search/velocities/urls'\n",
    "\n",
    "params = {\n",
    "    'bbox':'84.899, 27.98, 85.95, 28.75',\n",
    "    'start': '2013-01-01',\n",
    "    'end': '2021-12-31',\n",
    "    'percent_valid_pixels':20,\n",
    "    'min_interval': 7,\n",
    "    'max_interval':100\n",
    "}\n",
    "\n",
    "velocity_pairs = requests.get(base_api, params=params)"
   ]
  },
  {
   "cell_type": "code",
   "execution_count": null,
   "id": "8686bd6f",
   "metadata": {},
   "outputs": [],
   "source": [
    "type(velocity_pairs)\n",
    "#velocity_pairs\n",
    "velocity_pairs_ls = velocity_pairs.json()\n",
    "velocity_pairs_ls[0]['url']\n",
    "#ds1 = xr.open_dataset(velocity_pairs_ls[0]['url'])"
   ]
  },
  {
   "cell_type": "code",
   "execution_count": null,
   "id": "7a89c160",
   "metadata": {},
   "outputs": [],
   "source": [
    "#image_pair1 = xr.open_dataset(velocity_pairs_ls[0]['url'],\n",
    "#                            engine = 'h5netcdf')"
   ]
  },
  {
   "cell_type": "markdown",
   "id": "cb8d0cf2",
   "metadata": {},
   "source": []
  },
  {
   "cell_type": "code",
   "execution_count": null,
   "id": "536b5354",
   "metadata": {},
   "outputs": [],
   "source": [
    "#zarr_32645_x350000_y3050000 = 's3://its-live-data/datacubes/v02/N20E080/ITS_LIVE_vel_EPSG32645_G0120_X350000_Y3050000.zarr'\n",
    "\n",
    "#ds_32645_x350000_y3050000 = xr.open_dataset(zarr_32645_x350000_y3050000, engine = 'zarr',\n",
    "#                            storage_options= {'anon':True})"
   ]
  },
  {
   "cell_type": "code",
   "execution_count": null,
   "id": "2abe0746",
   "metadata": {},
   "outputs": [],
   "source": [
    "zarr_32645_x350000_y4650000 = \"s3://its-live-data/datacubes/v02/N40E080/ITS_LIVE_vel_EPSG32645_G0120_X350000_Y4650000.zarr\"\n",
    "\n",
    "ds_32645_x350000_y4650000 = xr.open_dataset(zarr_32645_x350000_y4650000, engine = 'zarr',\n",
    "                            storage_options={'anon':True})"
   ]
  },
  {
   "cell_type": "code",
   "execution_count": null,
   "id": "85bcfcdd",
   "metadata": {},
   "outputs": [],
   "source": [
    "ds_catalog.isel(mid_date=1).v.plot()"
   ]
  },
  {
   "cell_type": "code",
   "execution_count": null,
   "id": "460ee6f3",
   "metadata": {},
   "outputs": [],
   "source": [
    "ds_catalog.coords['x'].data.min()"
   ]
  },
  {
   "cell_type": "code",
   "execution_count": null,
   "id": "60a3fee1",
   "metadata": {},
   "outputs": [],
   "source": [
    "ds_catalog"
   ]
  },
  {
   "cell_type": "code",
   "execution_count": null,
   "id": "bf052f8b",
   "metadata": {},
   "outputs": [],
   "source": [
    "import geopandas as gpd\n",
    "from shapely.geometry import Polygon\n",
    "\n",
    "def get_bbox(input_xr):\n",
    "\n",
    "    xmin = input_xr.coords['x'].data.min()\n",
    "    xmax = input_xr.coords['x'].data.max()\n",
    "\n",
    "    ymin = input_xr.coords['y'].data.min()\n",
    "    ymax = input_xr.coords['y'].data.max()\n",
    "\n",
    "    pts_ls = [(xmin, ymin), (xmax, ymin),(xmax, ymax), (xmin, ymax), (xmin, ymin)]\n",
    "\n",
    "    crs = {'init':f'epsg:{input_xr.mapping.spatial_epsg}'}\n",
    "    polygon_geom = Polygon(pts_ls)\n",
    "    polygon = gpd.GeoDataFrame(index=[0], crs=crs, geometry=[polygon_geom])  \n",
    "\n",
    "    polygon.plot(facecolor='none', edgecolor='red')     \n",
    "\n",
    "\n",
    "    "
   ]
  },
  {
   "cell_type": "code",
   "execution_count": null,
   "id": "d0dda897",
   "metadata": {},
   "outputs": [],
   "source": [
    "get_bbox(ds_catalog)"
   ]
  },
  {
   "cell_type": "code",
   "execution_count": null,
   "id": "c9377d93",
   "metadata": {},
   "outputs": [],
   "source": [
    "zarr_url = 's3://its-live-data/datacubes/v02/N20E080/ITS_LIVE_vel_EPSG32645_G0120_X250000_Y3250000.zarr'\n",
    "\n",
    "\n",
    "itslive_zarr = xr.open_dataset(zarr_url,\n",
    "                              engine = 'zarr',  \n",
    "                              storage_options = {'anon':True}\n",
    "                              )"
   ]
  },
  {
   "cell_type": "markdown",
   "id": "4361aa24",
   "metadata": {},
   "source": [
    "## Workflow with local data, not sure why s3 isn't working"
   ]
  },
  {
   "cell_type": "code",
   "execution_count": null,
   "id": "f28c15b2",
   "metadata": {},
   "outputs": [],
   "source": [
    "gen_path = '/Users/emarshall/Desktop/siparcs/xr_book1/'"
   ]
  },
  {
   "cell_type": "markdown",
   "id": "c2e67ab3",
   "metadata": {},
   "source": [
    "## ITS_LIVE raster data\n",
    "\n",
    "This section contains a workflow for reading in and organizing ITS_LIVE glacier velocity data that is accessed in netcdf format from the NSIDC DAAC. Whereas before, we needed to build a the magnitude of velocity variable from the velocity component variables (individual geotiff files), the netcdf file contains a variable for magnitude of velocity as well as many other variables representing land cover types, error estimates and metadata"
   ]
  },
  {
   "cell_type": "code",
   "execution_count": null,
   "id": "b6f3da54",
   "metadata": {},
   "outputs": [],
   "source": [
    "%%time\n",
    "\n",
    "itslive = rxr.open_rasterio(gen_path[:-9] + '/data/HMA_G0120_0000.nc',\n",
    "                            chunks = 'auto').squeeze()"
   ]
  },
  {
   "cell_type": "code",
   "execution_count": null,
   "id": "1f5e89c4",
   "metadata": {},
   "outputs": [],
   "source": [
    "itslive"
   ]
  },
  {
   "cell_type": "markdown",
   "id": "0ecaaa15",
   "metadata": {},
   "source": [
    "What is the CRS of this object?\n",
    "\n",
    "There are two ways we can check that. First, by using the `rio.crs` accessor:"
   ]
  },
  {
   "cell_type": "code",
   "execution_count": null,
   "id": "140f45f4",
   "metadata": {},
   "outputs": [],
   "source": [
    "itslive.rio.crs"
   ]
  },
  {
   "cell_type": "markdown",
   "id": "206dee3b",
   "metadata": {},
   "source": [
    "The netcdf object is in a different CRS than the geotiff object. Because **Asia North Lambert Conformal Conic** covers a larger spatial extent than a single UTM zone (the projection of the geotiff object), we will use that projection.\n",
    "*add link to good explainer page?*"
   ]
  },
  {
   "cell_type": "code",
   "execution_count": null,
   "id": "31bcf976",
   "metadata": {},
   "outputs": [],
   "source": [
    "itslive.dims"
   ]
  },
  {
   "cell_type": "code",
   "execution_count": null,
   "id": "e4f0a355",
   "metadata": {},
   "outputs": [],
   "source": [
    "itslive.coords"
   ]
  },
  {
   "cell_type": "markdown",
   "id": "9100f674",
   "metadata": {},
   "source": [
    "## Vector data "
   ]
  },
  {
   "cell_type": "code",
   "execution_count": null,
   "id": "bb739146",
   "metadata": {},
   "outputs": [],
   "source": [
    "#read in vector data \n",
    "se_asia = gpd.read_file(gen_path[:-9] + 'data/nsidc0770_15.rgi60.SouthAsiaEast/15_rgi60_SouthAsiaEast.shp')"
   ]
  },
  {
   "cell_type": "markdown",
   "id": "d105f141",
   "metadata": {},
   "source": [
    "How many glaciers are in this dataframe?"
   ]
  },
  {
   "cell_type": "code",
   "execution_count": null,
   "id": "7b92444b",
   "metadata": {},
   "outputs": [],
   "source": [
    "len(se_asia['RGIId'])"
   ]
  },
  {
   "cell_type": "markdown",
   "id": "f7aaa855",
   "metadata": {},
   "source": [
    "What coordinate reference system is this dataframe in? "
   ]
  },
  {
   "cell_type": "code",
   "execution_count": null,
   "id": "8f54c1c9",
   "metadata": {},
   "outputs": [],
   "source": [
    "se_asia.crs"
   ]
  },
  {
   "cell_type": "markdown",
   "id": "f616aad9",
   "metadata": {},
   "source": [
    "The vector dataset is in WGS 84, meaning that its coordinates are in degrees latitude and longitude rather than meters N and E. We will project this dataset to match the projection of the netcdf dataset."
   ]
  },
  {
   "cell_type": "markdown",
   "id": "9183f2ce",
   "metadata": {},
   "source": [
    "## Handling projections"
   ]
  },
  {
   "cell_type": "markdown",
   "id": "40d94b63",
   "metadata": {},
   "source": [
    "Let's project this dataframe to match the CRS of the itslive dataset"
   ]
  },
  {
   "cell_type": "code",
   "execution_count": null,
   "id": "fd69a2f9",
   "metadata": {},
   "outputs": [],
   "source": [
    "#not sure why but this didn't work for me specifying epsg code, had to specify full description\n",
    "se_asia_prj = se_asia.to_crs('+proj=lcc +lat_1=15 +lat_2=65 +lat_0=30 +lon_0=95 +x_0=0 +y_0=0 +ellps=WGS84 +datum=WGS84 +units=m no_defs')\n",
    "se_asia_prj.head(3)"
   ]
  },
  {
   "cell_type": "markdown",
   "id": "2f41cc04",
   "metadata": {},
   "source": [
    "## Let's start this analysis on a single glacier\n",
    "\n",
    "We'll demonstrate analysis on a single glacier before scaling up to multiple glaciers. To start with, let's select the largest glacier in the dataframe."
   ]
  },
  {
   "cell_type": "code",
   "execution_count": null,
   "id": "9f96158a",
   "metadata": {},
   "outputs": [],
   "source": [
    "se_asia_prj['Area'].idxmax()"
   ]
  },
  {
   "cell_type": "code",
   "execution_count": null,
   "id": "a9c06922",
   "metadata": {},
   "outputs": [],
   "source": [
    "se_asia_prj.iloc[11908]"
   ]
  },
  {
   "cell_type": "markdown",
   "id": "432e467e",
   "metadata": {},
   "source": [
    "### So, our sample glacier is:"
   ]
  },
  {
   "cell_type": "code",
   "execution_count": null,
   "id": "7ec50eb6",
   "metadata": {},
   "outputs": [],
   "source": [
    "sample_glacier_prj = se_asia_prj.loc[se_asia_prj['RGIId'] == 'RGI60-15.11909']\n",
    "sample_glacier_prj"
   ]
  },
  {
   "cell_type": "markdown",
   "id": "27a99d4a",
   "metadata": {},
   "source": [
    "#### Clip raster data to vector (sample glacier)\n",
    "\n",
    "We'll be following [this example](https://corteva.github.io/rioxarray/stable/examples/clip_geom.html), go check it out for more info  "
   ]
  },
  {
   "cell_type": "code",
   "execution_count": null,
   "id": "b127d2d3",
   "metadata": {},
   "outputs": [],
   "source": [
    "%%time\n",
    "\n",
    "glacier_raster = itslive.rio.clip(sample_glacier_prj.geometry, sample_glacier_prj.crs)"
   ]
  },
  {
   "cell_type": "code",
   "execution_count": null,
   "id": "3f5cda91",
   "metadata": {},
   "outputs": [],
   "source": [
    "glacier_raster"
   ]
  },
  {
   "cell_type": "code",
   "execution_count": null,
   "id": "8c6f4c50",
   "metadata": {},
   "outputs": [],
   "source": [
    "glacier_clipped = xr.where(glacier_raster.ice == 1., glacier_raster, np.NaN)"
   ]
  },
  {
   "cell_type": "code",
   "execution_count": null,
   "id": "e79205c7",
   "metadata": {},
   "outputs": [],
   "source": [
    "glacier_clipped.v.plot()"
   ]
  },
  {
   "cell_type": "code",
   "execution_count": null,
   "id": "a7a1d7a6",
   "metadata": {},
   "outputs": [],
   "source": [
    "glacier_clipped"
   ]
  },
  {
   "cell_type": "code",
   "execution_count": null,
   "id": "51f6c483",
   "metadata": {},
   "outputs": [],
   "source": [
    "\n",
    "#glacier_raster.ice.plot()"
   ]
  },
  {
   "cell_type": "code",
   "execution_count": null,
   "id": "f124e947",
   "metadata": {},
   "outputs": [],
   "source": [
    "#fig, ax = plt.subplots()\n",
    "\n",
    "#sample_glacier.plot(ax=ax, facecolor='white', edgecolor='red')\n",
    "#glacier_raster.v.plot(ax=ax, cmap=plt.cm.cividis)"
   ]
  },
  {
   "cell_type": "code",
   "execution_count": null,
   "id": "c28e46d9",
   "metadata": {},
   "outputs": [],
   "source": [
    "#glacier_raster.v.data.min()"
   ]
  },
  {
   "cell_type": "markdown",
   "id": "b41401a6",
   "metadata": {},
   "source": [
    "### Handling missing data / selecting data (xr.where)\n",
    "The above plot isn't that informative because you can see that the non-glaciated terrain surrounding the glacier is assigned negative values that skew the colorscale. Assigning missing or non-target datapoints a unique and distinctive numeric value can be useful in some cases, but for our purposes we don't want them showing up in our plots right now."
   ]
  },
  {
   "cell_type": "code",
   "execution_count": null,
   "id": "695800a3",
   "metadata": {},
   "outputs": [],
   "source": [
    "#glacier_raster.ice.data.shape\n",
    "\n",
    "#glacier_raster.v.data[51]"
   ]
  },
  {
   "cell_type": "markdown",
   "id": "849da210",
   "metadata": {},
   "source": [
    "**fix this part**"
   ]
  },
  {
   "cell_type": "code",
   "execution_count": null,
   "id": "453d2829",
   "metadata": {},
   "outputs": [],
   "source": [
    "#anywhere glacier_raster.ice == 0, we want to turn to nan (I think?)\n",
    "#glacier_raster_x = xr.where(glacier_raster.v != -32767., glacier_raster, np.nan)"
   ]
  },
  {
   "cell_type": "code",
   "execution_count": null,
   "id": "715d42ca",
   "metadata": {},
   "outputs": [],
   "source": [
    "#glacier_raster_x.v.plot()"
   ]
  }
 ],
 "metadata": {
  "kernelspec": {
   "display_name": "mynewbook",
   "language": "python",
   "name": "conda-env-mynewbook-py"
  },
  "language_info": {
   "codemirror_mode": {
    "name": "ipython",
    "version": 3
   },
   "file_extension": ".py",
   "mimetype": "text/x-python",
   "name": "python",
   "nbconvert_exporter": "python",
   "pygments_lexer": "ipython3",
   "version": "3.10.4"
  }
 },
 "nbformat": 4,
 "nbformat_minor": 5
}
