{
 "cells": [
  {
   "cell_type": "code",
   "execution_count": null,
   "metadata": {},
   "outputs": [],
   "source": [
    "import geopandas as gpd\n",
    "import os\n",
    "import numpy as np\n",
    "import xarray as xr\n",
    "import rioxarray as rxr\n",
    "import matplotlib.pyplot as plt\n",
    "from geocube.api.core import make_geocube"
   ]
  },
  {
   "cell_type": "markdown",
   "metadata": {},
   "source": []
  },
  {
   "cell_type": "code",
   "execution_count": null,
   "metadata": {},
   "outputs": [],
   "source": [
    "#read in data from zarr object \n",
    "#None of these links work, get this error: GroupNotFoundError: group not found at path ''\n",
    "# does this error mean the data doesn't exist at this link? \n",
    "ak_zarr1 = \"s3://its-live-data/datacubes/v02/N60W130/ITS_LIVE_vel_EPSG3413_G0120_X-3250000_Y350000.zarr\"\n",
    "ak_zarr2 = \"s3://its-live-data/datacubes/v02/N60W130/ITS_LIVE_vel_EPSG3413_G0120_X-3250000_Y450000.zarr\"\n",
    "ak_zarr3 = \"s3://its-live-data/datacubes/v02/N60W130/ITS_LIVE_vel_EPSG3413_G0120_X-3250000_Y550000.zarr\"\n",
    "ak_zarr4 = \"s3://its-live-data/datacubes/v02/N60W130/ITS_LIVE_vel_EPSG3413_G0120_X-3250000_Y650000.zarr\"\n",
    "\n",
    "\n",
    "\n",
    "#ak_zarr = 's3://its-live-data/datacubes/v02/N50W140/ITS_LIVE_vel_EPSG3413_G0120_X-3250000_Y350000.zarr' #this s3 link is from the itslive notebook (ak near malaspina )\n",
    "\n",
    "\n",
    "\n",
    "#ak_ds1 = xr.open_dataset(ak_zarr1, \n",
    "#                        engine = 'zarr',\n",
    "#                        storage_options = {'anon':True},)\n",
    "\n",
    "#ak_ds2 = xr.open_dataset(ak_zarr2,\n",
    "#                        engine = 'zarr',\n",
    "#                        storage_options = {'anon':True})\n",
    "#ak_ds3 = xr.open_dataset(ak_zarr3,\n",
    "#                        engine = 'zarr',\n",
    "#                        storage_options = {'anon':True})\n",
    "#ak_ds4 = xr.open_dataset(ak_zarr4,\n",
    "#                        engine = 'zarr',\n",
    "#                        storage_options = {'anon':True})"
   ]
  },
  {
   "cell_type": "code",
   "execution_count": null,
   "metadata": {},
   "outputs": [],
   "source": [
    "ak_ds1"
   ]
  },
  {
   "cell_type": "code",
   "execution_count": null,
   "metadata": {},
   "outputs": [],
   "source": [
    "#merge the two downloaded ak datasets into 1 by coords\n",
    "\n",
    "ak_ds1 = ak_ds1.sortby('mid_date', ascending = True)\n",
    "ak_ds2 = ak_ds2.sortby('mid_date', ascending = True)\n",
    "\n",
    "#ak_merge = xr.combine_by_coords([ak_ds1, ak_ds2], compat = 'broadcast_equals')"
   ]
  },
  {
   "cell_type": "code",
   "execution_count": null,
   "metadata": {},
   "outputs": [],
   "source": [
    "fig ,axs = plt.subplots(ncols =2, figsize= (18,7))\n",
    "\n",
    "ak_ds1.v.isel(mid_date=1).plot(ax=axs[0])\n",
    "ak_ds2.v.isel(mid_date=1).plot(ax=axs[1])"
   ]
  },
  {
   "cell_type": "code",
   "execution_count": null,
   "metadata": {},
   "outputs": [],
   "source": [
    "ak_ds.v.isel(mid_date = 1).plot()"
   ]
  },
  {
   "cell_type": "code",
   "execution_count": null,
   "metadata": {},
   "outputs": [],
   "source": []
  }
 ],
 "metadata": {
  "kernelspec": {
   "display_name": "conda-env-mynewbook-py",
   "language": "python",
   "name": "conda-env-mynewbook-py"
  },
  "orig_nbformat": 4
 },
 "nbformat": 4,
 "nbformat_minor": 2
}
