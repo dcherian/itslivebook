{
 "cells": [
  {
   "cell_type": "markdown",
   "id": "71327c0e",
   "metadata": {},
   "source": [
    "# Software and Data\n",
    "\n",
    "On this page you'll find information about the computing environment and datasets that we'll be using in this tutorial. \n",
    "\n",
    "\n",
    "## Computing environment\n",
    "\n",
    "Below, you'lll see a list of the python libraries we'll be using in this example:"
   ]
  },
  {
   "cell_type": "code",
   "execution_count": 1,
   "id": "446021e3",
   "metadata": {},
   "outputs": [],
   "source": [
    "import geopandas as gpd\n",
    "import os\n",
    "import numpy as np\n",
    "import xarray as xr\n",
    "import rioxarray as rxr\n",
    "import matplotlib.pyplot as plt\n",
    "from geocube.api.core import make_geocube"
   ]
  },
  {
   "cell_type": "markdown",
   "id": "b5cbb578",
   "metadata": {},
   "source": [
    "## Datasets\n",
    "\n",
    "We'll be using two datasets in this example. ITS_LIVE is a land ice velocity dataset, its stands for 'Inter-mission Time Series of Land Ice Velocity and Elevation.' The Randolph Glacier Inventory contains glacier outlines and attribute data. Both of these datasets have global coverage. \n",
    "\n",
    "- [Inter-Mission Time Series of Land Ice Velocity and Elevation (ITS_LIVE)].(https://nsidc.org/apps/itslive/)\n",
    "- [Randolph Glacier Inventory (RGI)].(https://www.glims.org/RGI/)\n"
   ]
  },
  {
   "cell_type": "code",
   "execution_count": null,
   "id": "eb56d03c",
   "metadata": {},
   "outputs": [],
   "source": []
  }
 ],
 "metadata": {
  "kernelspec": {
   "display_name": "mynewbook",
   "language": "python",
   "name": "mynewbook"
  },
  "language_info": {
   "codemirror_mode": {
    "name": "ipython",
    "version": 3
   },
   "file_extension": ".py",
   "mimetype": "text/x-python",
   "name": "python",
   "nbconvert_exporter": "python",
   "pygments_lexer": "ipython3",
   "version": "3.10.4"
  }
 },
 "nbformat": 4,
 "nbformat_minor": 5
}
