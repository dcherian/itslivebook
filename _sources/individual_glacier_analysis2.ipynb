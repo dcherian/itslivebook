{
 "cells": [
  {
   "cell_type": "markdown",
   "metadata": {},
   "source": [
    "# Individual glacier analysis 2\n",
    "\n",
    "This notebook will demonstrate the workflow for reading in glacier outlines (vector data) and glacier velocity (raster data) for a large region, extracting the data to examine an individual glacier and performing some preliminary analysis of glacier surface velocities at the scale of an individual glacier"
   ]
  },
  {
   "cell_type": "markdown",
   "metadata": {},
   "source": [
    "We start by installing the necessary software:"
   ]
  },
  {
   "cell_type": "code",
   "execution_count": 1,
   "metadata": {},
   "outputs": [],
   "source": [
    "import xarray as xr\n",
    "from skimage.morphology import skeletonize\n",
    "from shapely.geometry import MultiPolygon\n",
    "import geopandas as gpd\n",
    "import rioxarray as rxr\n",
    "import numpy as np\n",
    "from matplotlib import pyplot as plt"
   ]
  },
  {
   "cell_type": "markdown",
   "metadata": {},
   "source": [
    "Set paths (hopefully move away from this once accessing data from cloud)"
   ]
  },
  {
   "cell_type": "code",
   "execution_count": 2,
   "metadata": {},
   "outputs": [],
   "source": [
    "gen_path = '/Users/emarshall/Desktop/siparcs/data/'\n",
    "rgi_path = '/Users/emarshall/Desktop/siparcs/data/nsidc0770_15.rgi60.SouthAsiaEast/15_rgi60_SouthAsiaEast.shp'"
   ]
  },
  {
   "cell_type": "code",
   "execution_count": 3,
   "metadata": {},
   "outputs": [],
   "source": [
    "gen_path_home = '/Users/emmamarshall/Desktop/phd_research/siparcs/'\n",
    "rgi_path_home = '/Users/emmamarshall/Downloads/15rgi60SouthAsiaEast'"
   ]
  },
  {
   "cell_type": "markdown",
   "metadata": {},
   "source": [
    "## Read in raster data\n",
    "\n",
    "In this example, we'll again by using ITS_LIVE ice velocity data downloaded from the NSIDC DAAC access point (for now)"
   ]
  },
  {
   "cell_type": "code",
   "execution_count": 4,
   "metadata": {},
   "outputs": [
    {
     "ename": "RasterioIOError",
     "evalue": "/Users/emarshall/Desktop/siparcs/data/HMA_G0120_0000.nc: No such file or directory",
     "output_type": "error",
     "traceback": [
      "\u001b[0;31m---------------------------------------------------------------------------\u001b[0m",
      "\u001b[0;31mKeyError\u001b[0m                                  Traceback (most recent call last)",
      "File \u001b[0;32m~/miniconda3/envs/mynewbook/lib/python3.10/site-packages/xarray/backends/file_manager.py:199\u001b[0m, in \u001b[0;36mCachingFileManager._acquire_with_cache_info\u001b[0;34m(self, needs_lock)\u001b[0m\n\u001b[1;32m    198\u001b[0m \u001b[38;5;28;01mtry\u001b[39;00m:\n\u001b[0;32m--> 199\u001b[0m     file \u001b[38;5;241m=\u001b[39m \u001b[38;5;28;43mself\u001b[39;49m\u001b[38;5;241;43m.\u001b[39;49m\u001b[43m_cache\u001b[49m\u001b[43m[\u001b[49m\u001b[38;5;28;43mself\u001b[39;49m\u001b[38;5;241;43m.\u001b[39;49m\u001b[43m_key\u001b[49m\u001b[43m]\u001b[49m\n\u001b[1;32m    200\u001b[0m \u001b[38;5;28;01mexcept\u001b[39;00m \u001b[38;5;167;01mKeyError\u001b[39;00m:\n",
      "File \u001b[0;32m~/miniconda3/envs/mynewbook/lib/python3.10/site-packages/xarray/backends/lru_cache.py:53\u001b[0m, in \u001b[0;36mLRUCache.__getitem__\u001b[0;34m(self, key)\u001b[0m\n\u001b[1;32m     52\u001b[0m \u001b[38;5;28;01mwith\u001b[39;00m \u001b[38;5;28mself\u001b[39m\u001b[38;5;241m.\u001b[39m_lock:\n\u001b[0;32m---> 53\u001b[0m     value \u001b[38;5;241m=\u001b[39m \u001b[38;5;28;43mself\u001b[39;49m\u001b[38;5;241;43m.\u001b[39;49m\u001b[43m_cache\u001b[49m\u001b[43m[\u001b[49m\u001b[43mkey\u001b[49m\u001b[43m]\u001b[49m\n\u001b[1;32m     54\u001b[0m     \u001b[38;5;28mself\u001b[39m\u001b[38;5;241m.\u001b[39m_cache\u001b[38;5;241m.\u001b[39mmove_to_end(key)\n",
      "\u001b[0;31mKeyError\u001b[0m: [<function open at 0x149942dd0>, ('/Users/emarshall/Desktop/siparcs/data/HMA_G0120_0000.nc',), 'r', (('sharing', False),)]",
      "\nDuring handling of the above exception, another exception occurred:\n",
      "\u001b[0;31mCPLE_OpenFailedError\u001b[0m                      Traceback (most recent call last)",
      "File \u001b[0;32mrasterio/_base.pyx:261\u001b[0m, in \u001b[0;36mrasterio._base.DatasetBase.__init__\u001b[0;34m()\u001b[0m\n",
      "File \u001b[0;32mrasterio/_shim.pyx:78\u001b[0m, in \u001b[0;36mrasterio._shim.open_dataset\u001b[0;34m()\u001b[0m\n",
      "File \u001b[0;32mrasterio/_err.pyx:216\u001b[0m, in \u001b[0;36mrasterio._err.exc_wrap_pointer\u001b[0;34m()\u001b[0m\n",
      "\u001b[0;31mCPLE_OpenFailedError\u001b[0m: /Users/emarshall/Desktop/siparcs/data/HMA_G0120_0000.nc: No such file or directory",
      "\nDuring handling of the above exception, another exception occurred:\n",
      "\u001b[0;31mRasterioIOError\u001b[0m                           Traceback (most recent call last)",
      "Input \u001b[0;32mIn [4]\u001b[0m, in \u001b[0;36m<cell line: 1>\u001b[0;34m()\u001b[0m\n\u001b[0;32m----> 1\u001b[0m itslive \u001b[38;5;241m=\u001b[39m \u001b[43mrxr\u001b[49m\u001b[38;5;241;43m.\u001b[39;49m\u001b[43mopen_rasterio\u001b[49m\u001b[43m(\u001b[49m\u001b[43mgen_path\u001b[49m\u001b[43m \u001b[49m\u001b[38;5;241;43m+\u001b[39;49m\u001b[43m \u001b[49m\u001b[38;5;124;43m'\u001b[39;49m\u001b[38;5;124;43mHMA_G0120_0000.nc\u001b[39;49m\u001b[38;5;124;43m'\u001b[39;49m\u001b[43m)\u001b[49m\u001b[38;5;241m.\u001b[39msqueeze()\n",
      "File \u001b[0;32m~/miniconda3/envs/mynewbook/lib/python3.10/site-packages/rioxarray/_io.py:843\u001b[0m, in \u001b[0;36mopen_rasterio\u001b[0;34m(filename, parse_coordinates, chunks, cache, lock, masked, mask_and_scale, variable, group, default_name, decode_times, decode_timedelta, **open_kwargs)\u001b[0m\n\u001b[1;32m    841\u001b[0m     \u001b[38;5;28;01melse\u001b[39;00m:\n\u001b[1;32m    842\u001b[0m         manager \u001b[38;5;241m=\u001b[39m URIManager(rasterio\u001b[38;5;241m.\u001b[39mopen, filename, mode\u001b[38;5;241m=\u001b[39m\u001b[38;5;124m\"\u001b[39m\u001b[38;5;124mr\u001b[39m\u001b[38;5;124m\"\u001b[39m, kwargs\u001b[38;5;241m=\u001b[39mopen_kwargs)\n\u001b[0;32m--> 843\u001b[0m     riods \u001b[38;5;241m=\u001b[39m \u001b[43mmanager\u001b[49m\u001b[38;5;241;43m.\u001b[39;49m\u001b[43macquire\u001b[49m\u001b[43m(\u001b[49m\u001b[43m)\u001b[49m\n\u001b[1;32m    844\u001b[0m     captured_warnings \u001b[38;5;241m=\u001b[39m rio_warnings\u001b[38;5;241m.\u001b[39mcopy()\n\u001b[1;32m    846\u001b[0m \u001b[38;5;66;03m# raise the NotGeoreferencedWarning if applicable\u001b[39;00m\n",
      "File \u001b[0;32m~/miniconda3/envs/mynewbook/lib/python3.10/site-packages/xarray/backends/file_manager.py:181\u001b[0m, in \u001b[0;36mCachingFileManager.acquire\u001b[0;34m(self, needs_lock)\u001b[0m\n\u001b[1;32m    166\u001b[0m \u001b[38;5;28;01mdef\u001b[39;00m \u001b[38;5;21macquire\u001b[39m(\u001b[38;5;28mself\u001b[39m, needs_lock\u001b[38;5;241m=\u001b[39m\u001b[38;5;28;01mTrue\u001b[39;00m):\n\u001b[1;32m    167\u001b[0m     \u001b[38;5;124;03m\"\"\"Acquire a file object from the manager.\u001b[39;00m\n\u001b[1;32m    168\u001b[0m \n\u001b[1;32m    169\u001b[0m \u001b[38;5;124;03m    A new file is only opened if it has expired from the\u001b[39;00m\n\u001b[0;32m   (...)\u001b[0m\n\u001b[1;32m    179\u001b[0m \u001b[38;5;124;03m        An open file object, as returned by ``opener(*args, **kwargs)``.\u001b[39;00m\n\u001b[1;32m    180\u001b[0m \u001b[38;5;124;03m    \"\"\"\u001b[39;00m\n\u001b[0;32m--> 181\u001b[0m     file, _ \u001b[38;5;241m=\u001b[39m \u001b[38;5;28;43mself\u001b[39;49m\u001b[38;5;241;43m.\u001b[39;49m\u001b[43m_acquire_with_cache_info\u001b[49m\u001b[43m(\u001b[49m\u001b[43mneeds_lock\u001b[49m\u001b[43m)\u001b[49m\n\u001b[1;32m    182\u001b[0m     \u001b[38;5;28;01mreturn\u001b[39;00m file\n",
      "File \u001b[0;32m~/miniconda3/envs/mynewbook/lib/python3.10/site-packages/xarray/backends/file_manager.py:205\u001b[0m, in \u001b[0;36mCachingFileManager._acquire_with_cache_info\u001b[0;34m(self, needs_lock)\u001b[0m\n\u001b[1;32m    203\u001b[0m     kwargs \u001b[38;5;241m=\u001b[39m kwargs\u001b[38;5;241m.\u001b[39mcopy()\n\u001b[1;32m    204\u001b[0m     kwargs[\u001b[38;5;124m\"\u001b[39m\u001b[38;5;124mmode\u001b[39m\u001b[38;5;124m\"\u001b[39m] \u001b[38;5;241m=\u001b[39m \u001b[38;5;28mself\u001b[39m\u001b[38;5;241m.\u001b[39m_mode\n\u001b[0;32m--> 205\u001b[0m file \u001b[38;5;241m=\u001b[39m \u001b[38;5;28;43mself\u001b[39;49m\u001b[38;5;241;43m.\u001b[39;49m\u001b[43m_opener\u001b[49m\u001b[43m(\u001b[49m\u001b[38;5;241;43m*\u001b[39;49m\u001b[38;5;28;43mself\u001b[39;49m\u001b[38;5;241;43m.\u001b[39;49m\u001b[43m_args\u001b[49m\u001b[43m,\u001b[49m\u001b[43m \u001b[49m\u001b[38;5;241;43m*\u001b[39;49m\u001b[38;5;241;43m*\u001b[39;49m\u001b[43mkwargs\u001b[49m\u001b[43m)\u001b[49m\n\u001b[1;32m    206\u001b[0m \u001b[38;5;28;01mif\u001b[39;00m \u001b[38;5;28mself\u001b[39m\u001b[38;5;241m.\u001b[39m_mode \u001b[38;5;241m==\u001b[39m \u001b[38;5;124m\"\u001b[39m\u001b[38;5;124mw\u001b[39m\u001b[38;5;124m\"\u001b[39m:\n\u001b[1;32m    207\u001b[0m     \u001b[38;5;66;03m# ensure file doesn't get overridden when opened again\u001b[39;00m\n\u001b[1;32m    208\u001b[0m     \u001b[38;5;28mself\u001b[39m\u001b[38;5;241m.\u001b[39m_mode \u001b[38;5;241m=\u001b[39m \u001b[38;5;124m\"\u001b[39m\u001b[38;5;124ma\u001b[39m\u001b[38;5;124m\"\u001b[39m\n",
      "File \u001b[0;32m~/miniconda3/envs/mynewbook/lib/python3.10/site-packages/rasterio/env.py:437\u001b[0m, in \u001b[0;36mensure_env_with_credentials.<locals>.wrapper\u001b[0;34m(*args, **kwds)\u001b[0m\n\u001b[1;32m    434\u001b[0m     session \u001b[38;5;241m=\u001b[39m DummySession()\n\u001b[1;32m    436\u001b[0m \u001b[38;5;28;01mwith\u001b[39;00m env_ctor(session\u001b[38;5;241m=\u001b[39msession):\n\u001b[0;32m--> 437\u001b[0m     \u001b[38;5;28;01mreturn\u001b[39;00m \u001b[43mf\u001b[49m\u001b[43m(\u001b[49m\u001b[38;5;241;43m*\u001b[39;49m\u001b[43margs\u001b[49m\u001b[43m,\u001b[49m\u001b[43m \u001b[49m\u001b[38;5;241;43m*\u001b[39;49m\u001b[38;5;241;43m*\u001b[39;49m\u001b[43mkwds\u001b[49m\u001b[43m)\u001b[49m\n",
      "File \u001b[0;32m~/miniconda3/envs/mynewbook/lib/python3.10/site-packages/rasterio/__init__.py:220\u001b[0m, in \u001b[0;36mopen\u001b[0;34m(fp, mode, driver, width, height, count, crs, transform, dtype, nodata, sharing, **kwargs)\u001b[0m\n\u001b[1;32m    216\u001b[0m \u001b[38;5;66;03m# Create dataset instances and pass the given env, which will\u001b[39;00m\n\u001b[1;32m    217\u001b[0m \u001b[38;5;66;03m# be taken over by the dataset's context manager if it is not\u001b[39;00m\n\u001b[1;32m    218\u001b[0m \u001b[38;5;66;03m# None.\u001b[39;00m\n\u001b[1;32m    219\u001b[0m \u001b[38;5;28;01mif\u001b[39;00m mode \u001b[38;5;241m==\u001b[39m \u001b[38;5;124m'\u001b[39m\u001b[38;5;124mr\u001b[39m\u001b[38;5;124m'\u001b[39m:\n\u001b[0;32m--> 220\u001b[0m     s \u001b[38;5;241m=\u001b[39m \u001b[43mDatasetReader\u001b[49m\u001b[43m(\u001b[49m\u001b[43mpath\u001b[49m\u001b[43m,\u001b[49m\u001b[43m \u001b[49m\u001b[43mdriver\u001b[49m\u001b[38;5;241;43m=\u001b[39;49m\u001b[43mdriver\u001b[49m\u001b[43m,\u001b[49m\u001b[43m \u001b[49m\u001b[43msharing\u001b[49m\u001b[38;5;241;43m=\u001b[39;49m\u001b[43msharing\u001b[49m\u001b[43m,\u001b[49m\u001b[43m \u001b[49m\u001b[38;5;241;43m*\u001b[39;49m\u001b[38;5;241;43m*\u001b[39;49m\u001b[43mkwargs\u001b[49m\u001b[43m)\u001b[49m\n\u001b[1;32m    221\u001b[0m \u001b[38;5;28;01melif\u001b[39;00m mode \u001b[38;5;241m==\u001b[39m \u001b[38;5;124m\"\u001b[39m\u001b[38;5;124mr+\u001b[39m\u001b[38;5;124m\"\u001b[39m:\n\u001b[1;32m    222\u001b[0m     s \u001b[38;5;241m=\u001b[39m get_writer_for_path(path, driver\u001b[38;5;241m=\u001b[39mdriver)(\n\u001b[1;32m    223\u001b[0m         path, mode, driver\u001b[38;5;241m=\u001b[39mdriver, sharing\u001b[38;5;241m=\u001b[39msharing, \u001b[38;5;241m*\u001b[39m\u001b[38;5;241m*\u001b[39mkwargs\n\u001b[1;32m    224\u001b[0m     )\n",
      "File \u001b[0;32mrasterio/_base.pyx:263\u001b[0m, in \u001b[0;36mrasterio._base.DatasetBase.__init__\u001b[0;34m()\u001b[0m\n",
      "\u001b[0;31mRasterioIOError\u001b[0m: /Users/emarshall/Desktop/siparcs/data/HMA_G0120_0000.nc: No such file or directory"
     ]
    }
   ],
   "source": [
    "itslive = rxr.open_rasterio(gen_path + 'HMA_G0120_0000.nc').squeeze()"
   ]
  },
  {
   "cell_type": "markdown",
   "metadata": {},
   "source": [
    "What CRS is this dataset in?"
   ]
  },
  {
   "cell_type": "code",
   "execution_count": 5,
   "metadata": {},
   "outputs": [
    {
     "ename": "NameError",
     "evalue": "name 'itslive' is not defined",
     "output_type": "error",
     "traceback": [
      "\u001b[0;31m---------------------------------------------------------------------------\u001b[0m",
      "\u001b[0;31mNameError\u001b[0m                                 Traceback (most recent call last)",
      "Input \u001b[0;32mIn [5]\u001b[0m, in \u001b[0;36m<cell line: 1>\u001b[0;34m()\u001b[0m\n\u001b[0;32m----> 1\u001b[0m \u001b[43mitslive\u001b[49m\u001b[38;5;241m.\u001b[39mrio\u001b[38;5;241m.\u001b[39mcrs\n",
      "\u001b[0;31mNameError\u001b[0m: name 'itslive' is not defined"
     ]
    }
   ],
   "source": [
    "itslive.rio.crs"
   ]
  },
  {
   "cell_type": "code",
   "execution_count": 6,
   "metadata": {},
   "outputs": [
    {
     "ename": "NameError",
     "evalue": "name 'itslive' is not defined",
     "output_type": "error",
     "traceback": [
      "\u001b[0;31m---------------------------------------------------------------------------\u001b[0m",
      "\u001b[0;31mNameError\u001b[0m                                 Traceback (most recent call last)",
      "Input \u001b[0;32mIn [6]\u001b[0m, in \u001b[0;36m<cell line: 1>\u001b[0;34m()\u001b[0m\n\u001b[0;32m----> 1\u001b[0m \u001b[43mitslive\u001b[49m\u001b[38;5;241m.\u001b[39mv\u001b[38;5;241m.\u001b[39mplot()\n",
      "\u001b[0;31mNameError\u001b[0m: name 'itslive' is not defined"
     ]
    }
   ],
   "source": [
    "itslive.v.plot()"
   ]
  },
  {
   "cell_type": "code",
   "execution_count": null,
   "metadata": {},
   "outputs": [],
   "source": [
    "itslive.v.UTM_Projection.GeoTransform"
   ]
  },
  {
   "cell_type": "markdown",
   "metadata": {},
   "source": [
    "It looks like the ITS_LIVE data is in the Asia North Lambert Conformal Conic coordinate reference system. When we read in the vector data and begin to work with it we will need to project it to match this."
   ]
  },
  {
   "cell_type": "markdown",
   "metadata": {},
   "source": [
    "## Read in vector data\n",
    "\n",
    "The glacier outline and attribute data we will be using is from the Randolph Glacier Inventory (RGI). The RGI contains data for glaciers worldwide and is divided into 19 primary regions. We will read in one region (South Asia East) here. "
   ]
  },
  {
   "cell_type": "code",
   "execution_count": null,
   "metadata": {},
   "outputs": [],
   "source": [
    "#se_asia = gpd.read_file(gen_path_home[:-9] + 'data/nsidc0770_15.rgi60.SouthAsiaEast/15_rgi60_SouthAsiaEast.shp')\n",
    "se_asia = gpd.read_file(rgi_path)\n"
   ]
  },
  {
   "cell_type": "markdown",
   "metadata": {},
   "source": [
    "And let's explore this data a bit by looking at:\n",
    "- the number of glaciers within the dataset\n",
    "- the spatial extent of the dataset\n",
    "- the coordinate reference system of the dataset\n"
   ]
  },
  {
   "cell_type": "code",
   "execution_count": null,
   "metadata": {},
   "outputs": [],
   "source": [
    "print('Number of glaciers in dataset: ', len(se_asia['RGIId']))"
   ]
  },
  {
   "cell_type": "code",
   "execution_count": null,
   "metadata": {},
   "outputs": [],
   "source": [
    "se_asia.plot()"
   ]
  },
  {
   "cell_type": "code",
   "execution_count": null,
   "metadata": {},
   "outputs": [],
   "source": [
    "print('CRS: ', se_asia.crs)"
   ]
  },
  {
   "cell_type": "markdown",
   "metadata": {},
   "source": [
    "The RGI glacier outline dataframe is in lat/lon so let's project it to match the raster data:\n",
    "If you look at the geoemtry column of the projected dataset you will see that the coordinates are now in meters instead of degrees."
   ]
  },
  {
   "cell_type": "code",
   "execution_count": null,
   "metadata": {},
   "outputs": [],
   "source": [
    "se_asia_prj = se_asia.to_crs('+proj=lcc +lat_1=15 +lat_2=65 +lat_0=30 +lon_0=95 +x_0=0 +y_0=0 +ellps=WGS84 +datum=WGS84 +units=m no_defs')\n",
    "se_asia_prj"
   ]
  },
  {
   "cell_type": "markdown",
   "metadata": {},
   "source": [
    "## Clipping raster data by a vector\n",
    "\n",
    "Now, let's focus on just a single glacier. To start with, let's look at the five largest (in area) glaciers in the dataset and choose one of those."
   ]
  },
  {
   "cell_type": "code",
   "execution_count": null,
   "metadata": {},
   "outputs": [],
   "source": [
    "se_asia.sort_values(by = 'Area', ascending=False).head()"
   ]
  },
  {
   "cell_type": "markdown",
   "metadata": {},
   "source": [
    "To start with, let's look at the glacier with the RGIId RGI60-15.11926 and an area of 96.283 km2. "
   ]
  },
  {
   "cell_type": "code",
   "execution_count": null,
   "metadata": {},
   "outputs": [],
   "source": [
    "rgi11926 = se_asia_prj.loc[se_asia_prj['RGIId'] == 'RGI60-15.11926']\n",
    "rgi11926"
   ]
  },
  {
   "cell_type": "code",
   "execution_count": null,
   "metadata": {},
   "outputs": [],
   "source": [
    "raster_11926 = itslive.rio.clip(rgi11926.geometry, rgi11926.crs)"
   ]
  },
  {
   "cell_type": "code",
   "execution_count": null,
   "metadata": {},
   "outputs": [],
   "source": [
    "#turn non-ice pixels to NaN (previously -32767.)\n",
    "clipped_raster11926 = xr.where(raster_11926.ice == 1., raster_11926, np.NaN)"
   ]
  },
  {
   "cell_type": "markdown",
   "metadata": {},
   "source": [
    "## Extract glacier centerline\n",
    "\n",
    "- using scikit-image skeletonize()\n",
    "- probably not the best/ideal way to do this, for now wanted to have an example but maybe not worth including here? "
   ]
  },
  {
   "cell_type": "code",
   "execution_count": null,
   "metadata": {},
   "outputs": [],
   "source": [
    "def extract_glacier_centerline(glacier_gpdf, full_scene_raster):\n",
    "    ''' This function should take in a vector outline of a single glacier and a xr object of glacier velocity data (full scene) \n",
    "    and return a dictionary (?) with 2 keys and values corresponding to two xarray objects: one showing the full 2d extent of \n",
    "    raster data clipped to the glacier outline and one with the extracted glacier centerline'''\n",
    "\n",
    "    #clip raster by vector\n",
    "    clipped_raster = full_scene_raster.rio.clip(glacier_gpdf.geometry, glacier_gpdf.crs)\n",
    "\n",
    "    #turn non-ice pixels to NaN (previously -32767.)\n",
    "    clipped_raster = xr.where(clipped_raster.ice == 1., clipped_raster, np.NaN)\n",
    "\n",
    "    #extract centerline - this is a xr DataArray that only has an boolean array representing centerline\n",
    "    centerline_da = clipped_raster.ice.reduce(skeletonize)\n",
    "\n",
    "    #create xarray dataset with centerline extracted for all data vars\n",
    "    centerline_ds = clipped_raster.where(centerline_da != False)\n",
    "\n",
    "    #wrap into dict\n",
    "    glacier_dict = {'clipped_to_ice': clipped_raster,\n",
    "                    'centerline': centerline_ds\n",
    "                    }\n",
    "\n",
    "    return glacier_dict"
   ]
  },
  {
   "cell_type": "code",
   "execution_count": null,
   "metadata": {},
   "outputs": [],
   "source": [
    "g11926_dict = extract_glacier_centerline(rgi11926, itslive)\n",
    "g11926_cl = g11926_dict['centerline']\n",
    "g11926_cl.v.plot()"
   ]
  },
  {
   "cell_type": "code",
   "execution_count": null,
   "metadata": {},
   "outputs": [],
   "source": [
    "fig, axs = plt.subplots(ncols=2, figsize= (14,7))\n",
    "\n",
    "g11926_cl.v.plot(ax=axs[0])\n",
    "g11926_dict['clipped_to_ice'].v.plot(ax=axs[1])"
   ]
  },
  {
   "cell_type": "code",
   "execution_count": null,
   "metadata": {},
   "outputs": [],
   "source": [
    "g06681_dict = extract_glacier_centerline(rgi06681, itslive)"
   ]
  },
  {
   "cell_type": "markdown",
   "metadata": {},
   "source": [
    "### non-function examples below"
   ]
  },
  {
   "cell_type": "code",
   "execution_count": null,
   "metadata": {},
   "outputs": [],
   "source": [
    "centerline_11926_da = clipped_raster11926.ice.reduce(skeletonize)\n",
    "centerline_11926_da.plot()\n",
    "type(centerline_11926_da)"
   ]
  },
  {
   "cell_type": "code",
   "execution_count": null,
   "metadata": {},
   "outputs": [],
   "source": [
    "centerline_11926_ds = clipped_raster11926.where(centerline_11926_da != False)\n",
    "centerline_11926_ds.v.plot()"
   ]
  },
  {
   "cell_type": "code",
   "execution_count": null,
   "metadata": {},
   "outputs": [],
   "source": [
    "g11926_dict = {'full':raster_11926,\n",
    "                'clipped_to_ice': clipped_raster11926,\n",
    "                'centerline': centerline_11926_ds}"
   ]
  },
  {
   "cell_type": "code",
   "execution_count": null,
   "metadata": {},
   "outputs": [],
   "source": [
    "g11926_dict = extract_glacier_centerline(rgi11926, itslive)\n",
    "g11926_cl = g11926_dict['centerline']\n",
    "g11926_cl.v.plot()"
   ]
  },
  {
   "cell_type": "code",
   "execution_count": null,
   "metadata": {},
   "outputs": [],
   "source": [
    "fig, axs = plt.subplots(ncols=2, figsize= (14,7))\n",
    "\n",
    "g11926_cl.v.plot(ax=axs[0])\n",
    "g11926_dict['clipped_to_ice'].v.plot(ax=axs[1])"
   ]
  },
  {
   "cell_type": "code",
   "execution_count": null,
   "metadata": {},
   "outputs": [],
   "source": [
    "g06681_dict = extract_glacier_centerline(rgi06681, itslive)"
   ]
  },
  {
   "cell_type": "code",
   "execution_count": null,
   "metadata": {},
   "outputs": [],
   "source": [
    "g06681_dict.keys()"
   ]
  },
  {
   "cell_type": "code",
   "execution_count": null,
   "metadata": {},
   "outputs": [],
   "source": [
    "g06681_cl = g06681_dict['centerline']\n",
    "g06681_cl.v.plot()"
   ]
  },
  {
   "cell_type": "code",
   "execution_count": null,
   "metadata": {},
   "outputs": [],
   "source": [
    "rgi06681 = se_asia_prj.loc[se_asia_prj['RGIId'] == 'RGI60-15.06681']\n",
    "se_asia_prj.sort_values('Area', ascending=False).head()"
   ]
  },
  {
   "cell_type": "markdown",
   "metadata": {},
   "source": [
    "### A second glacier"
   ]
  },
  {
   "cell_type": "code",
   "execution_count": null,
   "metadata": {},
   "outputs": [],
   "source": [
    "rgi11909 = se_asia_prj.loc[se_asia_prj['RGIId'] == 'RGI60-15.11909']\n",
    "rgi11909"
   ]
  },
  {
   "cell_type": "code",
   "execution_count": null,
   "metadata": {},
   "outputs": [],
   "source": [
    "raster_11909 = itslive.rio.clip(rgi11909.geometry, rgi11909.crs)"
   ]
  },
  {
   "cell_type": "code",
   "execution_count": null,
   "metadata": {},
   "outputs": [],
   "source": [
    "#turn non-ice pixels to NaN ()\n",
    "clipped_raster11909 = xr.where(raster_11909.ice == 1., raster_11909, np.NaN)"
   ]
  },
  {
   "cell_type": "markdown",
   "metadata": {},
   "source": [
    "Compare different skeletonize algorithms:"
   ]
  },
  {
   "cell_type": "code",
   "execution_count": null,
   "metadata": {},
   "outputs": [],
   "source": [
    "fig, axes = plt.subplots(ncols=3, figsize = (14,4), sharex=True, sharey=True)\n",
    "\n",
    "ax = axes.ravel()\n",
    "\n",
    "ax[0].imshow(just_ice.v, cmap=plt.cm.cividis)\n",
    "ax[0].axis('off')\n",
    "ax[0].set_title('Glacier velocity', fontsize=14)\n",
    "ax[0].imshow(skeleton_ice, cmap=plt.cm.Reds, alpha = 0.2)\n",
    "ax[0].imshow(skeleton_ice_lee, cmap=plt.cm.Greens, alpha = 0.2)\n",
    "\n",
    "\n",
    "ax[1].imshow(skeleton_ice, cmap=plt.cm.Reds)\n",
    "ax[1].axis('off')\n",
    "ax[1].set_title('skeleton', fontsize=14)\n",
    "\n",
    "ax[2].imshow(skeleton_ice_lee, cmap=plt.cm.Greens)\n",
    "ax[2].axis('off')\n",
    "ax[2].set_title('skeleton (lee)', fontsize=14)\n",
    "\n",
    "fig.tight_layout()\n",
    "fig.show"
   ]
  },
  {
   "cell_type": "markdown",
   "metadata": {},
   "source": [
    "## Make xarray object out of centerline bool mask\n",
    "- should have the same coords as the velocity xarray object"
   ]
  },
  {
   "cell_type": "code",
   "execution_count": null,
   "metadata": {},
   "outputs": [],
   "source": [
    "centerline_da = xr.DataArray(\n",
    "    skeleton_ice,\n",
    "    dims=(\"y\", \"x\"),\n",
    "    coords={\n",
    "        \"x\": glacier_raster.coords['x'].data,\n",
    "        \"y\": glacier_raster.coords['y'].data}\n",
    ")\n",
    "\n",
    "\n",
    "centerline_da.plot()"
   ]
  },
  {
   "cell_type": "code",
   "execution_count": null,
   "metadata": {},
   "outputs": [],
   "source": [
    "centerline_da"
   ]
  },
  {
   "cell_type": "markdown",
   "metadata": {},
   "source": [
    "### Extract itslive xarray dataset data only at points along centerline\n",
    "- this should return a dataset with the same data vars but only data along centerline"
   ]
  },
  {
   "cell_type": "code",
   "execution_count": null,
   "metadata": {},
   "outputs": [],
   "source": [
    "centerline_ds = glacier_raster.where(da != False)"
   ]
  },
  {
   "cell_type": "code",
   "execution_count": null,
   "metadata": {},
   "outputs": [],
   "source": [
    "centerline_ds"
   ]
  },
  {
   "cell_type": "code",
   "execution_count": null,
   "metadata": {},
   "outputs": [],
   "source": [
    "fig, axs = plt.subplots(ncols = 2, figsize=(20,8))\n",
    "just_ice.ice.plot(ax=axs[0], cmap=plt.cm.cividis)\n",
    "centerline_ds.v.plot(ax=axs[0])\n",
    "\n",
    "just_ice.v.plot(ax=axs[1])"
   ]
  },
  {
   "cell_type": "markdown",
   "metadata": {},
   "source": [
    "### Experimenting with skeletonize v. thin (scikit image)"
   ]
  },
  {
   "cell_type": "code",
   "execution_count": null,
   "metadata": {},
   "outputs": [],
   "source": [
    "just_ice.ice.plot()"
   ]
  },
  {
   "cell_type": "code",
   "execution_count": null,
   "metadata": {},
   "outputs": [],
   "source": [
    "from skimage.morphology import skeletonize, thin\n",
    "\n",
    "thinned = thin(just_ice.ice)\n",
    "#thinned_partial = thin(just_ice.ice.data, max_num_iter = 50)\n",
    "\n",
    "plt.imshow(thinned)"
   ]
  },
  {
   "cell_type": "code",
   "execution_count": null,
   "metadata": {},
   "outputs": [],
   "source": [
    "fig, axs = plt.subplots(ncols=2)\n",
    "\n",
    "axs[0].imshow(thinned, cmap=plt.cm.gray)\n",
    "axs[0].set_title('thinned')\n",
    "axs[0].axis('off')\n",
    "\n",
    "axs[1].imshow(thinned_partial, cmap=plt.cm.gray)\n",
    "axs[1].set_title('thinned partial')\n",
    "axs[1].axis('off')\n",
    "\n"
   ]
  },
  {
   "cell_type": "code",
   "execution_count": null,
   "metadata": {},
   "outputs": [],
   "source": []
  }
 ],
 "metadata": {
  "kernelspec": {
   "display_name": "conda-env-mynewbook-py",
   "language": "python",
   "name": "conda-env-mynewbook-py"
  },
  "language_info": {
   "codemirror_mode": {
    "name": "ipython",
    "version": 3
   },
   "file_extension": ".py",
   "mimetype": "text/x-python",
   "name": "python",
   "nbconvert_exporter": "python",
   "pygments_lexer": "ipython3",
   "version": "3.10.4"
  }
 },
 "nbformat": 4,
 "nbformat_minor": 2
}
