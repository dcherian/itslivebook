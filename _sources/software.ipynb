{
 "cells": [
  {
   "cell_type": "markdown",
   "id": "71327c0e",
   "metadata": {},
   "source": [
    "# Software and Data\n",
    "\n",
    "On this page you'll find information about the computing environment and datasets that we'll be using in this tutorial.   \n",
    "\n",
    "\n",
    "## Computing environment\n",
    "\n",
    "Below, you'lll see a list of the python libraries we'll be using in this example:"
   ]
  },
  {
   "cell_type": "code",
   "execution_count": 1,
   "id": "446021e3",
   "metadata": {
    "vscode": {
     "languageId": "python"
    }
   },
   "outputs": [],
   "source": [
    "import geopandas as gpd\n",
    "import os\n",
    "import numpy as np\n",
    "import xarray as xr\n",
    "import rioxarray as rxr\n",
    "import matplotlib.pyplot as plt\n",
    "import matplotlib.ticker as mticker\n",
    "from shapely.geometry import Polygon\n",
    "from shapely.geometry import Point\n",
    "import cartopy.crs as ccrs\n",
    "from cartopy.mpl.gridliner import LONGITUDE_FORMATTER, LATITUDE_FORMATTER\n",
    "import cartopy\n",
    "import cartopy.feature as cfeature\n",
    "import json\n",
    "from geocube.api.core import make_geocube\n",
    "import urllib.request\n",
    "from skimage.morphology import skeletonize\n",
    "import pandas as pd\n",
    "import seaborn as sns "
   ]
  },
  {
   "cell_type": "markdown",
   "id": "29b773e4",
   "metadata": {},
   "source": [
    "## Data\n",
    "\n",
    "The velocity data that we'll be using is from the  [ITS_LIVE dataset](https://its-live.jpl.nasa.gov/#access). This dataset contains global coverage of land ice velocity data at various temporal frequencies and in various formats. Follow the link to explore the data that's available for a particular region you may be interested in. \n",
    "\n",
    "The ITS_LIVE velocity data is accessed in a raster format and the data covers a large swath of terrain covering land that is glaciated and non-glaciated. We want to select just the pixels that cover glaciated surfaces; to do this, we use glacier outlines from the [Randolph Glacier Inventory](https://www.glims.org/RGI/). \n",
    "\n",
    "Head to the next page to see how we start accessing and working with this data \n"
   ]
  }
 ],
 "metadata": {
  "kernelspec": {
   "display_name": "mynewbook",
   "language": "python",
   "name": "conda-env-mynewbook-py"
  },
  "language_info": {
   "codemirror_mode": {
    "name": "ipython",
    "version": 3
   },
   "file_extension": ".py",
   "mimetype": "text/x-python",
   "name": "python",
   "nbconvert_exporter": "python",
   "pygments_lexer": "ipython3",
   "version": "3.10.4"
  }
 },
 "nbformat": 4,
 "nbformat_minor": 5
}
